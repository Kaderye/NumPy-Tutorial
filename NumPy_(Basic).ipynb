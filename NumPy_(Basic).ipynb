{
  "nbformat": 4,
  "nbformat_minor": 0,
  "metadata": {
    "colab": {
      "provenance": [],
      "authorship_tag": "ABX9TyPawskA/9LOLwPLR5HpOvt2",
      "include_colab_link": true
    },
    "kernelspec": {
      "name": "python3",
      "display_name": "Python 3"
    },
    "language_info": {
      "name": "python"
    }
  },
  "cells": [
    {
      "cell_type": "markdown",
      "metadata": {
        "id": "view-in-github",
        "colab_type": "text"
      },
      "source": [
        "<a href=\"https://colab.research.google.com/github/Kaderye/NumPy-Tutorial/blob/main/NumPy_(Basic).ipynb\" target=\"_parent\"><img src=\"https://colab.research.google.com/assets/colab-badge.svg\" alt=\"Open In Colab\"/></a>"
      ]
    },
    {
      "cell_type": "markdown",
      "source": [
        "# **NumPy Tutorial (Basic)**"
      ],
      "metadata": {
        "id": "v-mGhK5Pm80B"
      }
    },
    {
      "cell_type": "markdown",
      "source": [
        "**NumPy Introduction**\n",
        "\n",
        "---\n",
        "\n"
      ],
      "metadata": {
        "id": "w4kIuuz6n3bf"
      }
    },
    {
      "cell_type": "markdown",
      "source": [
        "NumPy stands for Numerical Python.\n",
        "\n",
        "It is a python library used for working with arrays.\n",
        "\n",
        "NumPy was created by Travis Oliphant in 2005.\n",
        "\n",
        "It is an open source project."
      ],
      "metadata": {
        "id": "zUfufjf2qQVP"
      }
    },
    {
      "cell_type": "markdown",
      "source": [
        "**Why use NumPy?**\n",
        "\n",
        "NumPy provides an array object that is up to 50x faster than traditional python lists.\n",
        "\n",
        "The array object in NumPy is called ndarray, it provides a lot of supporting functions."
      ],
      "metadata": {
        "id": "ctCdrH5epOFH"
      }
    },
    {
      "cell_type": "markdown",
      "source": [
        "**NumPy codebase:** https://github.com/numpy/numpy"
      ],
      "metadata": {
        "id": "8ytVst9wp_mo"
      }
    },
    {
      "cell_type": "markdown",
      "source": [
        "**NumPy Getting Started**\n",
        "\n",
        "---\n",
        "\n"
      ],
      "metadata": {
        "id": "EzZINt5-qmfR"
      }
    },
    {
      "cell_type": "markdown",
      "source": [
        "If you have Python and PIP already installed on a system, then installation of NumPy is very easy."
      ],
      "metadata": {
        "id": "Xbnf0aeiqsNX"
      }
    },
    {
      "cell_type": "markdown",
      "source": [
        "C:\\Users\\Your Name>**pip install numpy**"
      ],
      "metadata": {
        "id": "JerQbXHerO4p"
      }
    },
    {
      "cell_type": "markdown",
      "source": [
        "If this command fails, then use a python distribution that already has NumPy istalled like, Anaconda, Spyder."
      ],
      "metadata": {
        "id": "1q5IcXAFq_I_"
      }
    },
    {
      "cell_type": "code",
      "source": [
        "# import NumPy module\n",
        "import numpy\n",
        "number_list = [1, 2, 3, 4, 5, 6, 7, 8, 9, 10]\n",
        "arr = numpy.array(number_list)\n",
        "print(f\"The output of array: {arr}\")\n",
        "print(f\"The type of NumPy is: {type(arr)}\")"
      ],
      "metadata": {
        "colab": {
          "base_uri": "https://localhost:8080/"
        },
        "id": "gXFHScjXsKIA",
        "outputId": "93de8c29-a0ee-44f0-a990-10b212425e47"
      },
      "execution_count": null,
      "outputs": [
        {
          "output_type": "stream",
          "name": "stdout",
          "text": [
            "The output of array: [ 1  2  3  4  5  6  7  8  9 10]\n",
            "The type of NumPy is: <class 'numpy.ndarray'>\n"
          ]
        }
      ]
    },
    {
      "cell_type": "code",
      "source": [
        "# import NumPy module as np\n",
        "import numpy as np\n",
        "name_list = ['Abdul', 'Karim', 'Shohan', 'Razon', 'Mizan']\n",
        "arr = np.array(name_list)\n",
        "print(f\"The output of array: {arr}\")\n",
        "print(f\"The type of NumPy is: {type(arr)}\")"
      ],
      "metadata": {
        "colab": {
          "base_uri": "https://localhost:8080/"
        },
        "id": "4UUEbRTHrbz3",
        "outputId": "85de7179-1408-49ad-b13a-5f68f6c50751"
      },
      "execution_count": null,
      "outputs": [
        {
          "output_type": "stream",
          "name": "stdout",
          "text": [
            "The output of array: ['Abdul' 'Karim' 'Shohan' 'Razon' 'Mizan']\n",
            "The type of NumPy is: <class 'numpy.ndarray'>\n"
          ]
        }
      ]
    },
    {
      "cell_type": "code",
      "source": [
        "# checking the version of NumPy\n",
        "import numpy as np\n",
        "print(f\"The isntalled version is: {np.__version__}\")"
      ],
      "metadata": {
        "colab": {
          "base_uri": "https://localhost:8080/"
        },
        "id": "GNWC1Q1usUx5",
        "outputId": "a91ae330-06fb-4c19-ea5e-5e5653e08ba9"
      },
      "execution_count": null,
      "outputs": [
        {
          "output_type": "stream",
          "name": "stdout",
          "text": [
            "The isntalled version is: 2.0.2\n"
          ]
        }
      ]
    },
    {
      "cell_type": "markdown",
      "source": [
        "**NumPy Getting Arrays**\n",
        "\n",
        "---\n",
        "\n"
      ],
      "metadata": {
        "id": "QMmLmHeisvKj"
      }
    },
    {
      "cell_type": "code",
      "source": [
        "# NumPy is used to work with arrays. The array object in NumPy is called ndarray.\n",
        "\n",
        "# create a NumPy ndarray oject\n",
        "import numpy as np\n",
        "arr = np.array([1, 2, 3, 4, 5, 6, 7, 8, 9, 10])\n",
        "print(f\"The output of array: {arr}\")\n",
        "print(f\"The type of NumPy is: {type(arr)}\")\n",
        "\n",
        "# type() is used to see the type of the object."
      ],
      "metadata": {
        "colab": {
          "base_uri": "https://localhost:8080/"
        },
        "id": "fBs-r-DEszAe",
        "outputId": "697860ce-8abe-4c4d-f786-b1b1aa45ab7a"
      },
      "execution_count": null,
      "outputs": [
        {
          "output_type": "stream",
          "name": "stdout",
          "text": [
            "The output of array: [ 1  2  3  4  5  6  7  8  9 10]\n",
            "The type of NumPy is: <class 'numpy.ndarray'>\n"
          ]
        }
      ]
    },
    {
      "cell_type": "markdown",
      "source": [
        "**Create a NumPy ndarray object**"
      ],
      "metadata": {
        "id": "ZcA6v5MKvqCg"
      }
    },
    {
      "cell_type": "markdown",
      "source": [
        "To create an ndarray, we can pass a list, tuple or any array like object into the array() method, and it will be converted into an ndarray."
      ],
      "metadata": {
        "id": "wcZsOLx1uUeY"
      }
    },
    {
      "cell_type": "code",
      "source": [
        "# use a tuple to create a numpy array\n",
        "import numpy as np\n",
        "mix_tuple=('Shohan', 15, '&&', -33, 'A')\n",
        "arr=np.array(mix_tuple)\n",
        "print(f\"The output of tuple : {arr}\")"
      ],
      "metadata": {
        "colab": {
          "base_uri": "https://localhost:8080/"
        },
        "id": "cPcptM6lui-P",
        "outputId": "4f852da1-c2e0-4367-9785-1c988af65a7d"
      },
      "execution_count": null,
      "outputs": [
        {
          "output_type": "stream",
          "name": "stdout",
          "text": [
            "The output of tuple : ['Shohan' '15' '&&' '-33' 'A']\n"
          ]
        }
      ]
    },
    {
      "cell_type": "markdown",
      "source": [
        "**Dimenstions in arrays**"
      ],
      "metadata": {
        "id": "ZT526r3dvv-1"
      }
    },
    {
      "cell_type": "markdown",
      "source": [
        "A dimensions in arrays is one level of array depth (nested arrays).\n",
        "\n",
        "nested arrays are arrays that have arrays as their elements."
      ],
      "metadata": {
        "id": "5ZkqHnvKv0CA"
      }
    },
    {
      "cell_type": "markdown",
      "source": [
        "**0-D arrays**"
      ],
      "metadata": {
        "id": "FdevUeofwCDf"
      }
    },
    {
      "cell_type": "code",
      "source": [
        "# create a 0-D array or scalars array with the value 150\n",
        "import numpy as np\n",
        "arr = np.array(150)\n",
        "print(f\"The output of 0-D array is: {arr}\")\n"
      ],
      "metadata": {
        "colab": {
          "base_uri": "https://localhost:8080/"
        },
        "id": "bw3BV2xowEtB",
        "outputId": "8dae13c1-d305-4638-9d1e-33f7f04d8d22"
      },
      "execution_count": null,
      "outputs": [
        {
          "output_type": "stream",
          "name": "stdout",
          "text": [
            "The output of 0-D array is: 150\n"
          ]
        }
      ]
    },
    {
      "cell_type": "markdown",
      "source": [
        "**1-D arrays**"
      ],
      "metadata": {
        "id": "LtIuPt07xB0Y"
      }
    },
    {
      "cell_type": "code",
      "source": [
        "# create a 1-D array or uni-dimensional array\n",
        "import numpy as np\n",
        "name_list=['Sujon', 'Razon', 'Shohan', 'Jodu', 'Modu']\n",
        "arr=np.array(name_list)\n",
        "print(f\"The output of 1-D array: {arr}\")"
      ],
      "metadata": {
        "colab": {
          "base_uri": "https://localhost:8080/"
        },
        "id": "zMJIPMgUxFrH",
        "outputId": "2149f9b5-9e78-4531-b1fc-1e3fd4a9dd72"
      },
      "execution_count": null,
      "outputs": [
        {
          "output_type": "stream",
          "name": "stdout",
          "text": [
            "The output of 1-D array: ['Sujon' 'Razon' 'Shohan' 'Jodu' 'Modu']\n"
          ]
        }
      ]
    },
    {
      "cell_type": "markdown",
      "source": [
        "**2-D arrays**"
      ],
      "metadata": {
        "id": "ruFxuxAqxndX"
      }
    },
    {
      "cell_type": "code",
      "source": [
        "# create a 2-D arrays, it is used to represent matrix or 2nd order tensors.\n",
        "import numpy as np\n",
        "matrix_number=[[1, 2, 3], [4, 5, 6]]\n",
        "arr=np.array(matrix_number)\n",
        "print(f\"The output of 2-D array: \\n{arr}\")"
      ],
      "metadata": {
        "colab": {
          "base_uri": "https://localhost:8080/"
        },
        "id": "hHMG82zCxp7I",
        "outputId": "a404c1bf-bbb8-4fe8-cb0a-8954ba94b64a"
      },
      "execution_count": null,
      "outputs": [
        {
          "output_type": "stream",
          "name": "stdout",
          "text": [
            "The output of 2-D array: \n",
            "[[1 2 3]\n",
            " [4 5 6]]\n"
          ]
        }
      ]
    },
    {
      "cell_type": "markdown",
      "source": [
        "**3-D arrays**"
      ],
      "metadata": {
        "id": "sv2rVpg5ydtJ"
      }
    },
    {
      "cell_type": "code",
      "source": [
        "# another 3-D arrays with two 2-D arrays\n",
        "import numpy as np\n",
        "matrix_number=[[[1, 2, 3], [4, 5, 6]], [[7, 8, 9], [6, 3, 1]]]\n",
        "arr=np.array(matrix_number)\n",
        "print(f\"The output of 3-D array: \\n{arr}\")"
      ],
      "metadata": {
        "colab": {
          "base_uri": "https://localhost:8080/"
        },
        "id": "5imtb7IZzK5L",
        "outputId": "72eb4627-7705-4e35-f0d8-73df9ae477b3"
      },
      "execution_count": null,
      "outputs": [
        {
          "output_type": "stream",
          "name": "stdout",
          "text": [
            "The output of 3-D array: \n",
            "[[[1 2 3]\n",
            "  [4 5 6]]\n",
            "\n",
            " [[7 8 9]\n",
            "  [6 3 1]]]\n"
          ]
        }
      ]
    },
    {
      "cell_type": "markdown",
      "source": [
        "**Check number of dimensions**"
      ],
      "metadata": {
        "id": "mXIZe9PZzpHQ"
      }
    },
    {
      "cell_type": "code",
      "source": [
        "# check number of dimensions\n",
        "import numpy as np\n",
        "arr = np.array(150)\n",
        "print(f\"The number of dimensions at 0-D array is: {arr.ndim}\")\n",
        "\n",
        "name_list=['Sujon', 'Razon', 'Shohan', 'Jodu', 'Modu']\n",
        "arr=np.array(name_list)\n",
        "print(f\"The number of dimensions at 1-D array is: {arr.ndim}\")\n",
        "\n",
        "matrix_number=[[1, 2, 3], [4, 5, 6]]\n",
        "arr=np.array(matrix_number)\n",
        "print(f\"The number of dimensions at 2-D array is: {arr.ndim}\")\n",
        "\n",
        "matrix_number=[[[1, 2, 3], [4, 5, 6]], [[7, 8, 9], [6, 3, 1]]]\n",
        "arr=np.array(matrix_number)\n",
        "print(f\"The number of dimensions at 3-D array is: {arr.ndim}\")"
      ],
      "metadata": {
        "colab": {
          "base_uri": "https://localhost:8080/"
        },
        "id": "UbAbdCZ_ztfs",
        "outputId": "87fa8bba-312c-4d04-8d9d-b829d6623272"
      },
      "execution_count": null,
      "outputs": [
        {
          "output_type": "stream",
          "name": "stdout",
          "text": [
            "The number of dimensions at 0-D array is: 0\n",
            "The number of dimensions at 1-D array is: 1\n",
            "The number of dimensions at 2-D array is: 2\n",
            "The number of dimensions at 3-D array is: 3\n"
          ]
        }
      ]
    },
    {
      "cell_type": "markdown",
      "source": [
        "**Higher dimensional arrays**"
      ],
      "metadata": {
        "id": "67TUtgiE2o9M"
      }
    },
    {
      "cell_type": "code",
      "source": [
        "# when the array is created, you can define the number of dimensions\n",
        "import numpy as np\n",
        "arr = np.array([1, 2, 3, 4, 5], ndmin=5)\n",
        "print(f\"The output: \\n{arr}\")\n",
        "print(f\"The number of dimensions : {arr.ndim}\")"
      ],
      "metadata": {
        "colab": {
          "base_uri": "https://localhost:8080/"
        },
        "id": "StfNNULF2sPc",
        "outputId": "9fd3f00f-7da3-4cd6-d0bb-de678c9e5a98"
      },
      "execution_count": null,
      "outputs": [
        {
          "output_type": "stream",
          "name": "stdout",
          "text": [
            "The output: \n",
            "[[[[[1 2 3 4 5]]]]]\n",
            "The number of dimensions : 5\n"
          ]
        }
      ]
    },
    {
      "cell_type": "markdown",
      "source": [
        "In this array the innermost dimension (5th dim) has 4 elements,\n",
        "\n",
        "the 4th dim has 1 element that is the vector,\n",
        "\n",
        "the 3rd dim has 1 element that is the matrix with the vector,\n",
        "\n",
        "the 2nd dim has 1 element that is 3D array\n",
        "\n",
        "and 1st dim has 1 element that is a 4D array."
      ],
      "metadata": {
        "id": "3JCzXDjP4VMp"
      }
    },
    {
      "cell_type": "markdown",
      "source": [
        "**NumPy array indexing**"
      ],
      "metadata": {
        "id": "B7n9SQMq4r3T"
      }
    },
    {
      "cell_type": "markdown",
      "source": [
        "Array indexing is the same as accessing an array element.\n",
        "\n",
        "The index start with 0 to N."
      ],
      "metadata": {
        "id": "P3a-xc6l62iC"
      }
    },
    {
      "cell_type": "markdown",
      "source": [
        "**Access 1-D arrays**"
      ],
      "metadata": {
        "id": "sVB8xU6Q6yTn"
      }
    },
    {
      "cell_type": "code",
      "source": [
        "# get the first element of an array\n",
        "import numpy as np\n",
        "arr = np.array([12, 14, 16, 18, 20, 22, 24])\n",
        "print(f\"The first element is: {arr[0]}\")"
      ],
      "metadata": {
        "colab": {
          "base_uri": "https://localhost:8080/"
        },
        "id": "ucsENaJy4xAH",
        "outputId": "a49e351a-016d-4c2d-e1e2-ae5a4d3963f3"
      },
      "execution_count": null,
      "outputs": [
        {
          "output_type": "stream",
          "name": "stdout",
          "text": [
            "The first element is: 12\n"
          ]
        }
      ]
    },
    {
      "cell_type": "code",
      "source": [
        "# get the second element of an array\n",
        "import numpy as np\n",
        "arr = np.array([12, 14, 16, 18, 20, 22, 24])\n",
        "print(f\"The second element is: {arr[1]}\")"
      ],
      "metadata": {
        "colab": {
          "base_uri": "https://localhost:8080/"
        },
        "id": "YN2TtnQT5UR4",
        "outputId": "1d2aadaa-15d1-4ad9-bdac-51af2b789d3f"
      },
      "execution_count": null,
      "outputs": [
        {
          "output_type": "stream",
          "name": "stdout",
          "text": [
            "The second element is: 14\n"
          ]
        }
      ]
    },
    {
      "cell_type": "code",
      "source": [
        "# get the last element of an array\n",
        "import numpy as np\n",
        "arr = np.array([12, 14, 16, 18, 20, 22, 24])\n",
        "print(f\"The last element is: {arr[6]}\")"
      ],
      "metadata": {
        "colab": {
          "base_uri": "https://localhost:8080/"
        },
        "id": "ur9fWCxf5Zlb",
        "outputId": "81765aad-284b-4b34-82d9-976ddf2feaa7"
      },
      "execution_count": null,
      "outputs": [
        {
          "output_type": "stream",
          "name": "stdout",
          "text": [
            "The last element is: 24\n"
          ]
        }
      ]
    },
    {
      "cell_type": "code",
      "source": [
        "# arithmetic operations between fourth and sixth elements\n",
        "import numpy as np\n",
        "arr = np.array([12, 14, 16, 18, 20, 22, 24])\n",
        "print(f\"The summation of {arr[3]} and {arr[5]} is: {arr[3] + arr[5]}\")\n",
        "print(f\"The subtraction of {arr[3]} and {arr[5]} is: {arr[3] - arr[5]}\")\n",
        "print(f\"The multiplicaiton of {arr[3]} and {arr[5]} is: {arr[3] * arr[5]}\")\n",
        "print(f\"The division of {arr[3]} and {arr[5]} is: {arr[3] / arr[5]}\")\n",
        "print(f\"The modulus of {arr[3]} and {arr[5]} is: {arr[3] % arr[5]}\")"
      ],
      "metadata": {
        "colab": {
          "base_uri": "https://localhost:8080/"
        },
        "id": "vOnF-ZKC5hzg",
        "outputId": "96cbf74e-f2e5-4f37-b8f0-a630e053992e"
      },
      "execution_count": null,
      "outputs": [
        {
          "output_type": "stream",
          "name": "stdout",
          "text": [
            "The summation of 18 and 22 is: 40\n",
            "The subtraction of 18 and 22 is: -4\n",
            "The multiplicaiton of 18 and 22 is: 396\n",
            "The division of 18 and 22 is: 0.8181818181818182\n",
            "The modulus of 18 and 22 is: 18\n"
          ]
        }
      ]
    },
    {
      "cell_type": "markdown",
      "source": [
        "**Access 2-D arrays**"
      ],
      "metadata": {
        "id": "SgwWAUUr7IxV"
      }
    },
    {
      "cell_type": "code",
      "source": [
        "# create a 2-D arrays, it is used to represent matrix or 2nd order tensors.\n",
        "import numpy as np\n",
        "matrix_number=[[1, 2, 3], [4, 5, 6]]\n",
        "arr=np.array(matrix_number)\n",
        "print(f\"The 2nd element on 1st row: {arr[0, 1]}\")\n",
        "print(f\"The 2nd element on 2nd row: {arr[1, 1]}\")\n",
        "print(f\"The 3rd element on 1st row: {arr[0, 2]}\")"
      ],
      "metadata": {
        "colab": {
          "base_uri": "https://localhost:8080/"
        },
        "id": "UYwV_FId7MCL",
        "outputId": "9f5c17f2-d1d0-4bd5-99f7-5b2017290b7a"
      },
      "execution_count": null,
      "outputs": [
        {
          "output_type": "stream",
          "name": "stdout",
          "text": [
            "The 2nd element on 1st row: 2\n",
            "The 2nd element on 2nd row: 5\n",
            "The 3rd element on 1st row: 3\n"
          ]
        }
      ]
    },
    {
      "cell_type": "markdown",
      "source": [
        "**Access 3-D arrays**"
      ],
      "metadata": {
        "id": "Umhu2t5N7y46"
      }
    },
    {
      "cell_type": "code",
      "source": [
        "# another 3-D arrays with two 2-D arrays\n",
        "import numpy as np\n",
        "matrix_number=[[[1, 2, 3], [4, 5, 6]], [[7, 8, 9], [6, 3, 1]]]\n",
        "arr=np.array(matrix_number)\n",
        "print(f\"The 3rd element of the 2nd array of the 1st array: {arr[0, 1, 2]}\")\n",
        "print(f\"The 2nd element of the 2nd array of the 2nd array: {arr[1, 1, 1]}\")\n",
        "print(f\"The 1st element of the 1st array of the 2nd array: {arr[1, 0, 0]}\")"
      ],
      "metadata": {
        "colab": {
          "base_uri": "https://localhost:8080/"
        },
        "id": "ogqBMwyc73xo",
        "outputId": "19d972f9-a873-43e8-920c-36a548fb2b1b"
      },
      "execution_count": null,
      "outputs": [
        {
          "output_type": "stream",
          "name": "stdout",
          "text": [
            "The 3rd element of the 2nd array of the 1st array: 6\n",
            "The 2nd element of the 2nd array of the 2nd array: 3\n",
            "The 1st element of the 1st array of the 2nd array: 7\n"
          ]
        }
      ]
    },
    {
      "cell_type": "markdown",
      "source": [
        "**Negative indexing**"
      ],
      "metadata": {
        "id": "9Tsvfu2l913a"
      }
    },
    {
      "cell_type": "code",
      "source": [
        "# create a 2-D arrays, it is used to represent matrix or 2nd order tensors.\n",
        "import numpy as np\n",
        "matrix_number=[[1, 2, 3], [4, 5, 6]]\n",
        "arr=np.array(matrix_number)\n",
        "print(f\"The last element from 2nd dim: {arr[1, -1]}\")\n",
        "print(f\"The 2nd element on 2nd row: {arr[1, -2]}\")\n",
        "print(f\"The 2nd element on 2nd row: {arr[-1, -2]}\")\n",
        "print(f\"The 1st element on 1st row: {arr[0, -3]}\")\n",
        "print(f\"The 1st element on 2nd row: {arr[-1, -3]}\")"
      ],
      "metadata": {
        "colab": {
          "base_uri": "https://localhost:8080/"
        },
        "id": "75GZWiDc974Z",
        "outputId": "05d47bd2-a8bf-464d-d30a-08fcf72cb83e"
      },
      "execution_count": null,
      "outputs": [
        {
          "output_type": "stream",
          "name": "stdout",
          "text": [
            "The last element from 2nd dim: 6\n",
            "The 2nd element on 2nd row: 5\n",
            "The 2nd element on 2nd row: 5\n",
            "The 1st element on 1st row: 1\n",
            "The 1st element on 2nd row: 4\n"
          ]
        }
      ]
    },
    {
      "cell_type": "markdown",
      "source": [
        "**NumPy Array Slicing**\n",
        "\n",
        "---\n",
        "\n"
      ],
      "metadata": {
        "id": "WJw16rtS-0TE"
      }
    },
    {
      "cell_type": "markdown",
      "source": [
        "Slicing means taking elements from one given index to another given index.\n",
        "\n",
        "1st way: [start : end]\n",
        "\n",
        "2nd way: [start : end : step]"
      ],
      "metadata": {
        "id": "j-3pFmT0Ah65"
      }
    },
    {
      "cell_type": "code",
      "source": [
        "# print the elements from index 0 to 5\n",
        "import numpy as np\n",
        "number_list=[1, 2, 3, 4, 5, 6, 7, 8, 9, 10]\n",
        "arr= np.array(number_list)\n",
        "print(f\"The elements from index 0 to 5: {arr[0:6]}\")\n",
        "print(f\"The elements from index 3 to 7: {arr[3:8]}\")"
      ],
      "metadata": {
        "colab": {
          "base_uri": "https://localhost:8080/"
        },
        "id": "lDLyzsPi-5Cw",
        "outputId": "594a240b-dbad-4249-e6cc-707be8998398"
      },
      "execution_count": null,
      "outputs": [
        {
          "output_type": "stream",
          "name": "stdout",
          "text": [
            "The elements from index 0 to 5: [1 2 3 4 5 6]\n",
            "The elements from index 3 to 7: [4 5 6 7 8]\n"
          ]
        }
      ]
    },
    {
      "cell_type": "code",
      "source": [
        "print(f\"The elements from index 4 to the end: {arr[4:]}\")"
      ],
      "metadata": {
        "colab": {
          "base_uri": "https://localhost:8080/"
        },
        "id": "wHorgnE6Aa75",
        "outputId": "51a8e36d-fca8-4e59-cd7a-85641badc7e9"
      },
      "execution_count": null,
      "outputs": [
        {
          "output_type": "stream",
          "name": "stdout",
          "text": [
            "The elements from index 4 to the end: [ 5  6  7  8  9 10]\n"
          ]
        }
      ]
    },
    {
      "cell_type": "code",
      "source": [
        "print(f\"The elements from index first to 5: {arr[:6]}\")"
      ],
      "metadata": {
        "colab": {
          "base_uri": "https://localhost:8080/"
        },
        "id": "n7Fab7HyB768",
        "outputId": "6466a3fb-ad0b-4ca7-e165-1191410d2477"
      },
      "execution_count": null,
      "outputs": [
        {
          "output_type": "stream",
          "name": "stdout",
          "text": [
            "The elements from index first to 5: [1 2 3 4 5 6]\n"
          ]
        }
      ]
    },
    {
      "cell_type": "markdown",
      "source": [
        "**Negative slicing**"
      ],
      "metadata": {
        "id": "25FCKH2vCNrN"
      }
    },
    {
      "cell_type": "code",
      "source": [
        "# print the elements from index 3 to 1\n",
        "import numpy as np\n",
        "number_list=[1, 2, 3, 4, 5, 6, 7, 8, 9, 10]\n",
        "arr= np.array(number_list)\n",
        "print(f\"The elements from index 3 to 1: {arr[-9 : -6]}\")\n",
        "\n",
        "print(f\"The elements from index 1 to 3: {arr[1 : 4]}\")"
      ],
      "metadata": {
        "colab": {
          "base_uri": "https://localhost:8080/"
        },
        "id": "ImynV6URCQrg",
        "outputId": "65dd8013-536b-4ae4-9cf5-83ba62dca3bd"
      },
      "execution_count": null,
      "outputs": [
        {
          "output_type": "stream",
          "name": "stdout",
          "text": [
            "The elements from index 3 to 1: [2 3 4]\n",
            "The elements from index 1 to 3: [2 3 4]\n"
          ]
        }
      ]
    },
    {
      "cell_type": "markdown",
      "source": [
        "**STEP**"
      ],
      "metadata": {
        "id": "105rwtRTDQe7"
      }
    },
    {
      "cell_type": "markdown",
      "source": [
        "**Slicing 1-D arrays**"
      ],
      "metadata": {
        "id": "G7Y0ORtlGzAS"
      }
    },
    {
      "cell_type": "code",
      "source": [
        "import numpy as np\n",
        "number_list=[1, 2, 3, 4, 5, 6, 7, 8, 9, 10]\n",
        "arr= np.array(number_list)\n",
        "print(f\"The elements from index 0 to 10 with step 2: {arr[0 : 10 : 2]}\")\n",
        "print(f\"The elements from index 0 to 10 with step 2: {arr[ : : 2]}\")\n",
        "print(f\"The elements from index 1 to 10 with step 2: {arr[1 : 10 : 2]}\")\n",
        "print(f\"The elements from index 1 to 10 with step 2: {arr[ 1: : 2]}\")"
      ],
      "metadata": {
        "colab": {
          "base_uri": "https://localhost:8080/"
        },
        "id": "zq81pmoJDSze",
        "outputId": "ffd38856-504c-41de-b570-68f9030396e7"
      },
      "execution_count": null,
      "outputs": [
        {
          "output_type": "stream",
          "name": "stdout",
          "text": [
            "The elements from index 0 to 10 with step 2: [1 3 5 7 9]\n",
            "The elements from index 0 to 10 with step 2: [1 3 5 7 9]\n",
            "The elements from index 1 to 10 with step 2: [ 2  4  6  8 10]\n",
            "The elements from index 1 to 10 with step 2: [ 2  4  6  8 10]\n"
          ]
        }
      ]
    },
    {
      "cell_type": "markdown",
      "source": [
        "**Slicing 2-D arrays**"
      ],
      "metadata": {
        "id": "Yv5ZPgTCG3Gk"
      }
    },
    {
      "cell_type": "code",
      "source": [
        "# create a 2-D arrays, it is used to represent matrix or 2nd order tensors.\n",
        "import numpy as np\n",
        "matrix_number=[[1, 2, 3], [4, 5, 6]]\n",
        "arr=np.array(matrix_number)\n",
        "print(f\"The 2nd element, slice elements from idex 1 to index 2: {arr[1, 1:3]}\")\n",
        "print(f\"The 1st element, slice elements from idex 0 to index 2: {arr[0, 0:3]}\")"
      ],
      "metadata": {
        "colab": {
          "base_uri": "https://localhost:8080/"
        },
        "id": "hnHA0dbkG83B",
        "outputId": "7a8f44d4-0681-4b5c-e3b1-ef422de59201"
      },
      "execution_count": null,
      "outputs": [
        {
          "output_type": "stream",
          "name": "stdout",
          "text": [
            "The 2nd element, slice elements from idex 1 to index 2: [5 6]\n",
            "The 1st element, slice elements from idex 0 to index 2: [1 2 3]\n"
          ]
        }
      ]
    },
    {
      "cell_type": "code",
      "source": [
        "print(f\"From both elements, return index 2: {arr[0:2, 2]}\")"
      ],
      "metadata": {
        "colab": {
          "base_uri": "https://localhost:8080/"
        },
        "id": "wIolNiQHH7pm",
        "outputId": "f02243c9-9397-46c6-ab70-70d3ca28e5a6"
      },
      "execution_count": null,
      "outputs": [
        {
          "output_type": "stream",
          "name": "stdout",
          "text": [
            "From both elements, return index 2: [3 6]\n"
          ]
        }
      ]
    },
    {
      "cell_type": "code",
      "source": [
        "print(f\"From both elements, return index 1 to 2: \\n{arr[0:2, 1:3]}\")"
      ],
      "metadata": {
        "colab": {
          "base_uri": "https://localhost:8080/"
        },
        "id": "z5_q8q4mIP9b",
        "outputId": "f7bb88aa-2a3a-4e39-edd2-6980bd74afa3"
      },
      "execution_count": null,
      "outputs": [
        {
          "output_type": "stream",
          "name": "stdout",
          "text": [
            "From both elements, return index 1 to 2: \n",
            "[[2 3]\n",
            " [5 6]]\n"
          ]
        }
      ]
    },
    {
      "cell_type": "markdown",
      "source": [
        "**NumPy Data Types**\n",
        "\n",
        "---\n",
        "\n"
      ],
      "metadata": {
        "id": "ARlxzNqhIlxm"
      }
    },
    {
      "cell_type": "markdown",
      "source": [
        "By default Python have these data types:\n",
        "\n",
        "    strings - used to represent text data, the text is given under quote marks. e.g. \"ABCD\"\n",
        "\n",
        "    integer - used to represent integer numbers. e.g. -1, -2, -3\n",
        "\n",
        "    float - used to represent real numbers. e.g. 1.2, 42.42\n",
        "\n",
        "    boolean - used to represent True or False.\n",
        "    \n",
        "    complex - used to represent complex numbers. e.g. 1.0 + 2.0j, 1.5 + 2.5j\n",
        "\n"
      ],
      "metadata": {
        "id": "QJ9HYIrYxQ49"
      }
    },
    {
      "cell_type": "markdown",
      "source": [
        "**NumPy** has some extra data types, and refer to data types with one character, like i for integers, u for unsigned integers etc.\n",
        "\n",
        "    i - integer\n",
        "    b - boolean\n",
        "    u - unsigned integer\n",
        "    f - float\n",
        "    c - complex float\n",
        "    m - timedelta\n",
        "    M - datetime\n",
        "    O - object\n",
        "    S - string\n",
        "    U - unicode string\n",
        "    V - fixed chunk of memory for other type ( void )"
      ],
      "metadata": {
        "id": "DDMZdm_MxcF2"
      }
    },
    {
      "cell_type": "markdown",
      "source": [
        "**Checking the data types of an array**"
      ],
      "metadata": {
        "id": "CW4Telgvxlbs"
      }
    },
    {
      "cell_type": "code",
      "source": [
        "# get the type of an array\n",
        "import numpy as np\n",
        "arr=np.array([1, 2, 3, 4, 5, 6, 7, 8, 9, 10])\n",
        "print(f\"The type of array is {type(arr)}\")"
      ],
      "metadata": {
        "id": "s-iowQpmIo8K",
        "colab": {
          "base_uri": "https://localhost:8080/"
        },
        "outputId": "2c9d03b2-3c0c-47cc-b999-13fc9a155b19"
      },
      "execution_count": null,
      "outputs": [
        {
          "output_type": "stream",
          "name": "stdout",
          "text": [
            "The type of array is <class 'numpy.ndarray'>\n"
          ]
        }
      ]
    },
    {
      "cell_type": "code",
      "source": [
        "# get the type of an array\n",
        "import numpy as np\n",
        "arr=np.array(['A', 'B', 'C', 'D', 'E'])\n",
        "print(f\"The type of array is {type(arr)}\")"
      ],
      "metadata": {
        "colab": {
          "base_uri": "https://localhost:8080/"
        },
        "id": "ByRqCtv1x8hN",
        "outputId": "1657e228-c0e2-4d63-a521-fa2ea675be18"
      },
      "execution_count": null,
      "outputs": [
        {
          "output_type": "stream",
          "name": "stdout",
          "text": [
            "The type of array is <class 'numpy.ndarray'>\n"
          ]
        }
      ]
    },
    {
      "cell_type": "markdown",
      "source": [
        "**Creating arrays with a defined data type**"
      ],
      "metadata": {
        "id": "UznKIms6yiEt"
      }
    },
    {
      "cell_type": "code",
      "source": [
        "# create an array with data types string\n",
        "import numpy as np\n",
        "arr=np.array([1, 2, 3, 4, 5], dtype='S')\n",
        "print(arr)\n",
        "print(arr.dtype)"
      ],
      "metadata": {
        "colab": {
          "base_uri": "https://localhost:8080/"
        },
        "id": "rtLrAYrXymOf",
        "outputId": "1ad3c4f5-151f-4b06-e3ac-e7e27a49a3b6"
      },
      "execution_count": null,
      "outputs": [
        {
          "output_type": "stream",
          "name": "stdout",
          "text": [
            "[b'1' b'2' b'3' b'4' b'5']\n",
            "|S1\n"
          ]
        }
      ]
    },
    {
      "cell_type": "code",
      "source": [
        "# create an array with data types floating\n",
        "import numpy as np\n",
        "arr=np.array([1, 2, 3, 4, 5], dtype='f')\n",
        "print(arr)\n",
        "print(arr.dtype)"
      ],
      "metadata": {
        "colab": {
          "base_uri": "https://localhost:8080/"
        },
        "id": "3j15KyE4y9EU",
        "outputId": "7c22eb5a-8a5a-4150-8bcb-17d8729cf3ff"
      },
      "execution_count": null,
      "outputs": [
        {
          "output_type": "stream",
          "name": "stdout",
          "text": [
            "[1. 2. 3. 4. 5.]\n",
            "float32\n"
          ]
        }
      ]
    },
    {
      "cell_type": "code",
      "source": [
        "# create an array with data types unsigned integer\n",
        "import numpy as np\n",
        "arr=np.array([1, 2, 3, 4, 5], dtype='U')\n",
        "print(arr)\n",
        "print(arr.dtype)"
      ],
      "metadata": {
        "colab": {
          "base_uri": "https://localhost:8080/"
        },
        "id": "vu54FHGCzIHj",
        "outputId": "e305810b-5eb2-423e-fb5b-5ec7a3952ab2"
      },
      "execution_count": null,
      "outputs": [
        {
          "output_type": "stream",
          "name": "stdout",
          "text": [
            "['1' '2' '3' '4' '5']\n",
            "<U1\n"
          ]
        }
      ]
    },
    {
      "cell_type": "code",
      "source": [
        "# create an array with data types integer\n",
        "import numpy as np\n",
        "arr=np.array([1, 2, 3, 4, 5], dtype='i')\n",
        "print(arr)\n",
        "print(arr.dtype)"
      ],
      "metadata": {
        "colab": {
          "base_uri": "https://localhost:8080/"
        },
        "id": "4xL0kxe5zPWt",
        "outputId": "c1c35372-6c1a-4aa1-dcde-580cdd4fe67d"
      },
      "execution_count": null,
      "outputs": [
        {
          "output_type": "stream",
          "name": "stdout",
          "text": [
            "[1 2 3 4 5]\n",
            "int32\n"
          ]
        }
      ]
    },
    {
      "cell_type": "code",
      "source": [
        "# create an array with data types 4 bytes integer\n",
        "import numpy as np\n",
        "arr=np.array([1, 2, 3, 4, 5], dtype='i4')\n",
        "print(arr)\n",
        "print(arr.dtype)"
      ],
      "metadata": {
        "colab": {
          "base_uri": "https://localhost:8080/"
        },
        "id": "BcM0HfruzZ-l",
        "outputId": "8a8eef2f-e269-4f12-b9ff-172484a23f36"
      },
      "execution_count": null,
      "outputs": [
        {
          "output_type": "stream",
          "name": "stdout",
          "text": [
            "[1 2 3 4 5]\n",
            "int32\n"
          ]
        }
      ]
    },
    {
      "cell_type": "code",
      "source": [
        "# create an array with data types 8 bytes integer\n",
        "import numpy as np\n",
        "arr=np.array([1, 2, 3, 4, 5], dtype='i8')\n",
        "print(arr)\n",
        "print(arr.dtype)"
      ],
      "metadata": {
        "colab": {
          "base_uri": "https://localhost:8080/"
        },
        "id": "9_VQi7TAzlQD",
        "outputId": "e76ffd70-fc70-4313-9f6d-72b14a9746b7"
      },
      "execution_count": null,
      "outputs": [
        {
          "output_type": "stream",
          "name": "stdout",
          "text": [
            "[1 2 3 4 5]\n",
            "int64\n"
          ]
        }
      ]
    },
    {
      "cell_type": "markdown",
      "source": [
        "**What if a value can not be converted?**"
      ],
      "metadata": {
        "id": "ojyByEDAztEl"
      }
    },
    {
      "cell_type": "markdown",
      "source": [
        "If a type is given in which elements can not be casted then NumPy will raise a ValueError."
      ],
      "metadata": {
        "id": "PIRg4sDOzxkW"
      }
    },
    {
      "cell_type": "code",
      "source": [
        "import numpy as np\n",
        "arr=np.array(['a', '2', '3', '4', '5'], dtype='i')\n",
        "print(arr)"
      ],
      "metadata": {
        "colab": {
          "base_uri": "https://localhost:8080/",
          "height": 180
        },
        "id": "QkgbpkuSz7Vu",
        "outputId": "ca03817e-ba75-42a6-847b-dc8805ae42cf"
      },
      "execution_count": null,
      "outputs": [
        {
          "output_type": "error",
          "ename": "ValueError",
          "evalue": "invalid literal for int() with base 10: 'a'",
          "traceback": [
            "\u001b[0;31m---------------------------------------------------------------------------\u001b[0m",
            "\u001b[0;31mValueError\u001b[0m                                Traceback (most recent call last)",
            "\u001b[0;32m<ipython-input-22-a472b23751cc>\u001b[0m in \u001b[0;36m<cell line: 0>\u001b[0;34m()\u001b[0m\n\u001b[1;32m      1\u001b[0m \u001b[0;32mimport\u001b[0m \u001b[0mnumpy\u001b[0m \u001b[0;32mas\u001b[0m \u001b[0mnp\u001b[0m\u001b[0;34m\u001b[0m\u001b[0;34m\u001b[0m\u001b[0m\n\u001b[0;32m----> 2\u001b[0;31m \u001b[0marr\u001b[0m\u001b[0;34m=\u001b[0m\u001b[0mnp\u001b[0m\u001b[0;34m.\u001b[0m\u001b[0marray\u001b[0m\u001b[0;34m(\u001b[0m\u001b[0;34m[\u001b[0m\u001b[0;34m'a'\u001b[0m\u001b[0;34m,\u001b[0m \u001b[0;34m'2'\u001b[0m\u001b[0;34m,\u001b[0m \u001b[0;34m'3'\u001b[0m\u001b[0;34m,\u001b[0m \u001b[0;34m'4'\u001b[0m\u001b[0;34m,\u001b[0m \u001b[0;34m'5'\u001b[0m\u001b[0;34m]\u001b[0m\u001b[0;34m,\u001b[0m \u001b[0mdtype\u001b[0m\u001b[0;34m=\u001b[0m\u001b[0;34m'i'\u001b[0m\u001b[0;34m)\u001b[0m\u001b[0;34m\u001b[0m\u001b[0;34m\u001b[0m\u001b[0m\n\u001b[0m\u001b[1;32m      3\u001b[0m \u001b[0mprint\u001b[0m\u001b[0;34m(\u001b[0m\u001b[0marr\u001b[0m\u001b[0;34m)\u001b[0m\u001b[0;34m\u001b[0m\u001b[0;34m\u001b[0m\u001b[0m\n",
            "\u001b[0;31mValueError\u001b[0m: invalid literal for int() with base 10: 'a'"
          ]
        }
      ]
    },
    {
      "cell_type": "markdown",
      "source": [
        "**Converting data type on existing arrays**"
      ],
      "metadata": {
        "id": "ce7_2z7j0UKk"
      }
    },
    {
      "cell_type": "code",
      "source": [
        "# using astype()\n",
        "import numpy as np\n",
        "arr=np.array([1.1, 2.1, 3.1, 4.1, 5.1])\n",
        "new_arr=arr.astype('i')\n",
        "print(new_arr)\n",
        "print(new_arr.dtype)"
      ],
      "metadata": {
        "colab": {
          "base_uri": "https://localhost:8080/"
        },
        "id": "WT1wE7x30YVL",
        "outputId": "fed2fb8b-6eca-42d0-beeb-3351674f4061"
      },
      "execution_count": null,
      "outputs": [
        {
          "output_type": "stream",
          "name": "stdout",
          "text": [
            "[1 2 3 4 5]\n",
            "int32\n"
          ]
        }
      ]
    },
    {
      "cell_type": "code",
      "source": [
        "# using astype()\n",
        "import numpy as np\n",
        "arr=np.array([1.1, 2.1, 3.1, 4.1, 5.1])\n",
        "new_arr=arr.astype(int)\n",
        "print(new_arr)\n",
        "print(new_arr.dtype)"
      ],
      "metadata": {
        "colab": {
          "base_uri": "https://localhost:8080/"
        },
        "id": "-p9vBLQe04jN",
        "outputId": "0721a84f-deb5-4ff1-99ae-06c99164f43a"
      },
      "execution_count": null,
      "outputs": [
        {
          "output_type": "stream",
          "name": "stdout",
          "text": [
            "[1 2 3 4 5]\n",
            "int64\n"
          ]
        }
      ]
    },
    {
      "cell_type": "code",
      "source": [
        "# using astype()\n",
        "import numpy as np\n",
        "arr=np.array([1.1, 2.1, 0.0, 4.1, 5.1])\n",
        "new_arr=arr.astype(bool)\n",
        "print(new_arr)\n",
        "print(new_arr.dtype)"
      ],
      "metadata": {
        "colab": {
          "base_uri": "https://localhost:8080/"
        },
        "id": "4pYN0ikx071V",
        "outputId": "d5c42159-80e9-41e2-9541-48e47dd84e8b"
      },
      "execution_count": null,
      "outputs": [
        {
          "output_type": "stream",
          "name": "stdout",
          "text": [
            "[ True  True False  True  True]\n",
            "bool\n"
          ]
        }
      ]
    },
    {
      "cell_type": "markdown",
      "source": [
        "**NumPy Array Copy vs View**\n",
        "\n",
        "---\n",
        "\n"
      ],
      "metadata": {
        "id": "U8J2zsa71ElU"
      }
    },
    {
      "cell_type": "markdown",
      "source": [
        "**The copy** is a new array. The copy should not be affected by the changes made to the original array.\n",
        "\n",
        "**The view** is just a view of the original array. The view should be affected by the changes made to the original array."
      ],
      "metadata": {
        "id": "MaeuUWPn1K-t"
      }
    },
    {
      "cell_type": "markdown",
      "source": [
        "**COPY**"
      ],
      "metadata": {
        "id": "txWw63tF1f7O"
      }
    },
    {
      "cell_type": "code",
      "source": [
        "import numpy as np\n",
        "arr=np.array([1, 2, 3, 4, 5])\n",
        "new=arr.copy()\n",
        "print(arr)\n",
        "print(new)"
      ],
      "metadata": {
        "colab": {
          "base_uri": "https://localhost:8080/"
        },
        "id": "HKmdAIqW1JOd",
        "outputId": "dda5370c-320c-4cae-e499-19dba3ea6662"
      },
      "execution_count": null,
      "outputs": [
        {
          "output_type": "stream",
          "name": "stdout",
          "text": [
            "[1 2 3 4 5]\n",
            "[1 2 3 4 5]\n"
          ]
        }
      ]
    },
    {
      "cell_type": "code",
      "source": [
        "import numpy as np\n",
        "arr=np.array([1, 2, 3, 4, 5])\n",
        "new=arr.copy()\n",
        "arr[0]=52\n",
        "print(arr)\n",
        "print(new)"
      ],
      "metadata": {
        "colab": {
          "base_uri": "https://localhost:8080/"
        },
        "id": "nN0P0dq62CN8",
        "outputId": "0ea84710-c484-4f59-c192-9dd2541753da"
      },
      "execution_count": null,
      "outputs": [
        {
          "output_type": "stream",
          "name": "stdout",
          "text": [
            "[52  2  3  4  5]\n",
            "[1 2 3 4 5]\n"
          ]
        }
      ]
    },
    {
      "cell_type": "markdown",
      "source": [
        "**VIEW**"
      ],
      "metadata": {
        "id": "se_qSM4W2FzV"
      }
    },
    {
      "cell_type": "code",
      "source": [
        "import numpy as np\n",
        "arr=np.array([1, 2, 3, 4, 5])\n",
        "new=arr.view()\n",
        "print(arr)\n",
        "print(new)"
      ],
      "metadata": {
        "colab": {
          "base_uri": "https://localhost:8080/"
        },
        "id": "biikriwN2IY7",
        "outputId": "e9d096cf-7cf9-4691-dfb8-c8993f5a1cfa"
      },
      "execution_count": null,
      "outputs": [
        {
          "output_type": "stream",
          "name": "stdout",
          "text": [
            "[1 2 3 4 5]\n",
            "[1 2 3 4 5]\n"
          ]
        }
      ]
    },
    {
      "cell_type": "code",
      "source": [
        "import numpy as np\n",
        "arr=np.array([1, 2, 3, 4, 5])\n",
        "new=arr.view()\n",
        "arr[0]=52\n",
        "print(arr)\n",
        "print(new)"
      ],
      "metadata": {
        "colab": {
          "base_uri": "https://localhost:8080/"
        },
        "id": "r08FQpJ32JWm",
        "outputId": "cc247287-d5bf-447b-f269-6b8ef57c12c2"
      },
      "execution_count": null,
      "outputs": [
        {
          "output_type": "stream",
          "name": "stdout",
          "text": [
            "[52  2  3  4  5]\n",
            "[52  2  3  4  5]\n"
          ]
        }
      ]
    },
    {
      "cell_type": "markdown",
      "source": [
        "**Check if array owns its data**"
      ],
      "metadata": {
        "id": "SctW6tMb2r2O"
      }
    },
    {
      "cell_type": "code",
      "source": [
        "import numpy as np\n",
        "arr=np.array([1, 2, 3, 4, 5])\n",
        "new_copy=arr.copy()\n",
        "new_view=arr.view()\n",
        "\n",
        "print(new_copy.base)\n",
        "print(new_view.base)"
      ],
      "metadata": {
        "colab": {
          "base_uri": "https://localhost:8080/"
        },
        "id": "R7QZoY2n2vjG",
        "outputId": "02f7e668-4af0-439e-b61f-5735e1da2b27"
      },
      "execution_count": null,
      "outputs": [
        {
          "output_type": "stream",
          "name": "stdout",
          "text": [
            "None\n",
            "[1 2 3 4 5]\n"
          ]
        }
      ]
    },
    {
      "cell_type": "markdown",
      "source": [
        "**NumPy Array Shape**\n",
        "\n",
        "---\n",
        "\n"
      ],
      "metadata": {
        "id": "5NeGyzgq3Hig"
      }
    },
    {
      "cell_type": "markdown",
      "source": [
        "The shape of an array is the number of elements in each dimension."
      ],
      "metadata": {
        "id": "JhHy212i96cd"
      }
    },
    {
      "cell_type": "code",
      "source": [
        "# get the shape of a 2-D array\n",
        "import numpy as np\n",
        "arr=np.array([[1, 2, 3, 4, 5] , [6, 7, 8, 9, 10]])\n",
        "print(f\"The shape of a 2-D array is {arr.shape}\")"
      ],
      "metadata": {
        "colab": {
          "base_uri": "https://localhost:8080/"
        },
        "id": "Sk05NLXS3Kq9",
        "outputId": "1d6a96d9-ba16-43af-a785-f8ce4fc041f8"
      },
      "execution_count": null,
      "outputs": [
        {
          "output_type": "stream",
          "name": "stdout",
          "text": [
            "The shape of a 2-D array is (2, 5)\n"
          ]
        }
      ]
    },
    {
      "cell_type": "code",
      "source": [
        "# create an array with 5 dimensions\n",
        "import numpy as np\n",
        "arr = np.array([1, 2, 3, 4, 5], ndmin=5)\n",
        "print(f'The array is {arr}')\n",
        "print(f'The shape of array : {arr.shape}')"
      ],
      "metadata": {
        "colab": {
          "base_uri": "https://localhost:8080/"
        },
        "id": "xpFe_dWa-jiV",
        "outputId": "83f8c737-5023-4a1d-d372-71d38717b794"
      },
      "execution_count": null,
      "outputs": [
        {
          "output_type": "stream",
          "name": "stdout",
          "text": [
            "The array is [[[[[1 2 3 4 5]]]]]\n",
            "The shape of array : (1, 1, 1, 1, 5)\n"
          ]
        }
      ]
    },
    {
      "cell_type": "markdown",
      "source": [
        "**NumPy Array Reshaping**\n",
        "\n",
        "---\n",
        "\n"
      ],
      "metadata": {
        "id": "mJmaKGvR_p3h"
      }
    },
    {
      "cell_type": "markdown",
      "source": [
        "Reshaping means changing the shape of an array.\n",
        "\n",
        "By reshaping we can add or remove dimensions or change number of elements in each dimension."
      ],
      "metadata": {
        "id": "q6QU2z9d_uGl"
      }
    },
    {
      "cell_type": "markdown",
      "source": [
        "**Reshape from 1-D to 2-D**"
      ],
      "metadata": {
        "id": "yc36ij-__8tt"
      }
    },
    {
      "cell_type": "code",
      "source": [
        "# create 4 arrays, each with 3 elements\n",
        "import numpy as np\n",
        "arr = np.array([1, 2, 3, 4, 5, 6, 7, 8, 9, 10, 11, 12])\n",
        "newarr = arr.reshape(4, 3)\n",
        "print(newarr)"
      ],
      "metadata": {
        "colab": {
          "base_uri": "https://localhost:8080/"
        },
        "id": "ZkPrXjPqAAtl",
        "outputId": "66b89f88-cb56-4aa1-8aac-2c823921b871"
      },
      "execution_count": null,
      "outputs": [
        {
          "output_type": "stream",
          "name": "stdout",
          "text": [
            "[[ 1  2  3]\n",
            " [ 4  5  6]\n",
            " [ 7  8  9]\n",
            " [10 11 12]]\n"
          ]
        }
      ]
    },
    {
      "cell_type": "code",
      "source": [
        "# create 3 arrays, each with 4 elements\n",
        "newarr = arr.reshape(3, 4)\n",
        "print(newarr)"
      ],
      "metadata": {
        "colab": {
          "base_uri": "https://localhost:8080/"
        },
        "id": "tpnCe45xAJzd",
        "outputId": "99b458e5-ba9b-43fe-dbcc-62d95bee3d11"
      },
      "execution_count": null,
      "outputs": [
        {
          "output_type": "stream",
          "name": "stdout",
          "text": [
            "[[ 1  2  3  4]\n",
            " [ 5  6  7  8]\n",
            " [ 9 10 11 12]]\n"
          ]
        }
      ]
    },
    {
      "cell_type": "markdown",
      "source": [
        "**Reshape from 1-D to 3-D**"
      ],
      "metadata": {
        "id": "cyujBKR3Akiq"
      }
    },
    {
      "cell_type": "code",
      "source": [
        "# create 2 arrays that contains 3 arrays, each with 2 elements\n",
        "import numpy as np\n",
        "arr = np.array([1, 2, 3, 4, 5, 6, 7, 8, 9, 10, 11, 12])\n",
        "newarr = arr.reshape(2, 3, 2)\n",
        "print(newarr)"
      ],
      "metadata": {
        "colab": {
          "base_uri": "https://localhost:8080/"
        },
        "id": "Ue7hYx04AqL1",
        "outputId": "27743d4b-e61c-4e01-ba0e-45fa4b53dcca"
      },
      "execution_count": null,
      "outputs": [
        {
          "output_type": "stream",
          "name": "stdout",
          "text": [
            "[[[ 1  2]\n",
            "  [ 3  4]\n",
            "  [ 5  6]]\n",
            "\n",
            " [[ 7  8]\n",
            "  [ 9 10]\n",
            "  [11 12]]]\n"
          ]
        }
      ]
    },
    {
      "cell_type": "code",
      "source": [
        "# create 2 arrays that contains 2 arrays, each with 3 elements\n",
        "newarr = arr.reshape(2, 2, 3)\n",
        "print(newarr)"
      ],
      "metadata": {
        "colab": {
          "base_uri": "https://localhost:8080/"
        },
        "id": "yoytTkm5A5do",
        "outputId": "2fcf79a0-e059-4fe1-d4f6-60672769b892"
      },
      "execution_count": null,
      "outputs": [
        {
          "output_type": "stream",
          "name": "stdout",
          "text": [
            "[[[ 1  2  3]\n",
            "  [ 4  5  6]]\n",
            "\n",
            " [[ 7  8  9]\n",
            "  [10 11 12]]]\n"
          ]
        }
      ]
    },
    {
      "cell_type": "markdown",
      "source": [
        "**Can we reshpe into any shape**"
      ],
      "metadata": {
        "id": "arbc-wQHBa1d"
      }
    },
    {
      "cell_type": "markdown",
      "source": [
        "We can reshape an 8 elements 1D array into 4 elements in 2 rows 2D array but we cannot reshape it into a 3 elements 3 rows 2D array as that would require 3x3 = 9 elements."
      ],
      "metadata": {
        "id": "pEYKPDF7Bugo"
      }
    },
    {
      "cell_type": "code",
      "source": [
        "import numpy as np\n",
        "arr = np.array([1, 2, 3, 4, 5, 6, 7, 8, 9])\n",
        "newarr = arr.reshape(3, 3)\n",
        "print(newarr)"
      ],
      "metadata": {
        "colab": {
          "base_uri": "https://localhost:8080/"
        },
        "id": "6C2mDWNwBe7P",
        "outputId": "a6bf599b-01c3-4684-fc0b-8f30c0670f80"
      },
      "execution_count": null,
      "outputs": [
        {
          "output_type": "stream",
          "name": "stdout",
          "text": [
            "[[1 2 3]\n",
            " [4 5 6]\n",
            " [7 8 9]]\n"
          ]
        }
      ]
    },
    {
      "cell_type": "markdown",
      "source": [
        "**Returns Copy or View?**"
      ],
      "metadata": {
        "id": "a9_Rz1KfB24T"
      }
    },
    {
      "cell_type": "code",
      "source": [
        "import numpy as np\n",
        "arr = np.array([1, 2, 3, 4, 5, 6, 7, 8])\n",
        "print(arr.reshape(2, 4).base)"
      ],
      "metadata": {
        "colab": {
          "base_uri": "https://localhost:8080/"
        },
        "id": "dnipvY2OB5wt",
        "outputId": "ebd4c7d3-d509-460e-e45c-2036afd40736"
      },
      "execution_count": null,
      "outputs": [
        {
          "output_type": "stream",
          "name": "stdout",
          "text": [
            "[1 2 3 4 5 6 7 8]\n"
          ]
        }
      ]
    },
    {
      "cell_type": "markdown",
      "source": [
        "**Unknown Dimension**"
      ],
      "metadata": {
        "id": "QljAMg4yB_kN"
      }
    },
    {
      "cell_type": "markdown",
      "source": [
        "You are allowed to have one \"unknown\" dimension.\n",
        "\n",
        "Meaning that you do not have to specify an exact number for one of the dimensions in the reshape method.\n",
        "\n",
        "Pass -1 as the value, and NumPy will calculate this number for you."
      ],
      "metadata": {
        "id": "jOq8XKZRCD5I"
      }
    },
    {
      "cell_type": "code",
      "source": [
        "# Convert 1D array with 8 elements to 3D array with 2x2 elements\n",
        "import numpy as np\n",
        "arr = np.array([1, 2, 3, 4, 5, 6, 7, 8])\n",
        "newarr = arr.reshape(2, 2, -1)\n",
        "print(newarr)"
      ],
      "metadata": {
        "colab": {
          "base_uri": "https://localhost:8080/"
        },
        "id": "WlXebwUtCFGc",
        "outputId": "377c01c3-e6a8-43a6-9046-82604e48f665"
      },
      "execution_count": null,
      "outputs": [
        {
          "output_type": "stream",
          "name": "stdout",
          "text": [
            "[[[1 2]\n",
            "  [3 4]]\n",
            "\n",
            " [[5 6]\n",
            "  [7 8]]]\n"
          ]
        }
      ]
    },
    {
      "cell_type": "markdown",
      "source": [
        "**Flattening the arrays**"
      ],
      "metadata": {
        "id": "5bL9pnsaCQLV"
      }
    },
    {
      "cell_type": "markdown",
      "source": [
        "Flattening array means converting a multidimensional array into a 1D array.\n",
        "\n",
        "We can use reshape(-1) to do this."
      ],
      "metadata": {
        "id": "nDfmCyniCSwu"
      }
    },
    {
      "cell_type": "code",
      "source": [
        "# Convert the array into a 1D array\n",
        "import numpy as np\n",
        "arr = np.array([[1, 2, 3], [4, 5, 6]])\n",
        "newarr = arr.reshape(-1)\n",
        "print(newarr)"
      ],
      "metadata": {
        "colab": {
          "base_uri": "https://localhost:8080/"
        },
        "id": "W9pvsVXeCUbJ",
        "outputId": "bcb38add-57e5-4b51-e1d8-085d8e64bcec"
      },
      "execution_count": null,
      "outputs": [
        {
          "output_type": "stream",
          "name": "stdout",
          "text": [
            "[1 2 3 4 5 6]\n"
          ]
        }
      ]
    },
    {
      "cell_type": "markdown",
      "source": [
        "**NumPy Array Iterating**\n",
        "\n",
        "---\n",
        "\n"
      ],
      "metadata": {
        "id": "Sngz7xjSCuqc"
      }
    },
    {
      "cell_type": "markdown",
      "source": [
        "Iterating means going through elements one by one."
      ],
      "metadata": {
        "id": "oZ_5YCoYCylA"
      }
    },
    {
      "cell_type": "markdown",
      "source": [
        "**Iterating 1-D Array**"
      ],
      "metadata": {
        "id": "0qbzoZO2DqEL"
      }
    },
    {
      "cell_type": "code",
      "source": [
        "# iterating 1-D array\n",
        "import numpy as np\n",
        "arr = np.array([1, 2, 3, 4, 5, 6, 7, 8])\n",
        "for i in arr:\n",
        "  print(i, end=' ')"
      ],
      "metadata": {
        "colab": {
          "base_uri": "https://localhost:8080/"
        },
        "id": "eNvzPw0NDtAZ",
        "outputId": "2e6ba603-e7c8-4a33-a935-8ece6adf3314"
      },
      "execution_count": null,
      "outputs": [
        {
          "output_type": "stream",
          "name": "stdout",
          "text": [
            "1 2 3 4 5 6 7 8 "
          ]
        }
      ]
    },
    {
      "cell_type": "markdown",
      "source": [
        "**Iterating 2-D Array**"
      ],
      "metadata": {
        "id": "jvd-t1FEEBNF"
      }
    },
    {
      "cell_type": "code",
      "source": [
        "# iterating 2-D array\n",
        "import numpy as np\n",
        "arr = np.array([[1, 2, 3, 4, 5], [6, 7, 8, 9, 10]])\n",
        "for i in arr:\n",
        "  print(i)"
      ],
      "metadata": {
        "colab": {
          "base_uri": "https://localhost:8080/"
        },
        "id": "_e8FcT6WEEHi",
        "outputId": "265ecfee-926e-4a51-85b9-703ab13e8d86"
      },
      "execution_count": null,
      "outputs": [
        {
          "output_type": "stream",
          "name": "stdout",
          "text": [
            "[1 2 3 4 5]\n",
            "[ 6  7  8  9 10]\n"
          ]
        }
      ]
    },
    {
      "cell_type": "code",
      "source": [
        "# iterating 2-D array with each scalar elements\n",
        "import numpy as np\n",
        "arr = np.array([[1, 2, 3, 4, 5], [6, 7, 8, 9, 10]])\n",
        "for i in arr:\n",
        "  for j in i:\n",
        "    print(j, end=' ')"
      ],
      "metadata": {
        "colab": {
          "base_uri": "https://localhost:8080/"
        },
        "id": "y5zMvNefEWVl",
        "outputId": "74fd16a0-379b-4c2c-bf42-660e6fef9f26"
      },
      "execution_count": null,
      "outputs": [
        {
          "output_type": "stream",
          "name": "stdout",
          "text": [
            "1 2 3 4 5 6 7 8 9 10 "
          ]
        }
      ]
    },
    {
      "cell_type": "markdown",
      "source": [
        "**Iterating 3-D Array**"
      ],
      "metadata": {
        "id": "X5vxdgrocixA"
      }
    },
    {
      "cell_type": "code",
      "source": [
        "# iterating 3-D array\n",
        "import numpy as np\n",
        "arr = np.array([[[1, 2, 3], [4, 5, 6]], [[7, 8, 9], [5, 4, 6]]])\n",
        "\n",
        "for i in arr:\n",
        "  print(i)"
      ],
      "metadata": {
        "colab": {
          "base_uri": "https://localhost:8080/"
        },
        "id": "O7MXczQgcoJo",
        "outputId": "687ed046-e041-4afb-ac33-c61557babefb"
      },
      "execution_count": null,
      "outputs": [
        {
          "output_type": "stream",
          "name": "stdout",
          "text": [
            "[[1 2 3]\n",
            " [4 5 6]]\n",
            "[[7 8 9]\n",
            " [5 4 6]]\n"
          ]
        }
      ]
    },
    {
      "cell_type": "code",
      "source": [
        "# iterating 3-D array to the scalars\n",
        "import numpy as np\n",
        "arr = np.array([[[1, 2, 3], [4, 5, 6]], [[7, 8, 9], [5, 4, 6]]])\n",
        "\n",
        "for i in arr:\n",
        "  for j in i:\n",
        "    print(j)"
      ],
      "metadata": {
        "colab": {
          "base_uri": "https://localhost:8080/"
        },
        "id": "cHUfqlqYdIxP",
        "outputId": "cde450d7-f109-4342-b00a-f44b6772826b"
      },
      "execution_count": null,
      "outputs": [
        {
          "output_type": "stream",
          "name": "stdout",
          "text": [
            "[1 2 3]\n",
            "[4 5 6]\n",
            "[7 8 9]\n",
            "[5 4 6]\n"
          ]
        }
      ]
    },
    {
      "cell_type": "code",
      "source": [
        "# iterating 3-D array with each scalar elements\n",
        "import numpy as np\n",
        "arr = np.array([[[1, 2, 3], [4, 5, 6]], [[7, 8, 9], [5, 4, 6]]])\n",
        "\n",
        "for i in arr:\n",
        "  for j in i:\n",
        "    for k in j:\n",
        "      print(k, end=' ')"
      ],
      "metadata": {
        "colab": {
          "base_uri": "https://localhost:8080/"
        },
        "id": "8h18aLCkdOQ3",
        "outputId": "32d07ead-01af-44fe-ba9d-101e2af12461"
      },
      "execution_count": null,
      "outputs": [
        {
          "output_type": "stream",
          "name": "stdout",
          "text": [
            "1 2 3 4 5 6 7 8 9 5 4 6 "
          ]
        }
      ]
    },
    {
      "cell_type": "markdown",
      "source": [
        "**Iterating Arrays Using nditer()**"
      ],
      "metadata": {
        "id": "leR3kWPjd_1u"
      }
    },
    {
      "cell_type": "markdown",
      "source": [
        "nditer() is used to iterating in advanced iterations."
      ],
      "metadata": {
        "id": "A886kJ3qeJBX"
      }
    },
    {
      "cell_type": "code",
      "source": [
        "# iterating 1-D array\n",
        "import numpy as np\n",
        "arr = np.array([1, 2, 3, 4, 5, 6, 7, 8])\n",
        "for i in np.nditer(arr):\n",
        "  print(i, end=' ')"
      ],
      "metadata": {
        "colab": {
          "base_uri": "https://localhost:8080/"
        },
        "id": "e1iVdlUWeRNR",
        "outputId": "386eb0d6-bc02-411c-c069-44ba91c9b6ae"
      },
      "execution_count": null,
      "outputs": [
        {
          "output_type": "stream",
          "name": "stdout",
          "text": [
            "1 2 3 4 5 6 7 8 "
          ]
        }
      ]
    },
    {
      "cell_type": "code",
      "source": [
        "# iterating 2-D array\n",
        "import numpy as np\n",
        "arr = np.array([[1, 2, 3, 4, 5], [6, 7, 8, 9, 10]])\n",
        "for i in np.nditer(arr):\n",
        "  print(i, end=' ')"
      ],
      "metadata": {
        "colab": {
          "base_uri": "https://localhost:8080/"
        },
        "id": "WJqITU8Feeou",
        "outputId": "a4d73266-dfc7-46a1-d579-689e882bbb83"
      },
      "execution_count": null,
      "outputs": [
        {
          "output_type": "stream",
          "name": "stdout",
          "text": [
            "1 2 3 4 5 6 7 8 9 10 "
          ]
        }
      ]
    },
    {
      "cell_type": "code",
      "source": [
        "# iterating 3-D array\n",
        "import numpy as np\n",
        "arr = np.array([[[1, 2, 3], [4, 5, 6]], [[7, 8, 9], [5, 4, 6]]])\n",
        "for i in np.nditer(arr):\n",
        "  print(i, end=' ')"
      ],
      "metadata": {
        "colab": {
          "base_uri": "https://localhost:8080/"
        },
        "id": "lrJaWTD7elrH",
        "outputId": "1b055af1-8e3f-40ab-a517-656d242832f7"
      },
      "execution_count": null,
      "outputs": [
        {
          "output_type": "stream",
          "name": "stdout",
          "text": [
            "1 2 3 4 5 6 7 8 9 5 4 6 "
          ]
        }
      ]
    },
    {
      "cell_type": "markdown",
      "source": [
        "**Iterating Array with Different Data Types**"
      ],
      "metadata": {
        "id": "r77OdjMXevVY"
      }
    },
    {
      "cell_type": "markdown",
      "source": [
        "**op_dtypes** argument and pass it the expected datatype to change the datatype of elements while iterating."
      ],
      "metadata": {
        "id": "Gb8h7V8he1wg"
      }
    },
    {
      "cell_type": "code",
      "source": [
        "# iterating through the array as a string\n",
        "import numpy as np\n",
        "arr = np.array([1, 2, 3, 4, 5])\n",
        "for i in np.nditer(arr, flags=['buffered'], op_dtypes=['S']):\n",
        "  print(i)"
      ],
      "metadata": {
        "colab": {
          "base_uri": "https://localhost:8080/"
        },
        "id": "4YwWcSH8fEe_",
        "outputId": "bc428005-2a63-4f05-ce51-77853ab0a7d5"
      },
      "execution_count": null,
      "outputs": [
        {
          "output_type": "stream",
          "name": "stdout",
          "text": [
            "np.bytes_(b'1')\n",
            "np.bytes_(b'2')\n",
            "np.bytes_(b'3')\n",
            "np.bytes_(b'4')\n",
            "np.bytes_(b'5')\n"
          ]
        }
      ]
    },
    {
      "cell_type": "markdown",
      "source": [
        "**Iterating with Different Step Size**"
      ],
      "metadata": {
        "id": "_L7E5hQWfo0b"
      }
    },
    {
      "cell_type": "code",
      "source": [
        "# iterating 2-D array skinpping 1 element\n",
        "import numpy as np\n",
        "arr = np.array([[1, 2, 3, 4, 5], [6, 7, 8, 9, 10]])\n",
        "for i in np.nditer(arr[:, ::2]):\n",
        "  print(i, end=' ')"
      ],
      "metadata": {
        "colab": {
          "base_uri": "https://localhost:8080/"
        },
        "id": "zfLhvmLqfsw_",
        "outputId": "87a2b044-2bdc-4f00-b844-de10124fe4ab"
      },
      "execution_count": null,
      "outputs": [
        {
          "output_type": "stream",
          "name": "stdout",
          "text": [
            "1 3 5 6 8 10 "
          ]
        }
      ]
    },
    {
      "cell_type": "code",
      "source": [
        "# iterating 2-D array\n",
        "import numpy as np\n",
        "arr = np.array([[1, 2, 3, 4, 5], [6, 7, 8, 9, 10]])\n",
        "for i in np.nditer(arr[:, :2]):\n",
        "  print(i, end=' ')"
      ],
      "metadata": {
        "colab": {
          "base_uri": "https://localhost:8080/"
        },
        "id": "eMoz1fnghBGo",
        "outputId": "163fb9de-5ba5-4355-e3a8-8b65b14f0089"
      },
      "execution_count": null,
      "outputs": [
        {
          "output_type": "stream",
          "name": "stdout",
          "text": [
            "1 2 6 7 "
          ]
        }
      ]
    },
    {
      "cell_type": "markdown",
      "source": [
        "**Enumerated Iteration Using ndenumerated()**"
      ],
      "metadata": {
        "id": "cj_t_hHkhQIu"
      }
    },
    {
      "cell_type": "code",
      "source": [
        "# enumerated 1-D array\n",
        "import numpy as np\n",
        "arr = np.array([1, 2, 3, 4, 5])\n",
        "for i in np.ndenumerate(arr):\n",
        "  print(i)"
      ],
      "metadata": {
        "colab": {
          "base_uri": "https://localhost:8080/"
        },
        "id": "DWgxXXp8hVZG",
        "outputId": "eb9ab246-6b14-4c2c-b34e-dad941a3b445"
      },
      "execution_count": null,
      "outputs": [
        {
          "output_type": "stream",
          "name": "stdout",
          "text": [
            "((0,), np.int64(1))\n",
            "((1,), np.int64(2))\n",
            "((2,), np.int64(3))\n",
            "((3,), np.int64(4))\n",
            "((4,), np.int64(5))\n"
          ]
        }
      ]
    },
    {
      "cell_type": "code",
      "source": [
        "# enumerated 1-D array\n",
        "import numpy as np\n",
        "arr = np.array([1, 2, 3, 4, 5])\n",
        "for idx, i in np.ndenumerate(arr):\n",
        "  print(idx, i)"
      ],
      "metadata": {
        "colab": {
          "base_uri": "https://localhost:8080/"
        },
        "id": "R9xxyd7ohqge",
        "outputId": "ca7602cd-fa24-4182-f0d2-e18e2b1330df"
      },
      "execution_count": null,
      "outputs": [
        {
          "output_type": "stream",
          "name": "stdout",
          "text": [
            "(0,) 1\n",
            "(1,) 2\n",
            "(2,) 3\n",
            "(3,) 4\n",
            "(4,) 5\n"
          ]
        }
      ]
    },
    {
      "cell_type": "code",
      "source": [
        "# iterating 2-D array\n",
        "import numpy as np\n",
        "arr = np.array([[1, 2, 3, 4, 5], [6, 7, 8, 9, 10]])\n",
        "for i in np.ndenumerate(arr):\n",
        "  print(i)"
      ],
      "metadata": {
        "colab": {
          "base_uri": "https://localhost:8080/"
        },
        "id": "5muia0LVh2QW",
        "outputId": "14c1aef0-1e53-4e1b-8e19-7e6109d1a5fa"
      },
      "execution_count": null,
      "outputs": [
        {
          "output_type": "stream",
          "name": "stdout",
          "text": [
            "((0, 0), np.int64(1))\n",
            "((0, 1), np.int64(2))\n",
            "((0, 2), np.int64(3))\n",
            "((0, 3), np.int64(4))\n",
            "((0, 4), np.int64(5))\n",
            "((1, 0), np.int64(6))\n",
            "((1, 1), np.int64(7))\n",
            "((1, 2), np.int64(8))\n",
            "((1, 3), np.int64(9))\n",
            "((1, 4), np.int64(10))\n"
          ]
        }
      ]
    },
    {
      "cell_type": "code",
      "source": [
        "# iterating 2-D array\n",
        "import numpy as np\n",
        "arr = np.array([[1, 2, 3, 4, 5], [6, 7, 8, 9, 10]])\n",
        "for idx, i in np.ndenumerate(arr):\n",
        "  print(idx, i)"
      ],
      "metadata": {
        "colab": {
          "base_uri": "https://localhost:8080/"
        },
        "id": "Z19Z2QHCiEfO",
        "outputId": "ceb8f912-a73c-4d0a-950f-16879e6b5026"
      },
      "execution_count": null,
      "outputs": [
        {
          "output_type": "stream",
          "name": "stdout",
          "text": [
            "(0, 0) 1\n",
            "(0, 1) 2\n",
            "(0, 2) 3\n",
            "(0, 3) 4\n",
            "(0, 4) 5\n",
            "(1, 0) 6\n",
            "(1, 1) 7\n",
            "(1, 2) 8\n",
            "(1, 3) 9\n",
            "(1, 4) 10\n"
          ]
        }
      ]
    },
    {
      "cell_type": "markdown",
      "source": [
        "**NumPy Joining Array**\n",
        "\n",
        "---\n",
        "\n"
      ],
      "metadata": {
        "id": "w-zzhmstiNp4"
      }
    },
    {
      "cell_type": "markdown",
      "source": [
        "Joining means putting contents of two or more arrays in a single array.\n",
        "\n",
        "To join we can use **concatenate()** function."
      ],
      "metadata": {
        "id": "6xs9Wi22iRYL"
      }
    },
    {
      "cell_type": "code",
      "source": [
        "# join 1-D arrays\n",
        "import numpy as np\n",
        "arr_1=np.array([1, 2, 3, 4, 5])\n",
        "arr_2=np.array([6, 7, 8, 9, 10])\n",
        "arr=np.concatenate((arr_1, arr_2))\n",
        "print(arr)"
      ],
      "metadata": {
        "colab": {
          "base_uri": "https://localhost:8080/"
        },
        "id": "IK-7YwcMioZ3",
        "outputId": "29c3b8bb-1957-4420-aee8-7b532768a699"
      },
      "execution_count": null,
      "outputs": [
        {
          "output_type": "stream",
          "name": "stdout",
          "text": [
            "[ 1  2  3  4  5  6  7  8  9 10]\n"
          ]
        }
      ]
    },
    {
      "cell_type": "code",
      "source": [
        "# join 2-D arrays\n",
        "import numpy as np\n",
        "arr_1=np.array([[1, 2, 3], [4, 5, 6]])\n",
        "arr_2=np.array([[7, 8, 9], [10, 11, 12]])\n",
        "arr=np.concatenate((arr_1, arr_2))\n",
        "print(arr)"
      ],
      "metadata": {
        "colab": {
          "base_uri": "https://localhost:8080/"
        },
        "id": "kBDxItnIjdlm",
        "outputId": "ba62c734-6b38-4ac2-b748-6954850389bf"
      },
      "execution_count": null,
      "outputs": [
        {
          "output_type": "stream",
          "name": "stdout",
          "text": [
            "[[ 1  2  3]\n",
            " [ 4  5  6]\n",
            " [ 7  8  9]\n",
            " [10 11 12]]\n"
          ]
        }
      ]
    },
    {
      "cell_type": "code",
      "source": [
        "# join 2-D arrays with axis=1\n",
        "import numpy as np\n",
        "arr_1=np.array([[1, 2, 3], [4, 5, 6]])\n",
        "arr_2=np.array([[7, 8, 9], [10, 11, 12]])\n",
        "arr=np.concatenate((arr_1, arr_2), axis=1)\n",
        "print(arr)"
      ],
      "metadata": {
        "colab": {
          "base_uri": "https://localhost:8080/"
        },
        "id": "uKN9bNuJlAfG",
        "outputId": "68932703-fd53-4504-a125-4d197b95bf9d"
      },
      "execution_count": null,
      "outputs": [
        {
          "output_type": "stream",
          "name": "stdout",
          "text": [
            "[[ 1  2  3  7  8  9]\n",
            " [ 4  5  6 10 11 12]]\n"
          ]
        }
      ]
    },
    {
      "cell_type": "code",
      "source": [
        "# join 3-D arrays\n",
        "import numpy as np\n",
        "arr_1=np.array([[[1, 2], [3, 4]], [[5, 6], [7, 8]]])\n",
        "arr_2=np.array([[[9, 10], [11, 12]], [[13, 14], [15, 16]]])\n",
        "arr=np.concatenate((arr_1, arr_2))\n",
        "print(arr)"
      ],
      "metadata": {
        "colab": {
          "base_uri": "https://localhost:8080/"
        },
        "id": "83WuPlCuj9ia",
        "outputId": "f9a02cdc-b1a9-4636-afed-62b913cec77d"
      },
      "execution_count": null,
      "outputs": [
        {
          "output_type": "stream",
          "name": "stdout",
          "text": [
            "[[[ 1  2]\n",
            "  [ 3  4]]\n",
            "\n",
            " [[ 5  6]\n",
            "  [ 7  8]]\n",
            "\n",
            " [[ 9 10]\n",
            "  [11 12]]\n",
            "\n",
            " [[13 14]\n",
            "  [15 16]]]\n"
          ]
        }
      ]
    },
    {
      "cell_type": "code",
      "source": [
        "# join 3-D arrays with axis=1\n",
        "import numpy as np\n",
        "arr_1=np.array([[[1, 2], [3, 4]], [[5, 6], [7, 8]]])\n",
        "arr_2=np.array([[[9, 10], [11, 12]], [[13, 14], [15, 16]]])\n",
        "arr=np.concatenate((arr_1, arr_2), axis=1)\n",
        "print(arr)"
      ],
      "metadata": {
        "colab": {
          "base_uri": "https://localhost:8080/"
        },
        "id": "TVmhVZfhkxTv",
        "outputId": "49701967-f6a6-4306-85b4-c8e0bdd941ed"
      },
      "execution_count": null,
      "outputs": [
        {
          "output_type": "stream",
          "name": "stdout",
          "text": [
            "[[[ 1  2]\n",
            "  [ 3  4]\n",
            "  [ 9 10]\n",
            "  [11 12]]\n",
            "\n",
            " [[ 5  6]\n",
            "  [ 7  8]\n",
            "  [13 14]\n",
            "  [15 16]]]\n"
          ]
        }
      ]
    },
    {
      "cell_type": "code",
      "source": [
        "# join 3-D arrays with axis=2\n",
        "import numpy as np\n",
        "arr_1=np.array([[[1, 2], [3, 4]], [[5, 6], [7, 8]]])\n",
        "arr_2=np.array([[[9, 10], [11, 12]], [[13, 14], [15, 16]]])\n",
        "arr=np.concatenate((arr_1, arr_2), axis=2)\n",
        "print(arr)"
      ],
      "metadata": {
        "colab": {
          "base_uri": "https://localhost:8080/"
        },
        "id": "yrw68Arlk6Du",
        "outputId": "96c397b4-d3e1-4dd1-ba74-0c2e89980055"
      },
      "execution_count": null,
      "outputs": [
        {
          "output_type": "stream",
          "name": "stdout",
          "text": [
            "[[[ 1  2  9 10]\n",
            "  [ 3  4 11 12]]\n",
            "\n",
            " [[ 5  6 13 14]\n",
            "  [ 7  8 15 16]]]\n"
          ]
        }
      ]
    },
    {
      "cell_type": "markdown",
      "source": [
        "**Joining arrays using stack() function**"
      ],
      "metadata": {
        "id": "mpiAG0dMlNQz"
      }
    },
    {
      "cell_type": "code",
      "source": [
        "# join 1-D arrays\n",
        "import numpy as np\n",
        "arr_1=np.array([1, 2, 3, 4, 5])\n",
        "arr_2=np.array([6, 7, 8, 9, 10])\n",
        "arr=np.stack((arr_1, arr_2))\n",
        "print(arr)"
      ],
      "metadata": {
        "colab": {
          "base_uri": "https://localhost:8080/"
        },
        "id": "R04NbqcqlTg-",
        "outputId": "30eb9137-cb21-46bd-b485-aba54a60e32f"
      },
      "execution_count": null,
      "outputs": [
        {
          "output_type": "stream",
          "name": "stdout",
          "text": [
            "[[ 1  2  3  4  5]\n",
            " [ 6  7  8  9 10]]\n"
          ]
        }
      ]
    },
    {
      "cell_type": "code",
      "source": [
        "# join 1-D arrays with axis=1\n",
        "import numpy as np\n",
        "arr_1=np.array([1, 2, 3, 4, 5])\n",
        "arr_2=np.array([6, 7, 8, 9, 10])\n",
        "arr=np.stack((arr_1, arr_2), axis=1)\n",
        "print(arr)"
      ],
      "metadata": {
        "colab": {
          "base_uri": "https://localhost:8080/"
        },
        "id": "gGabN9z1lgDG",
        "outputId": "324cf02f-6adf-4ac3-f998-7f42c0cf7e59"
      },
      "execution_count": null,
      "outputs": [
        {
          "output_type": "stream",
          "name": "stdout",
          "text": [
            "[[ 1  6]\n",
            " [ 2  7]\n",
            " [ 3  8]\n",
            " [ 4  9]\n",
            " [ 5 10]]\n"
          ]
        }
      ]
    },
    {
      "cell_type": "markdown",
      "source": [
        "**Stacking along rows**"
      ],
      "metadata": {
        "id": "szRxfFmLl61I"
      }
    },
    {
      "cell_type": "code",
      "source": [
        "# join 1-D arrays with hstack()\n",
        "import numpy as np\n",
        "arr_1=np.array([1, 2, 3, 4, 5])\n",
        "arr_2=np.array([6, 7, 8, 9, 10])\n",
        "arr=np.hstack((arr_1, arr_2))\n",
        "print(arr)"
      ],
      "metadata": {
        "colab": {
          "base_uri": "https://localhost:8080/"
        },
        "id": "4O5WKT01l9kG",
        "outputId": "93a64db2-f8e9-45fc-97ed-43cc5a6a542d"
      },
      "execution_count": null,
      "outputs": [
        {
          "output_type": "stream",
          "name": "stdout",
          "text": [
            "[ 1  2  3  4  5  6  7  8  9 10]\n"
          ]
        }
      ]
    },
    {
      "cell_type": "code",
      "source": [
        "# join 2-D arrays with hstack()\n",
        "import numpy as np\n",
        "arr_1=np.array([[1, 2, 3], [4, 5, 6]])\n",
        "arr_2=np.array([[7, 8, 9], [10, 11, 12]])\n",
        "arr=np.hstack((arr_1, arr_2))\n",
        "print(arr)"
      ],
      "metadata": {
        "colab": {
          "base_uri": "https://localhost:8080/"
        },
        "id": "CtIWUaE_mF5O",
        "outputId": "1f2782ce-dea3-47e1-a300-43e0c5a2927a"
      },
      "execution_count": null,
      "outputs": [
        {
          "output_type": "stream",
          "name": "stdout",
          "text": [
            "[[ 1  2  3  7  8  9]\n",
            " [ 4  5  6 10 11 12]]\n"
          ]
        }
      ]
    },
    {
      "cell_type": "code",
      "source": [
        "# join 3-D arrays with hstack()\n",
        "import numpy as np\n",
        "arr_1=np.array([[[1, 2], [3, 4]], [[5, 6], [7, 8]]])\n",
        "arr_2=np.array([[[9, 10], [11, 12]], [[13, 14], [15, 16]]])\n",
        "arr=np.hstack((arr_1, arr_2))\n",
        "print(arr)"
      ],
      "metadata": {
        "colab": {
          "base_uri": "https://localhost:8080/"
        },
        "id": "O7qrWOCJmRiX",
        "outputId": "3491fe2a-3c66-497e-e678-82eddc9b7aaa"
      },
      "execution_count": null,
      "outputs": [
        {
          "output_type": "stream",
          "name": "stdout",
          "text": [
            "[[[ 1  2]\n",
            "  [ 3  4]\n",
            "  [ 9 10]\n",
            "  [11 12]]\n",
            "\n",
            " [[ 5  6]\n",
            "  [ 7  8]\n",
            "  [13 14]\n",
            "  [15 16]]]\n"
          ]
        }
      ]
    },
    {
      "cell_type": "markdown",
      "source": [
        "**Stacking along columns**"
      ],
      "metadata": {
        "id": "55EBQFtUmc3G"
      }
    },
    {
      "cell_type": "code",
      "source": [
        "# join 1-D arrays with vstack()\n",
        "import numpy as np\n",
        "arr_1=np.array([1, 2, 3, 4, 5])\n",
        "arr_2=np.array([6, 7, 8, 9, 10])\n",
        "arr=np.vstack((arr_1, arr_2))\n",
        "print(arr)"
      ],
      "metadata": {
        "colab": {
          "base_uri": "https://localhost:8080/"
        },
        "id": "vI2gSMQhmg4u",
        "outputId": "581c6643-ba2d-47d3-988c-62c294ade2ef"
      },
      "execution_count": null,
      "outputs": [
        {
          "output_type": "stream",
          "name": "stdout",
          "text": [
            "[[ 1  2  3  4  5]\n",
            " [ 6  7  8  9 10]]\n"
          ]
        }
      ]
    },
    {
      "cell_type": "code",
      "source": [
        "# join 2-D arrays with vstack()\n",
        "import numpy as np\n",
        "arr_1=np.array([[1, 2, 3], [4, 5, 6]])\n",
        "arr_2=np.array([[7, 8, 9], [10, 11, 12]])\n",
        "arr=np.vstack((arr_1, arr_2))\n",
        "print(arr)"
      ],
      "metadata": {
        "colab": {
          "base_uri": "https://localhost:8080/"
        },
        "id": "0bObup16moIO",
        "outputId": "b307aa3f-6c85-4e43-ee24-2e3998d1fa9f"
      },
      "execution_count": null,
      "outputs": [
        {
          "output_type": "stream",
          "name": "stdout",
          "text": [
            "[[ 1  2  3]\n",
            " [ 4  5  6]\n",
            " [ 7  8  9]\n",
            " [10 11 12]]\n"
          ]
        }
      ]
    },
    {
      "cell_type": "code",
      "source": [
        "# join 3-D arrays with vstack()\n",
        "import numpy as np\n",
        "arr_1=np.array([[[1, 2], [3, 4]], [[5, 6], [7, 8]]])\n",
        "arr_2=np.array([[[9, 10], [11, 12]], [[13, 14], [15, 16]]])\n",
        "arr=np.vstack((arr_1, arr_2))\n",
        "print(arr)"
      ],
      "metadata": {
        "colab": {
          "base_uri": "https://localhost:8080/"
        },
        "id": "SnC5xaCFmsNq",
        "outputId": "0bb45bfa-24e6-45b2-aee4-6b673db71e8b"
      },
      "execution_count": null,
      "outputs": [
        {
          "output_type": "stream",
          "name": "stdout",
          "text": [
            "[[[ 1  2]\n",
            "  [ 3  4]]\n",
            "\n",
            " [[ 5  6]\n",
            "  [ 7  8]]\n",
            "\n",
            " [[ 9 10]\n",
            "  [11 12]]\n",
            "\n",
            " [[13 14]\n",
            "  [15 16]]]\n"
          ]
        }
      ]
    },
    {
      "cell_type": "markdown",
      "source": [
        "**Stacking along height (depth)**"
      ],
      "metadata": {
        "id": "TY-vTrepmwqI"
      }
    },
    {
      "cell_type": "code",
      "source": [
        "# join 1-D arrays with dstack()\n",
        "import numpy as np\n",
        "arr_1=np.array([1, 2, 3, 4, 5])\n",
        "arr_2=np.array([6, 7, 8, 9, 10])\n",
        "arr=np.dstack((arr_1, arr_2))\n",
        "print(arr)"
      ],
      "metadata": {
        "colab": {
          "base_uri": "https://localhost:8080/"
        },
        "id": "_UH7ePdAm0rg",
        "outputId": "5a582fea-3fdf-4473-8e32-606d500f5838"
      },
      "execution_count": null,
      "outputs": [
        {
          "output_type": "stream",
          "name": "stdout",
          "text": [
            "[[[ 1  6]\n",
            "  [ 2  7]\n",
            "  [ 3  8]\n",
            "  [ 4  9]\n",
            "  [ 5 10]]]\n"
          ]
        }
      ]
    },
    {
      "cell_type": "code",
      "source": [
        "# join 2-D arrays with dstack()\n",
        "import numpy as np\n",
        "arr_1=np.array([[1, 2, 3], [4, 5, 6]])\n",
        "arr_2=np.array([[7, 8, 9], [10, 11, 12]])\n",
        "arr=np.dstack((arr_1, arr_2))\n",
        "print(arr)"
      ],
      "metadata": {
        "colab": {
          "base_uri": "https://localhost:8080/"
        },
        "id": "1pd4eL9xm9H2",
        "outputId": "205b29b2-c495-461b-ab44-d6f20c9e64a5"
      },
      "execution_count": null,
      "outputs": [
        {
          "output_type": "stream",
          "name": "stdout",
          "text": [
            "[[[ 1  7]\n",
            "  [ 2  8]\n",
            "  [ 3  9]]\n",
            "\n",
            " [[ 4 10]\n",
            "  [ 5 11]\n",
            "  [ 6 12]]]\n"
          ]
        }
      ]
    },
    {
      "cell_type": "code",
      "source": [
        "# join 3-D arrays with dstack()\n",
        "import numpy as np\n",
        "arr_1=np.array([[[1, 2], [3, 4]], [[5, 6], [7, 8]]])\n",
        "arr_2=np.array([[[9, 10], [11, 12]], [[13, 14], [15, 16]]])\n",
        "arr=np.dstack((arr_1, arr_2))\n",
        "print(arr)"
      ],
      "metadata": {
        "colab": {
          "base_uri": "https://localhost:8080/"
        },
        "id": "V15pNuuom_yO",
        "outputId": "3db5a58b-65f8-4c9d-d728-b1cccb11590a"
      },
      "execution_count": null,
      "outputs": [
        {
          "output_type": "stream",
          "name": "stdout",
          "text": [
            "[[[ 1  2  9 10]\n",
            "  [ 3  4 11 12]]\n",
            "\n",
            " [[ 5  6 13 14]\n",
            "  [ 7  8 15 16]]]\n"
          ]
        }
      ]
    },
    {
      "cell_type": "markdown",
      "source": [
        "**Splitting NumPy Arrays**\n",
        "\n",
        "---\n",
        "\n"
      ],
      "metadata": {
        "id": "NGmbXG6jnhC_"
      }
    },
    {
      "cell_type": "markdown",
      "source": [
        "Splitting is reverse operation of joining. It breaks one array into multiple by using **array_split()** function."
      ],
      "metadata": {
        "id": "bybXZV0rnmTW"
      }
    },
    {
      "cell_type": "code",
      "source": [
        "# split the array in 2 parts\n",
        "import numpy as np\n",
        "arr= np.array([1, 2, 3, 4, 5])\n",
        "new_arr=np.array_split(arr, 2)\n",
        "print(new_arr)"
      ],
      "metadata": {
        "colab": {
          "base_uri": "https://localhost:8080/"
        },
        "id": "JRbxzeOrnrnf",
        "outputId": "0f4aee04-015c-49bc-8488-90b733fad56f"
      },
      "execution_count": null,
      "outputs": [
        {
          "output_type": "stream",
          "name": "stdout",
          "text": [
            "[array([1, 2, 3]), array([4, 5])]\n"
          ]
        }
      ]
    },
    {
      "cell_type": "code",
      "source": [
        "# split the array in 4 parts\n",
        "import numpy as np\n",
        "arr= np.array([1, 2, 3, 4, 5])\n",
        "new_arr=np.array_split(arr, 4)\n",
        "print(new_arr)"
      ],
      "metadata": {
        "colab": {
          "base_uri": "https://localhost:8080/"
        },
        "id": "G0Yd7uV61sk2",
        "outputId": "2f07f642-0702-4317-8b21-78847665085b"
      },
      "execution_count": null,
      "outputs": [
        {
          "output_type": "stream",
          "name": "stdout",
          "text": [
            "[array([1, 2]), array([3]), array([4]), array([5])]\n"
          ]
        }
      ]
    },
    {
      "cell_type": "markdown",
      "source": [
        "**1-D array**"
      ],
      "metadata": {
        "id": "7htXXvIG1xxF"
      }
    },
    {
      "cell_type": "code",
      "source": [
        "# access the splitted arrays\n",
        "import numpy as np\n",
        "arr=np.array([1, 2, 3, 4, 5])\n",
        "new_arr=np.array_split(arr, 2)\n",
        "\n",
        "print(f\"The first array is {new_arr[0]}\")\n",
        "print(f\"The second array is {new_arr[1]}\")"
      ],
      "metadata": {
        "colab": {
          "base_uri": "https://localhost:8080/"
        },
        "id": "fjSGiAVL10p3",
        "outputId": "ee487bd8-6495-4e32-e700-47843a11b583"
      },
      "execution_count": null,
      "outputs": [
        {
          "output_type": "stream",
          "name": "stdout",
          "text": [
            "The first array is [1 2 3]\n",
            "The second array is [4 5]\n"
          ]
        }
      ]
    },
    {
      "cell_type": "markdown",
      "source": [
        "**2-D array**"
      ],
      "metadata": {
        "id": "QB3X3nIb2hDF"
      }
    },
    {
      "cell_type": "code",
      "source": [
        "# split the 2-D array into three 2-D arrays\n",
        "import numpy as np\n",
        "arr=np.array([[1, 2, 3], [4, 5, 6]])\n",
        "new_arr=np.array_split(arr, 3)\n",
        "print(new_arr)"
      ],
      "metadata": {
        "colab": {
          "base_uri": "https://localhost:8080/"
        },
        "id": "0g-H6WPi2i3w",
        "outputId": "c843fe8f-e3cd-4aba-c8ba-1a1a3529dcae"
      },
      "execution_count": null,
      "outputs": [
        {
          "output_type": "stream",
          "name": "stdout",
          "text": [
            "[array([[1, 2, 3]]), array([[4, 5, 6]]), array([], shape=(0, 3), dtype=int64)]\n"
          ]
        }
      ]
    },
    {
      "cell_type": "code",
      "source": [
        "# split the 2-D array into three 2-D arrays with axis=1\n",
        "import numpy as np\n",
        "arr=np.array([[1, 2, 3], [4, 5, 6]])\n",
        "new_arr=np.array_split(arr, 3, axis=1)\n",
        "print(new_arr)"
      ],
      "metadata": {
        "colab": {
          "base_uri": "https://localhost:8080/"
        },
        "id": "4fzN_TtL3OS9",
        "outputId": "88b748ed-bdbe-47e7-ea09-eb6a3810dd7f"
      },
      "execution_count": null,
      "outputs": [
        {
          "output_type": "stream",
          "name": "stdout",
          "text": [
            "[array([[1],\n",
            "       [4]]), array([[2],\n",
            "       [5]]), array([[3],\n",
            "       [6]])]\n"
          ]
        }
      ]
    },
    {
      "cell_type": "code",
      "source": [
        "# split the 2-D array into three 2-D arrays usign hsplit()\n",
        "import numpy as np\n",
        "arr=np.array([[1, 2, 3], [4, 5, 6]])\n",
        "new_arr=np.hsplit(arr, 3)\n",
        "print(new_arr)"
      ],
      "metadata": {
        "colab": {
          "base_uri": "https://localhost:8080/"
        },
        "id": "ebPSz84s3Xlm",
        "outputId": "f7d40a29-92a8-4797-af40-669594f731c5"
      },
      "execution_count": null,
      "outputs": [
        {
          "output_type": "stream",
          "name": "stdout",
          "text": [
            "[array([[1],\n",
            "       [4]]), array([[2],\n",
            "       [5]]), array([[3],\n",
            "       [6]])]\n"
          ]
        }
      ]
    },
    {
      "cell_type": "code",
      "source": [
        "# split the 2-D array into three 2-D arrays usign vsplit()\n",
        "import numpy as np\n",
        "arr=np.array([[1, 2, 3], [4, 5, 6], [7, 8, 9]])\n",
        "new_arr=np.vsplit(arr, 3)\n",
        "print(new_arr)"
      ],
      "metadata": {
        "colab": {
          "base_uri": "https://localhost:8080/"
        },
        "id": "ulhlMwGh3fum",
        "outputId": "796578a2-7612-4d56-f759-fa1327a5846a"
      },
      "execution_count": null,
      "outputs": [
        {
          "output_type": "stream",
          "name": "stdout",
          "text": [
            "[array([[1, 2, 3]]), array([[4, 5, 6]]), array([[7, 8, 9]])]\n"
          ]
        }
      ]
    },
    {
      "cell_type": "code",
      "source": [
        "# split the 3-D array into three 2-D arrays usign dsplit()\n",
        "import numpy as np\n",
        "arr=np.array([[[1, 2], [3, 4]], [[5, 6], [7, 8]]])\n",
        "new_arr=np.dsplit(arr, 2)\n",
        "print(new_arr)"
      ],
      "metadata": {
        "colab": {
          "base_uri": "https://localhost:8080/"
        },
        "id": "DWQ6gk8r4E-K",
        "outputId": "f2cf6fa4-88ec-4618-dec0-d0a56ab21df1"
      },
      "execution_count": null,
      "outputs": [
        {
          "output_type": "stream",
          "name": "stdout",
          "text": [
            "[array([[[1],\n",
            "        [3]],\n",
            "\n",
            "       [[5],\n",
            "        [7]]]), array([[[2],\n",
            "        [4]],\n",
            "\n",
            "       [[6],\n",
            "        [8]]])]\n"
          ]
        }
      ]
    },
    {
      "cell_type": "markdown",
      "source": [
        "**NumPy Searching Arrays**\n",
        "\n",
        "---\n",
        "\n"
      ],
      "metadata": {
        "id": "2Q8hAbHB4b3t"
      }
    },
    {
      "cell_type": "markdown",
      "source": [
        "To search an array, use the **where()** method."
      ],
      "metadata": {
        "id": "xQ6SmdnJ4jOd"
      }
    },
    {
      "cell_type": "code",
      "source": [
        "# find the idexes where the value is 7\n",
        "import numpy as np\n",
        "arr=np.array([1, 2, 3, 4, 5, 6, 7, 8, 9, 7])\n",
        "indexNumber=np.where(arr==7)\n",
        "print(indexNumber)"
      ],
      "metadata": {
        "colab": {
          "base_uri": "https://localhost:8080/"
        },
        "id": "d299RuwZ4hI_",
        "outputId": "35670e78-8c77-4c91-f716-f5c2c66ceb84"
      },
      "execution_count": null,
      "outputs": [
        {
          "output_type": "stream",
          "name": "stdout",
          "text": [
            "(array([6, 9]),)\n"
          ]
        }
      ]
    },
    {
      "cell_type": "code",
      "source": [
        "# find the indexes where the values are even\n",
        "import numpy as np\n",
        "arr = np.array([1, 2, 3, 4, 5, 6, 7, 8, 9, 10])\n",
        "indexNumber=np.where(arr%2==0)\n",
        "print(indexNumber)"
      ],
      "metadata": {
        "colab": {
          "base_uri": "https://localhost:8080/"
        },
        "id": "hKKowUpD6BXV",
        "outputId": "2e9884a8-e8d0-4145-8862-e392e090e975"
      },
      "execution_count": null,
      "outputs": [
        {
          "output_type": "stream",
          "name": "stdout",
          "text": [
            "(array([1, 3, 5, 7, 9]),)\n"
          ]
        }
      ]
    },
    {
      "cell_type": "code",
      "source": [
        "# find the indexes where the values are odd\n",
        "import numpy as np\n",
        "arr = np.array([1, 2, 3, 4, 5, 6, 7, 8, 9, 10])\n",
        "indexNumber=np.where(arr%2!=0)\n",
        "print(indexNumber)"
      ],
      "metadata": {
        "colab": {
          "base_uri": "https://localhost:8080/"
        },
        "id": "0sZXUs1R6eDl",
        "outputId": "f5f65e50-fef6-49a5-a9c2-23fea9ec0047"
      },
      "execution_count": null,
      "outputs": [
        {
          "output_type": "stream",
          "name": "stdout",
          "text": [
            "(array([0, 2, 4, 6, 8]),)\n"
          ]
        }
      ]
    },
    {
      "cell_type": "markdown",
      "source": [
        "**searchsorted()**"
      ],
      "metadata": {
        "id": "vTKlA08a6shB"
      }
    },
    {
      "cell_type": "code",
      "source": [
        "# find the idexes where the value is 7\n",
        "import numpy as np\n",
        "arr=np.array([1, 2, 3, 4, 5, 6, 7, 8, 9, 7])\n",
        "indexNumber=np.searchsorted(arr, 7)\n",
        "print(indexNumber)"
      ],
      "metadata": {
        "colab": {
          "base_uri": "https://localhost:8080/"
        },
        "id": "NwFGjX2S6zXN",
        "outputId": "2692d16b-ae47-4bce-ed4d-108b2de60330"
      },
      "execution_count": null,
      "outputs": [
        {
          "output_type": "stream",
          "name": "stdout",
          "text": [
            "6\n"
          ]
        }
      ]
    },
    {
      "cell_type": "code",
      "source": [
        "# find the indexes where the values are even\n",
        "import numpy as np\n",
        "arr = np.array([1, 2, 3, 4, 5, 6, 7, 8, 9, 10])\n",
        "values= arr[arr%2==0]\n",
        "indexNumber=np.searchsorted(arr, values)\n",
        "print(indexNumber)"
      ],
      "metadata": {
        "colab": {
          "base_uri": "https://localhost:8080/"
        },
        "id": "UnMH2Jpf7BBd",
        "outputId": "fba33009-0e99-4334-b7f0-0bec86e526a6"
      },
      "execution_count": null,
      "outputs": [
        {
          "output_type": "stream",
          "name": "stdout",
          "text": [
            "[1 3 5 7 9]\n"
          ]
        }
      ]
    },
    {
      "cell_type": "code",
      "source": [
        "# find the indexes where the values are odd\n",
        "import numpy as np\n",
        "arr = np.array([1, 2, 3, 4, 5, 6, 7, 8, 9, 10])\n",
        "values= arr[arr%2!=0]\n",
        "indexNumber=np.searchsorted(arr, values)\n",
        "print(indexNumber)"
      ],
      "metadata": {
        "colab": {
          "base_uri": "https://localhost:8080/"
        },
        "id": "vzNto4Tw73_-",
        "outputId": "98b47ff1-8ba8-47ea-84b0-fd90a1ef5dfa"
      },
      "execution_count": null,
      "outputs": [
        {
          "output_type": "stream",
          "name": "stdout",
          "text": [
            "[0 2 4 6 8]\n"
          ]
        }
      ]
    },
    {
      "cell_type": "markdown",
      "source": [
        "**Search from the right side**"
      ],
      "metadata": {
        "id": "5F0QFHETGuPI"
      }
    },
    {
      "cell_type": "code",
      "source": [
        "# find the idexes where the value is 7\n",
        "import numpy as np\n",
        "arr=np.array([1, 2, 3, 4, 5, 6, 7, 8, 9, 7])\n",
        "indexNumber=np.searchsorted(arr, 4, side='left')\n",
        "print(indexNumber)"
      ],
      "metadata": {
        "colab": {
          "base_uri": "https://localhost:8080/"
        },
        "id": "eNn1CSPZGz-w",
        "outputId": "03fb274f-1b59-4c3b-8fc6-9615b38c048c"
      },
      "execution_count": null,
      "outputs": [
        {
          "output_type": "stream",
          "name": "stdout",
          "text": [
            "3\n"
          ]
        }
      ]
    },
    {
      "cell_type": "code",
      "source": [
        "# find the idexes where the value is 7\n",
        "import numpy as np\n",
        "arr=np.array([1, 2, 3, 4, 5, 6, 7, 8, 9, 7])\n",
        "indexNumber=np.searchsorted(arr, 4, side='right')\n",
        "print(indexNumber)"
      ],
      "metadata": {
        "colab": {
          "base_uri": "https://localhost:8080/"
        },
        "id": "e96YNb6HHVMX",
        "outputId": "552ede1a-6412-4c83-a25c-35b69a7518ae"
      },
      "execution_count": null,
      "outputs": [
        {
          "output_type": "stream",
          "name": "stdout",
          "text": [
            "4\n"
          ]
        }
      ]
    },
    {
      "cell_type": "markdown",
      "source": [
        "**Multiple values**"
      ],
      "metadata": {
        "id": "etxA7pgtHax_"
      }
    },
    {
      "cell_type": "code",
      "source": [
        "# find the idexes where the values 3, 7, 5\n",
        "import numpy as np\n",
        "arr=np.array([1, 2, 3, 4, 5, 6, 7, 8, 9, 7])\n",
        "indexNumber=np.searchsorted(arr, [3, 7, 5])\n",
        "print(indexNumber)"
      ],
      "metadata": {
        "colab": {
          "base_uri": "https://localhost:8080/"
        },
        "id": "YM1j7R7EHdJh",
        "outputId": "e7b5d770-2551-46c8-9c69-1a95329adba2"
      },
      "execution_count": null,
      "outputs": [
        {
          "output_type": "stream",
          "name": "stdout",
          "text": [
            "[2 6 4]\n"
          ]
        }
      ]
    },
    {
      "cell_type": "markdown",
      "source": [
        "**NumPy Sorting Arrays**\n",
        "\n",
        "---\n",
        "\n"
      ],
      "metadata": {
        "id": "52KiFBsyKpyT"
      }
    },
    {
      "cell_type": "markdown",
      "source": [
        "Sorting means putting elements in an ordered sequence.\n",
        "\n",
        "To sort we used **sort()** method."
      ],
      "metadata": {
        "id": "Bv63abZlKuu_"
      }
    },
    {
      "cell_type": "markdown",
      "source": [
        "**Sorting 1-D array**"
      ],
      "metadata": {
        "id": "9Z8GM58nM2qr"
      }
    },
    {
      "cell_type": "code",
      "source": [
        "# sort the array\n",
        "import numpy as np\n",
        "arr=np.array([12, 9, 1, 3, 7, 44, 5, 1, 9])\n",
        "sort_number=np.sort(arr)\n",
        "print(sort_number)"
      ],
      "metadata": {
        "colab": {
          "base_uri": "https://localhost:8080/"
        },
        "id": "hy49_k0OK69w",
        "outputId": "5f27d13e-e56c-4654-f6f3-5160f6e53721"
      },
      "execution_count": null,
      "outputs": [
        {
          "output_type": "stream",
          "name": "stdout",
          "text": [
            "[ 1  1  3  5  7  9  9 12 44]\n"
          ]
        }
      ]
    },
    {
      "cell_type": "code",
      "source": [
        "# sort the array alphabetically\n",
        "import numpy as np\n",
        "arr=np.array(['Shohan', 'Mizan', 'Razon', 'Abdul'])\n",
        "sort_name=np.sort(arr)\n",
        "print(sort_name)"
      ],
      "metadata": {
        "colab": {
          "base_uri": "https://localhost:8080/"
        },
        "id": "OVG3qdjVMZW1",
        "outputId": "1b22464a-7e7a-4070-8fe5-d650878a9df7"
      },
      "execution_count": null,
      "outputs": [
        {
          "output_type": "stream",
          "name": "stdout",
          "text": [
            "['Abdul' 'Mizan' 'Razon' 'Shohan']\n"
          ]
        }
      ]
    },
    {
      "cell_type": "code",
      "source": [
        "# sort a boolean array\n",
        "import numpy as np\n",
        "arr = np.array([True, False, True])\n",
        "print(np.sort(arr))"
      ],
      "metadata": {
        "colab": {
          "base_uri": "https://localhost:8080/"
        },
        "id": "VNlXdBJ5Muae",
        "outputId": "4a186c07-ac65-455d-c293-c80c76a8115b"
      },
      "execution_count": null,
      "outputs": [
        {
          "output_type": "stream",
          "name": "stdout",
          "text": [
            "[False  True  True]\n"
          ]
        }
      ]
    },
    {
      "cell_type": "markdown",
      "source": [
        "**Sorting 2-D array**"
      ],
      "metadata": {
        "id": "mUD67a1PM625"
      }
    },
    {
      "cell_type": "code",
      "source": [
        "# sort a 2-D array\n",
        "import numpy as np\n",
        "arr=np.array([[3, 1, 2, 7], [8, 4, 2, 1]])\n",
        "sort_number=np.sort(arr)\n",
        "print(sort_number)"
      ],
      "metadata": {
        "colab": {
          "base_uri": "https://localhost:8080/"
        },
        "id": "BoK_CO_XM94i",
        "outputId": "c2380659-60fa-4a7c-a088-fe3cc9e025da"
      },
      "execution_count": null,
      "outputs": [
        {
          "output_type": "stream",
          "name": "stdout",
          "text": [
            "[[1 2 3 7]\n",
            " [1 2 4 8]]\n"
          ]
        }
      ]
    },
    {
      "cell_type": "markdown",
      "source": [
        "**Sorting 3-D array**"
      ],
      "metadata": {
        "id": "6r8701N-NqkR"
      }
    },
    {
      "cell_type": "code",
      "source": [
        "# sort a 3-D array\n",
        "import numpy as np\n",
        "arr=np.array([[[4, 2, 1], [3, 2, 3]], [[3, 6, 1], [7, 3, 5]]])\n",
        "sort_number=np.sort(arr)\n",
        "print(sort_number)"
      ],
      "metadata": {
        "colab": {
          "base_uri": "https://localhost:8080/"
        },
        "id": "iQt6NJM2NWBW",
        "outputId": "3ad96fa0-147a-4a50-ec2b-dbb26fdbd29a"
      },
      "execution_count": null,
      "outputs": [
        {
          "output_type": "stream",
          "name": "stdout",
          "text": [
            "[[[1 2 4]\n",
            "  [2 3 3]]\n",
            "\n",
            " [[1 3 6]\n",
            "  [3 5 7]]]\n"
          ]
        }
      ]
    },
    {
      "cell_type": "markdown",
      "source": [
        "**NumPy Filter Array**\n",
        "\n",
        "---\n",
        "\n"
      ],
      "metadata": {
        "id": "_-B5WRntNv-e"
      }
    },
    {
      "cell_type": "markdown",
      "source": [
        "Getting some items out of an existing array and creating a new array out of them is called filtering."
      ],
      "metadata": {
        "id": "e2SfgYByNzzA"
      }
    },
    {
      "cell_type": "code",
      "source": [
        "# create an array from the elements on index 0 and 2\n",
        "import numpy as np\n",
        "arr = np.array([41, 42, 43, 44])\n",
        "x = [True, False, True, False]\n",
        "newarr = arr[x]\n",
        "print(newarr)"
      ],
      "metadata": {
        "colab": {
          "base_uri": "https://localhost:8080/"
        },
        "id": "_ihQr1R6OBI4",
        "outputId": "c6bd0565-b209-4eb6-ef03-09dfc691760e"
      },
      "execution_count": null,
      "outputs": [
        {
          "output_type": "stream",
          "name": "stdout",
          "text": [
            "[41 43]\n"
          ]
        }
      ]
    },
    {
      "cell_type": "markdown",
      "source": [
        "**Creating filter directly from array**"
      ],
      "metadata": {
        "id": "kPuxDSDqStRv"
      }
    },
    {
      "cell_type": "code",
      "source": [
        "# create a filter array that will return only values higher than 35 with sorted\n",
        "import numpy as np\n",
        "arr=np.array([12, 45, 22, 78, 33, 21, 55, 23, 74, 88])\n",
        "\n",
        "filter_arr=arr > 35\n",
        "\n",
        "new_arr=arr[filter_arr]\n",
        "print(np.sort(new_arr))"
      ],
      "metadata": {
        "colab": {
          "base_uri": "https://localhost:8080/"
        },
        "id": "Hx5SXIBFS0Ae",
        "outputId": "05e760e0-e724-4109-c920-7668f3835151"
      },
      "execution_count": null,
      "outputs": [
        {
          "output_type": "stream",
          "name": "stdout",
          "text": [
            "[45 55 74 78 88]\n"
          ]
        }
      ]
    },
    {
      "cell_type": "code",
      "source": [
        "# create a filter array that will return only even values with sorted\n",
        "import numpy as np\n",
        "arr=np.array([12, 45, 22, 78, 33, 21, 55, 23, 74, 88])\n",
        "\n",
        "filter_arr=arr%2==0\n",
        "\n",
        "new_arr=arr[filter_arr]\n",
        "print(np.sort(new_arr))"
      ],
      "metadata": {
        "colab": {
          "base_uri": "https://localhost:8080/"
        },
        "id": "wcHqtEoQS95O",
        "outputId": "46067ada-53db-40d4-d127-98e1fbce5408"
      },
      "execution_count": null,
      "outputs": [
        {
          "output_type": "stream",
          "name": "stdout",
          "text": [
            "[12 22 74 78 88]\n"
          ]
        }
      ]
    },
    {
      "cell_type": "code",
      "source": [
        "# create a filter array that will return only odd values with sorted\n",
        "import numpy as np\n",
        "arr=np.array([12, 45, 22, 78, 33, 21, 55, 23, 74, 88])\n",
        "\n",
        "filter_arr=arr%2!=0\n",
        "\n",
        "new_arr=arr[filter_arr]\n",
        "print(np.sort(new_arr))"
      ],
      "metadata": {
        "colab": {
          "base_uri": "https://localhost:8080/"
        },
        "id": "jTWCMtQcTIbY",
        "outputId": "969f8eab-fdf2-4a7f-83a1-349c0bc9a63b"
      },
      "execution_count": null,
      "outputs": [
        {
          "output_type": "stream",
          "name": "stdout",
          "text": [
            "[21 23 33 45 55]\n"
          ]
        }
      ]
    },
    {
      "cell_type": "markdown",
      "source": [
        "**Creating the filter array using condition**"
      ],
      "metadata": {
        "id": "Lhg0W6jCTOOn"
      }
    },
    {
      "cell_type": "code",
      "source": [
        "# create a filter array that will return only values higher than 35 with sorted\n",
        "import numpy as np\n",
        "arr=np.array([12, 45, 22, 78, 33, 21, 55, 23, 74, 88])\n",
        "\n",
        "filter_arr=[]\n",
        "\n",
        "for i in arr:\n",
        "  if i>35:\n",
        "    filter_arr.append(True)\n",
        "  else:\n",
        "    filter_arr.append(False)\n",
        "\n",
        "new_arr=arr[filter_arr]\n",
        "print(np.sort(new_arr))"
      ],
      "metadata": {
        "colab": {
          "base_uri": "https://localhost:8080/"
        },
        "id": "DzuzpInKRKCf",
        "outputId": "77284539-b178-48a2-e681-d3f55f36cd8a"
      },
      "execution_count": null,
      "outputs": [
        {
          "output_type": "stream",
          "name": "stdout",
          "text": [
            "[45 55 74 78 88]\n"
          ]
        }
      ]
    },
    {
      "cell_type": "code",
      "source": [
        "# create a filter array that will return only even values with sorted\n",
        "import numpy as np\n",
        "arr=np.array([12, 45, 22, 78, 33, 21, 55, 23, 74, 88])\n",
        "\n",
        "filter_arr=[]\n",
        "\n",
        "for i in arr:\n",
        "  if i%2==0:\n",
        "    filter_arr.append(True)\n",
        "  else:\n",
        "    filter_arr.append(False)\n",
        "\n",
        "new_arr=arr[filter_arr]\n",
        "print(np.sort(new_arr))"
      ],
      "metadata": {
        "colab": {
          "base_uri": "https://localhost:8080/"
        },
        "id": "vGcNuQRTSSdc",
        "outputId": "7ed376b0-1615-4167-d115-6a6899f3928a"
      },
      "execution_count": null,
      "outputs": [
        {
          "output_type": "stream",
          "name": "stdout",
          "text": [
            "[12 22 74 78 88]\n"
          ]
        }
      ]
    },
    {
      "cell_type": "code",
      "source": [
        "# create a filter array that will return only odd values with sorted\n",
        "import numpy as np\n",
        "arr=np.array([12, 45, 22, 78, 33, 21, 55, 23, 74, 88])\n",
        "\n",
        "filter_arr=[]\n",
        "\n",
        "for i in arr:\n",
        "  if i%2!=0:\n",
        "    filter_arr.append(True)\n",
        "  else:\n",
        "    filter_arr.append(False)\n",
        "\n",
        "new_arr=arr[filter_arr]\n",
        "print(np.sort(new_arr))"
      ],
      "metadata": {
        "colab": {
          "base_uri": "https://localhost:8080/"
        },
        "id": "vh_JYD-CSgrn",
        "outputId": "dc9a50e0-ecfe-4f67-a4ba-583d9a865436"
      },
      "execution_count": null,
      "outputs": [
        {
          "output_type": "stream",
          "name": "stdout",
          "text": [
            "[21 23 33 45 55]\n"
          ]
        }
      ]
    }
  ]
}