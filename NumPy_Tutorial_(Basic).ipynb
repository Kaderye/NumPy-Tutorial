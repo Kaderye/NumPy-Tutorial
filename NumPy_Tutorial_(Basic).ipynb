{
  "nbformat": 4,
  "nbformat_minor": 0,
  "metadata": {
    "colab": {
      "provenance": [],
      "authorship_tag": "ABX9TyMfL9WA4lgu+B6fev6Am+wy",
      "include_colab_link": true
    },
    "kernelspec": {
      "name": "python3",
      "display_name": "Python 3"
    },
    "language_info": {
      "name": "python"
    }
  },
  "cells": [
    {
      "cell_type": "markdown",
      "metadata": {
        "id": "view-in-github",
        "colab_type": "text"
      },
      "source": [
        "<a href=\"https://colab.research.google.com/github/Kaderye/NumPy-Tutorial/blob/main/NumPy_Tutorial_(Basic).ipynb\" target=\"_parent\"><img src=\"https://colab.research.google.com/assets/colab-badge.svg\" alt=\"Open In Colab\"/></a>"
      ]
    },
    {
      "cell_type": "markdown",
      "source": [
        "# **NumPy Tutorial (Basic)**"
      ],
      "metadata": {
        "id": "v-mGhK5Pm80B"
      }
    },
    {
      "cell_type": "markdown",
      "source": [
        "**NumPy Introduction**\n",
        "\n",
        "---\n",
        "\n"
      ],
      "metadata": {
        "id": "w4kIuuz6n3bf"
      }
    },
    {
      "cell_type": "markdown",
      "source": [
        "NumPy stands for Numerical Python.\n",
        "\n",
        "It is a python library used for working with arrays.\n",
        "\n",
        "NumPy was created by Travis Oliphant in 2005.\n",
        "\n",
        "It is an open source project."
      ],
      "metadata": {
        "id": "zUfufjf2qQVP"
      }
    },
    {
      "cell_type": "markdown",
      "source": [
        "**Why use NumPy?**\n",
        "\n",
        "NumPy provides an array object that is up to 50x faster than traditional python lists.\n",
        "\n",
        "The array object in NumPy is called ndarray, it provides a lot of supporting functions."
      ],
      "metadata": {
        "id": "ctCdrH5epOFH"
      }
    },
    {
      "cell_type": "markdown",
      "source": [
        "**NumPy codebase:** https://github.com/numpy/numpy"
      ],
      "metadata": {
        "id": "8ytVst9wp_mo"
      }
    },
    {
      "cell_type": "markdown",
      "source": [
        "**NumPy Getting Started**\n",
        "\n",
        "---\n",
        "\n"
      ],
      "metadata": {
        "id": "EzZINt5-qmfR"
      }
    },
    {
      "cell_type": "markdown",
      "source": [
        "If you have Python and PIP already installed on a system, then installation of NumPy is very easy."
      ],
      "metadata": {
        "id": "Xbnf0aeiqsNX"
      }
    },
    {
      "cell_type": "markdown",
      "source": [
        "C:\\Users\\Your Name>**pip install numpy**"
      ],
      "metadata": {
        "id": "JerQbXHerO4p"
      }
    },
    {
      "cell_type": "markdown",
      "source": [
        "If this command fails, then use a python distribution that already has NumPy istalled like, Anaconda, Spyder."
      ],
      "metadata": {
        "id": "1q5IcXAFq_I_"
      }
    },
    {
      "cell_type": "code",
      "source": [
        "# import NumPy module\n",
        "import numpy\n",
        "number_list = [1, 2, 3, 4, 5, 6, 7, 8, 9, 10]\n",
        "arr = numpy.array(number_list)\n",
        "print(f\"The output of array: {arr}\")\n",
        "print(f\"The type of NumPy is: {type(arr)}\")"
      ],
      "metadata": {
        "colab": {
          "base_uri": "https://localhost:8080/"
        },
        "id": "gXFHScjXsKIA",
        "outputId": "93de8c29-a0ee-44f0-a990-10b212425e47"
      },
      "execution_count": 11,
      "outputs": [
        {
          "output_type": "stream",
          "name": "stdout",
          "text": [
            "The output of array: [ 1  2  3  4  5  6  7  8  9 10]\n",
            "The type of NumPy is: <class 'numpy.ndarray'>\n"
          ]
        }
      ]
    },
    {
      "cell_type": "code",
      "source": [
        "# import NumPy module as np\n",
        "import numpy as np\n",
        "name_list = ['Abdul', 'Karim', 'Shohan', 'Razon', 'Mizan']\n",
        "arr = np.array(name_list)\n",
        "print(f\"The output of array: {arr}\")\n",
        "print(f\"The type of NumPy is: {type(arr)}\")"
      ],
      "metadata": {
        "colab": {
          "base_uri": "https://localhost:8080/"
        },
        "id": "4UUEbRTHrbz3",
        "outputId": "85de7179-1408-49ad-b13a-5f68f6c50751"
      },
      "execution_count": 12,
      "outputs": [
        {
          "output_type": "stream",
          "name": "stdout",
          "text": [
            "The output of array: ['Abdul' 'Karim' 'Shohan' 'Razon' 'Mizan']\n",
            "The type of NumPy is: <class 'numpy.ndarray'>\n"
          ]
        }
      ]
    },
    {
      "cell_type": "code",
      "source": [
        "# checking the version of NumPy\n",
        "import numpy as np\n",
        "print(f\"The isntalled version is: {np.__version__}\")"
      ],
      "metadata": {
        "colab": {
          "base_uri": "https://localhost:8080/"
        },
        "id": "GNWC1Q1usUx5",
        "outputId": "a91ae330-06fb-4c19-ea5e-5e5653e08ba9"
      },
      "execution_count": 14,
      "outputs": [
        {
          "output_type": "stream",
          "name": "stdout",
          "text": [
            "The isntalled version is: 2.0.2\n"
          ]
        }
      ]
    },
    {
      "cell_type": "markdown",
      "source": [
        "**NumPy Getting Arrays**\n",
        "\n",
        "---\n",
        "\n"
      ],
      "metadata": {
        "id": "QMmLmHeisvKj"
      }
    },
    {
      "cell_type": "code",
      "source": [
        "# NumPy is used to work with arrays. The array object in NumPy is called ndarray.\n",
        "\n",
        "# create a NumPy ndarray oject\n",
        "import numpy as np\n",
        "arr = np.array([1, 2, 3, 4, 5, 6, 7, 8, 9, 10])\n",
        "print(f\"The output of array: {arr}\")\n",
        "print(f\"The type of NumPy is: {type(arr)}\")\n",
        "\n",
        "# type() is used to see the type of the object."
      ],
      "metadata": {
        "colab": {
          "base_uri": "https://localhost:8080/"
        },
        "id": "fBs-r-DEszAe",
        "outputId": "697860ce-8abe-4c4d-f786-b1b1aa45ab7a"
      },
      "execution_count": 15,
      "outputs": [
        {
          "output_type": "stream",
          "name": "stdout",
          "text": [
            "The output of array: [ 1  2  3  4  5  6  7  8  9 10]\n",
            "The type of NumPy is: <class 'numpy.ndarray'>\n"
          ]
        }
      ]
    },
    {
      "cell_type": "markdown",
      "source": [
        "**Create a NumPy ndarray object**"
      ],
      "metadata": {
        "id": "ZcA6v5MKvqCg"
      }
    },
    {
      "cell_type": "markdown",
      "source": [
        "To create an ndarray, we can pass a list, tuple or any array like object into the array() method, and it will be converted into an ndarray."
      ],
      "metadata": {
        "id": "wcZsOLx1uUeY"
      }
    },
    {
      "cell_type": "code",
      "source": [
        "# use a tuple to create a numpy array\n",
        "import numpy as np\n",
        "mix_tuple=('Shohan', 15, '&&', -33, 'A')\n",
        "arr=np.array(mix_tuple)\n",
        "print(f\"The output of tuple : {arr}\")"
      ],
      "metadata": {
        "colab": {
          "base_uri": "https://localhost:8080/"
        },
        "id": "cPcptM6lui-P",
        "outputId": "4f852da1-c2e0-4367-9785-1c988af65a7d"
      },
      "execution_count": 18,
      "outputs": [
        {
          "output_type": "stream",
          "name": "stdout",
          "text": [
            "The output of tuple : ['Shohan' '15' '&&' '-33' 'A']\n"
          ]
        }
      ]
    },
    {
      "cell_type": "markdown",
      "source": [
        "**Dimenstions in arrays**"
      ],
      "metadata": {
        "id": "ZT526r3dvv-1"
      }
    },
    {
      "cell_type": "markdown",
      "source": [
        "A dimensions in arrays is one level of array depth (nested arrays).\n",
        "\n",
        "nested arrays are arrays that have arrays as their elements."
      ],
      "metadata": {
        "id": "5ZkqHnvKv0CA"
      }
    },
    {
      "cell_type": "markdown",
      "source": [
        "**0-D arrays**"
      ],
      "metadata": {
        "id": "FdevUeofwCDf"
      }
    },
    {
      "cell_type": "code",
      "source": [
        "# create a 0-D array or scalars array with the value 150\n",
        "import numpy as np\n",
        "arr = np.array(150)\n",
        "print(f\"The output of 0-D array is: {arr}\")\n"
      ],
      "metadata": {
        "colab": {
          "base_uri": "https://localhost:8080/"
        },
        "id": "bw3BV2xowEtB",
        "outputId": "8dae13c1-d305-4638-9d1e-33f7f04d8d22"
      },
      "execution_count": 20,
      "outputs": [
        {
          "output_type": "stream",
          "name": "stdout",
          "text": [
            "The output of 0-D array is: 150\n"
          ]
        }
      ]
    },
    {
      "cell_type": "markdown",
      "source": [
        "**1-D arrays**"
      ],
      "metadata": {
        "id": "LtIuPt07xB0Y"
      }
    },
    {
      "cell_type": "code",
      "source": [
        "# create a 1-D array or uni-dimensional array\n",
        "import numpy as np\n",
        "name_list=['Sujon', 'Razon', 'Shohan', 'Jodu', 'Modu']\n",
        "arr=np.array(name_list)\n",
        "print(f\"The output of 1-D array: {arr}\")"
      ],
      "metadata": {
        "colab": {
          "base_uri": "https://localhost:8080/"
        },
        "id": "zMJIPMgUxFrH",
        "outputId": "2149f9b5-9e78-4531-b1fc-1e3fd4a9dd72"
      },
      "execution_count": 21,
      "outputs": [
        {
          "output_type": "stream",
          "name": "stdout",
          "text": [
            "The output of 1-D array: ['Sujon' 'Razon' 'Shohan' 'Jodu' 'Modu']\n"
          ]
        }
      ]
    },
    {
      "cell_type": "markdown",
      "source": [
        "**2-D arrays**"
      ],
      "metadata": {
        "id": "ruFxuxAqxndX"
      }
    },
    {
      "cell_type": "code",
      "source": [
        "# create a 2-D arrays, it is used to represent matrix or 2nd order tensors.\n",
        "import numpy as np\n",
        "matrix_number=[[1, 2, 3], [4, 5, 6]]\n",
        "arr=np.array(matrix_number)\n",
        "print(f\"The output of 2-D array: \\n{arr}\")"
      ],
      "metadata": {
        "colab": {
          "base_uri": "https://localhost:8080/"
        },
        "id": "hHMG82zCxp7I",
        "outputId": "a404c1bf-bbb8-4fe8-cb0a-8954ba94b64a"
      },
      "execution_count": 51,
      "outputs": [
        {
          "output_type": "stream",
          "name": "stdout",
          "text": [
            "The output of 2-D array: \n",
            "[[1 2 3]\n",
            " [4 5 6]]\n"
          ]
        }
      ]
    },
    {
      "cell_type": "markdown",
      "source": [
        "**3-D arrays**"
      ],
      "metadata": {
        "id": "sv2rVpg5ydtJ"
      }
    },
    {
      "cell_type": "code",
      "source": [
        "# another 3-D arrays with two 2-D arrays\n",
        "import numpy as np\n",
        "matrix_number=[[[1, 2, 3], [4, 5, 6]], [[7, 8, 9], [6, 3, 1]]]\n",
        "arr=np.array(matrix_number)\n",
        "print(f\"The output of 3-D array: \\n{arr}\")"
      ],
      "metadata": {
        "colab": {
          "base_uri": "https://localhost:8080/"
        },
        "id": "5imtb7IZzK5L",
        "outputId": "72eb4627-7705-4e35-f0d8-73df9ae477b3"
      },
      "execution_count": 27,
      "outputs": [
        {
          "output_type": "stream",
          "name": "stdout",
          "text": [
            "The output of 3-D array: \n",
            "[[[1 2 3]\n",
            "  [4 5 6]]\n",
            "\n",
            " [[7 8 9]\n",
            "  [6 3 1]]]\n"
          ]
        }
      ]
    },
    {
      "cell_type": "markdown",
      "source": [
        "**Check number of dimensions**"
      ],
      "metadata": {
        "id": "mXIZe9PZzpHQ"
      }
    },
    {
      "cell_type": "code",
      "source": [
        "# check number of dimensions\n",
        "import numpy as np\n",
        "arr = np.array(150)\n",
        "print(f\"The number of dimensions at 0-D array is: {arr.ndim}\")\n",
        "\n",
        "name_list=['Sujon', 'Razon', 'Shohan', 'Jodu', 'Modu']\n",
        "arr=np.array(name_list)\n",
        "print(f\"The number of dimensions at 1-D array is: {arr.ndim}\")\n",
        "\n",
        "matrix_number=[[1, 2, 3], [4, 5, 6]]\n",
        "arr=np.array(matrix_number)\n",
        "print(f\"The number of dimensions at 2-D array is: {arr.ndim}\")\n",
        "\n",
        "matrix_number=[[[1, 2, 3], [4, 5, 6]], [[7, 8, 9], [6, 3, 1]]]\n",
        "arr=np.array(matrix_number)\n",
        "print(f\"The number of dimensions at 3-D array is: {arr.ndim}\")"
      ],
      "metadata": {
        "colab": {
          "base_uri": "https://localhost:8080/"
        },
        "id": "UbAbdCZ_ztfs",
        "outputId": "87fa8bba-312c-4d04-8d9d-b829d6623272"
      },
      "execution_count": 30,
      "outputs": [
        {
          "output_type": "stream",
          "name": "stdout",
          "text": [
            "The number of dimensions at 0-D array is: 0\n",
            "The number of dimensions at 1-D array is: 1\n",
            "The number of dimensions at 2-D array is: 2\n",
            "The number of dimensions at 3-D array is: 3\n"
          ]
        }
      ]
    },
    {
      "cell_type": "markdown",
      "source": [
        "**Higher dimensional arrays**"
      ],
      "metadata": {
        "id": "67TUtgiE2o9M"
      }
    },
    {
      "cell_type": "code",
      "source": [
        "# when the array is created, you can define the number of dimensions\n",
        "import numpy as np\n",
        "arr = np.array([1, 2, 3, 4, 5], ndmin=5)\n",
        "print(f\"The output: \\n{arr}\")\n",
        "print(f\"The number of dimensions : {arr.ndim}\")"
      ],
      "metadata": {
        "colab": {
          "base_uri": "https://localhost:8080/"
        },
        "id": "StfNNULF2sPc",
        "outputId": "9fd3f00f-7da3-4cd6-d0bb-de678c9e5a98"
      },
      "execution_count": 42,
      "outputs": [
        {
          "output_type": "stream",
          "name": "stdout",
          "text": [
            "The output: \n",
            "[[[[[1 2 3 4 5]]]]]\n",
            "The number of dimensions : 5\n"
          ]
        }
      ]
    },
    {
      "cell_type": "markdown",
      "source": [
        "In this array the innermost dimension (5th dim) has 4 elements,\n",
        "\n",
        "the 4th dim has 1 element that is the vector,\n",
        "\n",
        "the 3rd dim has 1 element that is the matrix with the vector,\n",
        "\n",
        "the 2nd dim has 1 element that is 3D array\n",
        "\n",
        "and 1st dim has 1 element that is a 4D array."
      ],
      "metadata": {
        "id": "3JCzXDjP4VMp"
      }
    },
    {
      "cell_type": "markdown",
      "source": [
        "**NumPy array indexing**"
      ],
      "metadata": {
        "id": "B7n9SQMq4r3T"
      }
    },
    {
      "cell_type": "markdown",
      "source": [
        "Array indexing is the same as accessing an array element.\n",
        "\n",
        "The index start with 0 to N."
      ],
      "metadata": {
        "id": "P3a-xc6l62iC"
      }
    },
    {
      "cell_type": "markdown",
      "source": [
        "**Access 1-D arrays**"
      ],
      "metadata": {
        "id": "sVB8xU6Q6yTn"
      }
    },
    {
      "cell_type": "code",
      "source": [
        "# get the first element of an array\n",
        "import numpy as np\n",
        "arr = np.array([12, 14, 16, 18, 20, 22, 24])\n",
        "print(f\"The first element is: {arr[0]}\")"
      ],
      "metadata": {
        "colab": {
          "base_uri": "https://localhost:8080/"
        },
        "id": "ucsENaJy4xAH",
        "outputId": "a49e351a-016d-4c2d-e1e2-ae5a4d3963f3"
      },
      "execution_count": 43,
      "outputs": [
        {
          "output_type": "stream",
          "name": "stdout",
          "text": [
            "The first element is: 12\n"
          ]
        }
      ]
    },
    {
      "cell_type": "code",
      "source": [
        "# get the second element of an array\n",
        "import numpy as np\n",
        "arr = np.array([12, 14, 16, 18, 20, 22, 24])\n",
        "print(f\"The second element is: {arr[1]}\")"
      ],
      "metadata": {
        "colab": {
          "base_uri": "https://localhost:8080/"
        },
        "id": "YN2TtnQT5UR4",
        "outputId": "1d2aadaa-15d1-4ad9-bdac-51af2b789d3f"
      },
      "execution_count": 44,
      "outputs": [
        {
          "output_type": "stream",
          "name": "stdout",
          "text": [
            "The second element is: 14\n"
          ]
        }
      ]
    },
    {
      "cell_type": "code",
      "source": [
        "# get the last element of an array\n",
        "import numpy as np\n",
        "arr = np.array([12, 14, 16, 18, 20, 22, 24])\n",
        "print(f\"The last element is: {arr[6]}\")"
      ],
      "metadata": {
        "colab": {
          "base_uri": "https://localhost:8080/"
        },
        "id": "ur9fWCxf5Zlb",
        "outputId": "81765aad-284b-4b34-82d9-976ddf2feaa7"
      },
      "execution_count": 45,
      "outputs": [
        {
          "output_type": "stream",
          "name": "stdout",
          "text": [
            "The last element is: 24\n"
          ]
        }
      ]
    },
    {
      "cell_type": "code",
      "source": [
        "# arithmetic operations between fourth and sixth elements\n",
        "import numpy as np\n",
        "arr = np.array([12, 14, 16, 18, 20, 22, 24])\n",
        "print(f\"The summation of {arr[3]} and {arr[5]} is: {arr[3] + arr[5]}\")\n",
        "print(f\"The subtraction of {arr[3]} and {arr[5]} is: {arr[3] - arr[5]}\")\n",
        "print(f\"The multiplicaiton of {arr[3]} and {arr[5]} is: {arr[3] * arr[5]}\")\n",
        "print(f\"The division of {arr[3]} and {arr[5]} is: {arr[3] / arr[5]}\")\n",
        "print(f\"The modulus of {arr[3]} and {arr[5]} is: {arr[3] % arr[5]}\")"
      ],
      "metadata": {
        "colab": {
          "base_uri": "https://localhost:8080/"
        },
        "id": "vOnF-ZKC5hzg",
        "outputId": "96cbf74e-f2e5-4f37-b8f0-a630e053992e"
      },
      "execution_count": 50,
      "outputs": [
        {
          "output_type": "stream",
          "name": "stdout",
          "text": [
            "The summation of 18 and 22 is: 40\n",
            "The subtraction of 18 and 22 is: -4\n",
            "The multiplicaiton of 18 and 22 is: 396\n",
            "The division of 18 and 22 is: 0.8181818181818182\n",
            "The modulus of 18 and 22 is: 18\n"
          ]
        }
      ]
    },
    {
      "cell_type": "markdown",
      "source": [
        "**Access 2-D arrays**"
      ],
      "metadata": {
        "id": "SgwWAUUr7IxV"
      }
    },
    {
      "cell_type": "code",
      "source": [
        "# create a 2-D arrays, it is used to represent matrix or 2nd order tensors.\n",
        "import numpy as np\n",
        "matrix_number=[[1, 2, 3], [4, 5, 6]]\n",
        "arr=np.array(matrix_number)\n",
        "print(f\"The 2nd element on 1st row: {arr[0, 1]}\")\n",
        "print(f\"The 2nd element on 2nd row: {arr[1, 1]}\")\n",
        "print(f\"The 3rd element on 1st row: {arr[0, 2]}\")"
      ],
      "metadata": {
        "colab": {
          "base_uri": "https://localhost:8080/"
        },
        "id": "UYwV_FId7MCL",
        "outputId": "9f5c17f2-d1d0-4bd5-99f7-5b2017290b7a"
      },
      "execution_count": 54,
      "outputs": [
        {
          "output_type": "stream",
          "name": "stdout",
          "text": [
            "The 2nd element on 1st row: 2\n",
            "The 2nd element on 2nd row: 5\n",
            "The 3rd element on 1st row: 3\n"
          ]
        }
      ]
    },
    {
      "cell_type": "markdown",
      "source": [
        "**Access 3-D arrays**"
      ],
      "metadata": {
        "id": "Umhu2t5N7y46"
      }
    },
    {
      "cell_type": "code",
      "source": [
        "# another 3-D arrays with two 2-D arrays\n",
        "import numpy as np\n",
        "matrix_number=[[[1, 2, 3], [4, 5, 6]], [[7, 8, 9], [6, 3, 1]]]\n",
        "arr=np.array(matrix_number)\n",
        "print(f\"The 3rd element of the 2nd array of the 1st array: {arr[0, 1, 2]}\")\n",
        "print(f\"The 2nd element of the 2nd array of the 2nd array: {arr[1, 1, 1]}\")\n",
        "print(f\"The 1st element of the 1st array of the 2nd array: {arr[1, 0, 0]}\")"
      ],
      "metadata": {
        "colab": {
          "base_uri": "https://localhost:8080/"
        },
        "id": "ogqBMwyc73xo",
        "outputId": "19d972f9-a873-43e8-920c-36a548fb2b1b"
      },
      "execution_count": 60,
      "outputs": [
        {
          "output_type": "stream",
          "name": "stdout",
          "text": [
            "The 3rd element of the 2nd array of the 1st array: 6\n",
            "The 2nd element of the 2nd array of the 2nd array: 3\n",
            "The 1st element of the 1st array of the 2nd array: 7\n"
          ]
        }
      ]
    },
    {
      "cell_type": "markdown",
      "source": [
        "**Negative indexing**"
      ],
      "metadata": {
        "id": "9Tsvfu2l913a"
      }
    },
    {
      "cell_type": "code",
      "source": [
        "# create a 2-D arrays, it is used to represent matrix or 2nd order tensors.\n",
        "import numpy as np\n",
        "matrix_number=[[1, 2, 3], [4, 5, 6]]\n",
        "arr=np.array(matrix_number)\n",
        "print(f\"The last element from 2nd dim: {arr[1, -1]}\")\n",
        "print(f\"The 2nd element on 2nd row: {arr[1, -2]}\")\n",
        "print(f\"The 2nd element on 2nd row: {arr[-1, -2]}\")\n",
        "print(f\"The 1st element on 1st row: {arr[0, -3]}\")\n",
        "print(f\"The 1st element on 2nd row: {arr[-1, -3]}\")"
      ],
      "metadata": {
        "colab": {
          "base_uri": "https://localhost:8080/"
        },
        "id": "75GZWiDc974Z",
        "outputId": "05d47bd2-a8bf-464d-d30a-08fcf72cb83e"
      },
      "execution_count": 69,
      "outputs": [
        {
          "output_type": "stream",
          "name": "stdout",
          "text": [
            "The last element from 2nd dim: 6\n",
            "The 2nd element on 2nd row: 5\n",
            "The 2nd element on 2nd row: 5\n",
            "The 1st element on 1st row: 1\n",
            "The 1st element on 2nd row: 4\n"
          ]
        }
      ]
    },
    {
      "cell_type": "markdown",
      "source": [
        "**NumPy Array Slicing**\n",
        "\n",
        "---\n",
        "\n"
      ],
      "metadata": {
        "id": "WJw16rtS-0TE"
      }
    },
    {
      "cell_type": "code",
      "source": [],
      "metadata": {
        "id": "lDLyzsPi-5Cw"
      },
      "execution_count": null,
      "outputs": []
    }
  ]
}