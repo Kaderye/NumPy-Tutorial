{
  "nbformat": 4,
  "nbformat_minor": 0,
  "metadata": {
    "colab": {
      "provenance": [],
      "authorship_tag": "ABX9TyNoFX87ehRXHUmaGfwdxXAS",
      "include_colab_link": true
    },
    "kernelspec": {
      "name": "python3",
      "display_name": "Python 3"
    },
    "language_info": {
      "name": "python"
    }
  },
  "cells": [
    {
      "cell_type": "markdown",
      "metadata": {
        "id": "view-in-github",
        "colab_type": "text"
      },
      "source": [
        "<a href=\"https://colab.research.google.com/github/Kaderye/NumPy-Tutorial/blob/main/NumPy_(Random).ipynb\" target=\"_parent\"><img src=\"https://colab.research.google.com/assets/colab-badge.svg\" alt=\"Open In Colab\"/></a>"
      ]
    },
    {
      "cell_type": "markdown",
      "source": [
        "# **NumPy (Random)**"
      ],
      "metadata": {
        "id": "WZv_oYmHZzoe"
      }
    },
    {
      "cell_type": "markdown",
      "source": [
        "Random means something that can not be predicted logically.\n",
        "\n",
        "Random numbers generated through a generation algorithm are called pseudo random.\n",
        "\n",
        "For truly random number on our computers we need to get the random data from some outside source."
      ],
      "metadata": {
        "id": "KSA7kRXray21"
      }
    },
    {
      "cell_type": "markdown",
      "source": [
        "**Generate random integer number**"
      ],
      "metadata": {
        "id": "kAl_Tn5RcBtL"
      }
    },
    {
      "cell_type": "code",
      "execution_count": 17,
      "metadata": {
        "id": "XwFsUw7aYZal",
        "colab": {
          "base_uri": "https://localhost:8080/"
        },
        "outputId": "85578a93-111f-41a1-f0bf-4f410352f2a1"
      },
      "outputs": [
        {
          "output_type": "stream",
          "name": "stdout",
          "text": [
            "The random number is 76\n"
          ]
        }
      ],
      "source": [
        "# generate a random integer number from 0 to 100\n",
        "from numpy import random\n",
        "number=random.randint(100)\n",
        "print(f'The random number is {number}')"
      ]
    },
    {
      "cell_type": "markdown",
      "source": [
        "**Generate random float number**"
      ],
      "metadata": {
        "id": "ZmEipDdqc319"
      }
    },
    {
      "cell_type": "code",
      "source": [
        "# generate a random float number from 0 to 1\n",
        "from numpy import random\n",
        "number=random.rand()\n",
        "print(f'The random number is {number}')"
      ],
      "metadata": {
        "colab": {
          "base_uri": "https://localhost:8080/"
        },
        "id": "YGlyMGYtZ4Rt",
        "outputId": "ad9f3910-cfcf-41a0-eefb-f91d363b5580"
      },
      "execution_count": 18,
      "outputs": [
        {
          "output_type": "stream",
          "name": "stdout",
          "text": [
            "The random number is 0.03432429458684061\n"
          ]
        }
      ]
    },
    {
      "cell_type": "markdown",
      "source": [
        "**Generate random array**"
      ],
      "metadata": {
        "id": "hfBKK3ModBlW"
      }
    },
    {
      "cell_type": "code",
      "source": [
        "# generate a 1-D array containing 5 random integers from 0 to 100\n",
        "from numpy import random\n",
        "number=random.randint(100, size=(5))\n",
        "print(f'The random array: {number}')"
      ],
      "metadata": {
        "colab": {
          "base_uri": "https://localhost:8080/"
        },
        "id": "Fbrni4sddF08",
        "outputId": "ca22f65b-46ed-4161-bd8b-810527607e3c"
      },
      "execution_count": 21,
      "outputs": [
        {
          "output_type": "stream",
          "name": "stdout",
          "text": [
            "The random array: [97 16 35 73 85]\n"
          ]
        }
      ]
    },
    {
      "cell_type": "code",
      "source": [
        "# generate a 1-D array containing 5 random floatings from 0 to 1\n",
        "from numpy import random\n",
        "number=random.rand(5)\n",
        "print(f'The random array: {number}')"
      ],
      "metadata": {
        "colab": {
          "base_uri": "https://localhost:8080/"
        },
        "id": "UsJG30IXeB__",
        "outputId": "b5868722-ac4e-4ecf-b4ba-27beb0947c84"
      },
      "execution_count": 25,
      "outputs": [
        {
          "output_type": "stream",
          "name": "stdout",
          "text": [
            "The random array: [0.26713958 0.15526405 0.64906536 0.59693212 0.25127439]\n"
          ]
        }
      ]
    },
    {
      "cell_type": "code",
      "source": [
        "# generate a 2-D array with 3 rows, each row containing 4 random integers from 0 to 100\n",
        "from numpy import random\n",
        "number=random.randint(100, size=(3, 4))\n",
        "print(number)"
      ],
      "metadata": {
        "colab": {
          "base_uri": "https://localhost:8080/"
        },
        "id": "r7bS_mPWdlfj",
        "outputId": "e16d8659-71af-4c36-fbb6-bd206251a986"
      },
      "execution_count": 26,
      "outputs": [
        {
          "output_type": "stream",
          "name": "stdout",
          "text": [
            "[[67 34 93 96]\n",
            " [67 48 14  0]\n",
            " [70 44 38 50]]\n"
          ]
        }
      ]
    },
    {
      "cell_type": "code",
      "source": [
        "# generate a 2-D array with 3 rows, each row containing 4 random floatings from 0 to 1\n",
        "from numpy import random\n",
        "number=random.rand(3, 4)\n",
        "print(number)"
      ],
      "metadata": {
        "colab": {
          "base_uri": "https://localhost:8080/"
        },
        "id": "635xtJCreP1L",
        "outputId": "706125c5-17ea-42cf-f01f-0789c3c92727"
      },
      "execution_count": 27,
      "outputs": [
        {
          "output_type": "stream",
          "name": "stdout",
          "text": [
            "[[0.41526321 0.29006209 0.16951188 0.85397079]\n",
            " [0.35049631 0.38551114 0.8872247  0.01383816]\n",
            " [0.25678064 0.46110359 0.49623376 0.83998078]]\n"
          ]
        }
      ]
    },
    {
      "cell_type": "markdown",
      "source": [
        "**Generate random number from array**"
      ],
      "metadata": {
        "id": "Cs349Fi4eyT3"
      }
    },
    {
      "cell_type": "code",
      "source": [
        "# return one of the values in an array\n",
        "from numpy import random\n",
        "number=random.choice([1, 2, 3, 4, 5])\n",
        "print(number)"
      ],
      "metadata": {
        "colab": {
          "base_uri": "https://localhost:8080/"
        },
        "id": "SH8tuKFxe3cb",
        "outputId": "510044df-538b-41d1-f4a5-efdcf0357beb"
      },
      "execution_count": 34,
      "outputs": [
        {
          "output_type": "stream",
          "name": "stdout",
          "text": [
            "2\n"
          ]
        }
      ]
    },
    {
      "cell_type": "code",
      "source": [
        "# generate a 2-D array\n",
        "from numpy import random\n",
        "number=random.choice([1, 2, 3, 4, 5], size=(2, 3))\n",
        "print(number)"
      ],
      "metadata": {
        "colab": {
          "base_uri": "https://localhost:8080/"
        },
        "id": "bOuzToC-fNBD",
        "outputId": "506f4dc3-4c79-4bd6-ce7e-2c9464e21ce5"
      },
      "execution_count": 38,
      "outputs": [
        {
          "output_type": "stream",
          "name": "stdout",
          "text": [
            "[[1 3 5]\n",
            " [3 1 4]]\n"
          ]
        }
      ]
    }
  ]
}