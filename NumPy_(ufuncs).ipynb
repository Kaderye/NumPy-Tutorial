{
  "nbformat": 4,
  "nbformat_minor": 0,
  "metadata": {
    "colab": {
      "provenance": [],
      "authorship_tag": "ABX9TyOc5/YLrhuj53AO9QqK6nna",
      "include_colab_link": true
    },
    "kernelspec": {
      "name": "python3",
      "display_name": "Python 3"
    },
    "language_info": {
      "name": "python"
    }
  },
  "cells": [
    {
      "cell_type": "markdown",
      "metadata": {
        "id": "view-in-github",
        "colab_type": "text"
      },
      "source": [
        "<a href=\"https://colab.research.google.com/github/Kaderye/NumPy-Tutorial/blob/main/NumPy_(ufuncs).ipynb\" target=\"_parent\"><img src=\"https://colab.research.google.com/assets/colab-badge.svg\" alt=\"Open In Colab\"/></a>"
      ]
    },
    {
      "cell_type": "markdown",
      "source": [
        "# **NumPy (ufuncs)**"
      ],
      "metadata": {
        "id": "40D6v7VzePQg"
      }
    },
    {
      "cell_type": "markdown",
      "source": [
        "**ufuncs** stands for Universal Functions.\n",
        "\n",
        "It is operate on the **ndarray** object.\n",
        "\n",
        "ufuncs are used to implement **vectorization** (converting iterative statements into a vector based operation is called vectorization) in NumPy.\n",
        "\n",
        "\n",
        "\n",
        "Three arguments are:\n",
        "\n",
        "**where** : boolean array where the operations should take place.\n",
        "\n",
        "**dtype** : difining the return type of items.\n",
        "\n",
        "**out** : output array where the return value should be copied."
      ],
      "metadata": {
        "id": "5d38XYLTatD5"
      }
    },
    {
      "cell_type": "code",
      "execution_count": null,
      "metadata": {
        "id": "aZl_v9tAQww7",
        "colab": {
          "base_uri": "https://localhost:8080/"
        },
        "outputId": "8be372ba-a85c-47f9-86a9-9486b1d0ac09"
      },
      "outputs": [
        {
          "output_type": "stream",
          "name": "stdout",
          "text": [
            "[7, 9, 11, 13, 15]\n"
          ]
        }
      ],
      "source": [
        "# add two lists using zip() method [without ufuncs]\n",
        "list_1=[1, 2, 3, 4, 5]\n",
        "list_2=[6, 7, 8, 9, 10]\n",
        "\n",
        "list=[]\n",
        "for i, j in zip(list_1, list_2):\n",
        "  list.append(i+j)\n",
        "print(list)"
      ]
    },
    {
      "cell_type": "code",
      "source": [
        "# add two lists using add() method [with ufuncs]\n",
        "import numpy as np\n",
        "\n",
        "list_1=[1, 2, 3, 4, 5]\n",
        "list_2=[6, 7, 8, 9, 10]\n",
        "\n",
        "list=np.add(list_1, list_2)\n",
        "print(list)"
      ],
      "metadata": {
        "colab": {
          "base_uri": "https://localhost:8080/"
        },
        "id": "2MPBFWCTcoau",
        "outputId": "58488431-8955-490b-a0a4-2a8bce8ed2a7"
      },
      "execution_count": 56,
      "outputs": [
        {
          "output_type": "stream",
          "name": "stdout",
          "text": [
            "[ 7  9 11 13 15]\n"
          ]
        }
      ]
    },
    {
      "cell_type": "code",
      "source": [
        "# subtract two list usign subtract() method [with ufuncs]\n",
        "import numpy as np\n",
        "\n",
        "list_1=[1, 2, 3, 4, 5]\n",
        "list_2=[6, 7, 8, 9, 10]\n",
        "\n",
        "list=np.subtract(list_1, list_2)\n",
        "print(list)"
      ],
      "metadata": {
        "colab": {
          "base_uri": "https://localhost:8080/"
        },
        "id": "ZOLmLxhPdSon",
        "outputId": "c69c37fe-f19d-4bee-be5a-8184b5b49a6b"
      },
      "execution_count": null,
      "outputs": [
        {
          "output_type": "stream",
          "name": "stdout",
          "text": [
            "[-5 -5 -5 -5 -5]\n"
          ]
        }
      ]
    },
    {
      "cell_type": "code",
      "source": [
        "# multiply two list usign multiply() method [with ufuncs]\n",
        "import numpy as np\n",
        "\n",
        "list_1=[1, 2, 3, 4, 5]\n",
        "list_2=[6, 7, 8, 9, 10]\n",
        "\n",
        "list=np.multiply(list_1, list_2)\n",
        "print(list)"
      ],
      "metadata": {
        "colab": {
          "base_uri": "https://localhost:8080/"
        },
        "id": "f6LT2u5Jd3Cp",
        "outputId": "d34659be-1628-416c-99c1-201fe9f055be"
      },
      "execution_count": null,
      "outputs": [
        {
          "output_type": "stream",
          "name": "stdout",
          "text": [
            "[ 6 14 24 36 50]\n"
          ]
        }
      ]
    },
    {
      "cell_type": "markdown",
      "source": [
        "**Create your own ufunc**"
      ],
      "metadata": {
        "id": "y2gmr0CkeejY"
      }
    },
    {
      "cell_type": "markdown",
      "source": [
        "To create a function we used **frompyfunc()** method.\n",
        "\n",
        "The arguments of frompyfunc():\n",
        "\n",
        "**function** : the name of the function\n",
        "\n",
        "**inputs** : the number of input arrays\n",
        "\n",
        "**outputs**: the number of output arrays"
      ],
      "metadata": {
        "id": "dHcsFEHteifm"
      }
    },
    {
      "cell_type": "code",
      "source": [
        "# create a sample of ufunc for addition\n",
        "import numpy as np\n",
        "\n",
        "def add(number_1, number_2):\n",
        "  return number_1+number_2\n",
        "\n",
        "result=np.frompyfunc(add, 2, 1)\n",
        "\n",
        "print(result([1, 2, 3, 4, 5], [6, 7, 8, 9, 10]))"
      ],
      "metadata": {
        "id": "RVYK1tWUfYkH",
        "colab": {
          "base_uri": "https://localhost:8080/"
        },
        "outputId": "673a3453-4838-4e89-e206-458bbf7ad6cf"
      },
      "execution_count": 16,
      "outputs": [
        {
          "output_type": "stream",
          "name": "stdout",
          "text": [
            "[7 9 11 13 15]\n"
          ]
        }
      ]
    },
    {
      "cell_type": "code",
      "source": [
        "# create a sample of ufunc for addition\n",
        "import numpy as np\n",
        "\n",
        "def add(number_1, number_2, number_3):\n",
        "  return number_1+number_2+number_3\n",
        "\n",
        "result=np.frompyfunc(add, 3, 1)\n",
        "\n",
        "print(result([1, 2, 3, 4, 5], [6, 7, 8, 9, 10], [5, 4, 3, 2, 1]))"
      ],
      "metadata": {
        "colab": {
          "base_uri": "https://localhost:8080/"
        },
        "id": "DDvrgcA2Ap7R",
        "outputId": "28c1f499-8316-492d-9765-5b0972109179"
      },
      "execution_count": 17,
      "outputs": [
        {
          "output_type": "stream",
          "name": "stdout",
          "text": [
            "[12 13 14 15 16]\n"
          ]
        }
      ]
    },
    {
      "cell_type": "markdown",
      "source": [
        "**Check if a function is a ufunc**"
      ],
      "metadata": {
        "id": "xej1ARzXBSKu"
      }
    },
    {
      "cell_type": "code",
      "source": [
        "# check if a function is a ufunc\n",
        "import numpy as np\n",
        "\n",
        "print(type(np.add))"
      ],
      "metadata": {
        "colab": {
          "base_uri": "https://localhost:8080/"
        },
        "id": "mCivIoRjBW8X",
        "outputId": "fe14748b-8a7a-4f51-efc0-0636c6b03716"
      },
      "execution_count": 18,
      "outputs": [
        {
          "output_type": "stream",
          "name": "stdout",
          "text": [
            "<class 'numpy.ufunc'>\n"
          ]
        }
      ]
    },
    {
      "cell_type": "code",
      "source": [
        "# check another\n",
        "import numpy as np\n",
        "\n",
        "print(type(np.concatenate))"
      ],
      "metadata": {
        "colab": {
          "base_uri": "https://localhost:8080/"
        },
        "id": "DxjQbKfoBkBd",
        "outputId": "370baf89-bd6c-4db8-b7c1-0a1fdd3f3c1c"
      },
      "execution_count": 19,
      "outputs": [
        {
          "output_type": "stream",
          "name": "stdout",
          "text": [
            "<class 'numpy._ArrayFunctionDispatcher'>\n"
          ]
        }
      ]
    },
    {
      "cell_type": "code",
      "source": [
        "# check another\n",
        "import numpy as np\n",
        "\n",
        "print(type(np.gk))"
      ],
      "metadata": {
        "colab": {
          "base_uri": "https://localhost:8080/",
          "height": 306
        },
        "id": "SrJ0MtvIB4J7",
        "outputId": "a6c8cb40-8596-4917-fb1e-e9e0cf99b048"
      },
      "execution_count": 21,
      "outputs": [
        {
          "output_type": "error",
          "ename": "AttributeError",
          "evalue": "module 'numpy' has no attribute 'gk'",
          "traceback": [
            "\u001b[0;31m---------------------------------------------------------------------------\u001b[0m",
            "\u001b[0;31mAttributeError\u001b[0m                            Traceback (most recent call last)",
            "\u001b[0;32m<ipython-input-21-e6c966662d34>\u001b[0m in \u001b[0;36m<cell line: 0>\u001b[0;34m()\u001b[0m\n\u001b[1;32m      2\u001b[0m \u001b[0;32mimport\u001b[0m \u001b[0mnumpy\u001b[0m \u001b[0;32mas\u001b[0m \u001b[0mnp\u001b[0m\u001b[0;34m\u001b[0m\u001b[0;34m\u001b[0m\u001b[0m\n\u001b[1;32m      3\u001b[0m \u001b[0;34m\u001b[0m\u001b[0m\n\u001b[0;32m----> 4\u001b[0;31m \u001b[0mprint\u001b[0m\u001b[0;34m(\u001b[0m\u001b[0mtype\u001b[0m\u001b[0;34m(\u001b[0m\u001b[0mnp\u001b[0m\u001b[0;34m.\u001b[0m\u001b[0mgk\u001b[0m\u001b[0;34m)\u001b[0m\u001b[0;34m)\u001b[0m\u001b[0;34m\u001b[0m\u001b[0;34m\u001b[0m\u001b[0m\n\u001b[0m",
            "\u001b[0;32m/usr/local/lib/python3.11/dist-packages/numpy/__init__.py\u001b[0m in \u001b[0;36m__getattr__\u001b[0;34m(attr)\u001b[0m\n\u001b[1;32m    408\u001b[0m             \u001b[0;32mreturn\u001b[0m \u001b[0mchar\u001b[0m\u001b[0;34m.\u001b[0m\u001b[0mchararray\u001b[0m\u001b[0;34m\u001b[0m\u001b[0;34m\u001b[0m\u001b[0m\n\u001b[1;32m    409\u001b[0m \u001b[0;34m\u001b[0m\u001b[0m\n\u001b[0;32m--> 410\u001b[0;31m         raise AttributeError(\"module {!r} has no attribute \"\n\u001b[0m\u001b[1;32m    411\u001b[0m                              \"{!r}\".format(__name__, attr))\n\u001b[1;32m    412\u001b[0m \u001b[0;34m\u001b[0m\u001b[0m\n",
            "\u001b[0;31mAttributeError\u001b[0m: module 'numpy' has no attribute 'gk'"
          ]
        }
      ]
    },
    {
      "cell_type": "code",
      "source": [
        "# check anothe way\n",
        "import numpy as np\n",
        "\n",
        "if type(np.add)==np.ufunc:\n",
        "  print('add is ufunc')\n",
        "else:\n",
        "  print('add is not ufunc')"
      ],
      "metadata": {
        "colab": {
          "base_uri": "https://localhost:8080/"
        },
        "id": "wnUz-nhhCJUG",
        "outputId": "5dadd380-6d7c-477a-f4dc-195fd435a02d"
      },
      "execution_count": 22,
      "outputs": [
        {
          "output_type": "stream",
          "name": "stdout",
          "text": [
            "add is ufunc\n"
          ]
        }
      ]
    },
    {
      "cell_type": "code",
      "source": [
        "# check again\n",
        "import numpy as np\n",
        "\n",
        "if type(np.subtract)==np.ufunc:\n",
        "  print('gk is ufunc')\n",
        "else:\n",
        "  print('gk is not ufunc')"
      ],
      "metadata": {
        "colab": {
          "base_uri": "https://localhost:8080/"
        },
        "id": "8xuSgvVqCXwk",
        "outputId": "efef522c-da6e-4d12-9d9d-3b1e2fee71da"
      },
      "execution_count": 26,
      "outputs": [
        {
          "output_type": "stream",
          "name": "stdout",
          "text": [
            "gk is ufunc\n"
          ]
        }
      ]
    },
    {
      "cell_type": "markdown",
      "source": [
        "**Simple arithmetic**"
      ],
      "metadata": {
        "id": "Ve5eSaaOC3Up"
      }
    },
    {
      "cell_type": "markdown",
      "source": [
        "Arithmetic operators are + , - , * , / , % , ^ , | | , Q & M"
      ],
      "metadata": {
        "id": "Tyquwa1BC6ma"
      }
    },
    {
      "cell_type": "code",
      "source": [
        "# addition\n",
        "import numpy as np\n",
        "\n",
        "array_1=np.array([5, 10, 15, 20, 25])\n",
        "array_2=np.array([2, 4, 6, 8, 10])\n",
        "\n",
        "new_array=np.add(array_1, array_2)\n",
        "\n",
        "print(new_array)"
      ],
      "metadata": {
        "colab": {
          "base_uri": "https://localhost:8080/"
        },
        "id": "ymErxRQgDLEx",
        "outputId": "256383cd-4f48-4cae-b7a3-8d2c4d578251"
      },
      "execution_count": 27,
      "outputs": [
        {
          "output_type": "stream",
          "name": "stdout",
          "text": [
            "[ 7 14 21 28 35]\n"
          ]
        }
      ]
    },
    {
      "cell_type": "code",
      "source": [
        "# subtraction\n",
        "import numpy as np\n",
        "\n",
        "array_1=np.array([5, 10, 15, 20, 25])\n",
        "array_2=np.array([2, 4, 6, 8, 10])\n",
        "\n",
        "new_array=np.subtract(array_1, array_2)\n",
        "\n",
        "print(new_array)"
      ],
      "metadata": {
        "colab": {
          "base_uri": "https://localhost:8080/"
        },
        "id": "x55AvdxwDw3w",
        "outputId": "94b35201-3b67-47f0-a34f-1190d200a826"
      },
      "execution_count": 28,
      "outputs": [
        {
          "output_type": "stream",
          "name": "stdout",
          "text": [
            "[ 3  6  9 12 15]\n"
          ]
        }
      ]
    },
    {
      "cell_type": "code",
      "source": [
        "# multiplication\n",
        "import numpy as np\n",
        "\n",
        "array_1=np.array([5, 10, 15, 20, 25])\n",
        "array_2=np.array([2, 4, 6, 8, 10])\n",
        "\n",
        "new_array=np.multiply(array_1, array_2)\n",
        "\n",
        "print(new_array)"
      ],
      "metadata": {
        "colab": {
          "base_uri": "https://localhost:8080/"
        },
        "id": "H1MU7Es0DwpK",
        "outputId": "3d4d30f1-ebaf-4f43-c01b-878cf8dca91f"
      },
      "execution_count": 29,
      "outputs": [
        {
          "output_type": "stream",
          "name": "stdout",
          "text": [
            "[ 10  40  90 160 250]\n"
          ]
        }
      ]
    },
    {
      "cell_type": "code",
      "source": [
        "# division\n",
        "import numpy as np\n",
        "\n",
        "array_1=np.array([5, 10, 15, 20, 25])\n",
        "array_2=np.array([2, 4, 6, 8, 10])\n",
        "\n",
        "new_array=np.divide(array_1, array_2)\n",
        "\n",
        "print(new_array)"
      ],
      "metadata": {
        "colab": {
          "base_uri": "https://localhost:8080/"
        },
        "id": "9YOKh6y5DwUR",
        "outputId": "9ff516ed-701e-4c80-8034-76adeada7882"
      },
      "execution_count": 31,
      "outputs": [
        {
          "output_type": "stream",
          "name": "stdout",
          "text": [
            "[2.5 2.5 2.5 2.5 2.5]\n"
          ]
        }
      ]
    },
    {
      "cell_type": "code",
      "source": [
        "# modulus\n",
        "import numpy as np\n",
        "\n",
        "array_1=np.array([5, 10, 15, 20, 25])\n",
        "array_2=np.array([2, 4, 6, 8, 10])\n",
        "\n",
        "new_array=np.mod(array_1, array_2)\n",
        "\n",
        "print(new_array)"
      ],
      "metadata": {
        "colab": {
          "base_uri": "https://localhost:8080/"
        },
        "id": "HeHttiIoDzbs",
        "outputId": "0bbdda9a-1324-4b29-b576-d8ef941f1ca7"
      },
      "execution_count": 34,
      "outputs": [
        {
          "output_type": "stream",
          "name": "stdout",
          "text": [
            "[1 2 3 4 5]\n"
          ]
        }
      ]
    },
    {
      "cell_type": "code",
      "source": [
        "# remainder\n",
        "import numpy as np\n",
        "\n",
        "array_1=np.array([5, 10, 15, 20, 25])\n",
        "array_2=np.array([2, 4, 6, 8, 10])\n",
        "\n",
        "new_array=np.remainder(array_1, array_2)\n",
        "\n",
        "print(new_array)"
      ],
      "metadata": {
        "colab": {
          "base_uri": "https://localhost:8080/"
        },
        "id": "rLcjarsVEhgq",
        "outputId": "cbe3168a-aeaa-4b0b-c75c-3cba52b03a7c"
      },
      "execution_count": 35,
      "outputs": [
        {
          "output_type": "stream",
          "name": "stdout",
          "text": [
            "[1 2 3 4 5]\n"
          ]
        }
      ]
    },
    {
      "cell_type": "code",
      "source": [
        "# power\n",
        "import numpy as np\n",
        "\n",
        "array_1=np.array([5, 10, 15, 20, 25])\n",
        "array_2=np.array([2, 4, 6, 8, 10])\n",
        "\n",
        "new_array=np.power(array_1, array_2)\n",
        "\n",
        "print(new_array)"
      ],
      "metadata": {
        "colab": {
          "base_uri": "https://localhost:8080/"
        },
        "id": "0NQ2ukI_EOlF",
        "outputId": "a9842156-e8b1-4156-d472-ae645062c30e"
      },
      "execution_count": 33,
      "outputs": [
        {
          "output_type": "stream",
          "name": "stdout",
          "text": [
            "[            25          10000       11390625    25600000000\n",
            " 95367431640625]\n"
          ]
        }
      ]
    },
    {
      "cell_type": "code",
      "source": [
        "# quotient and modulus\n",
        "import numpy as np\n",
        "\n",
        "array_1=np.array([5, 10, 15, 20, 25])\n",
        "array_2=np.array([2, 4, 6, 8, 10])\n",
        "\n",
        "new_array=np.divmod(array_1, array_2)\n",
        "\n",
        "print(new_array)"
      ],
      "metadata": {
        "colab": {
          "base_uri": "https://localhost:8080/"
        },
        "id": "HGQXbEVYEtTO",
        "outputId": "74b488c4-f88a-4415-b01b-87e535264f9b"
      },
      "execution_count": 36,
      "outputs": [
        {
          "output_type": "stream",
          "name": "stdout",
          "text": [
            "(array([2, 2, 2, 2, 2]), array([1, 2, 3, 4, 5]))\n"
          ]
        }
      ]
    },
    {
      "cell_type": "code",
      "source": [
        "# absolute values\n",
        "import numpy as np\n",
        "\n",
        "array_1=np.array([-5, 10, -15, -20, -25])\n",
        "\n",
        "new_array=np.abs(array_1)\n",
        "\n",
        "print(new_array)"
      ],
      "metadata": {
        "colab": {
          "base_uri": "https://localhost:8080/"
        },
        "id": "CQ4L4g-OE3r4",
        "outputId": "7de13841-2ddd-4017-8c63-6d809d444351"
      },
      "execution_count": 37,
      "outputs": [
        {
          "output_type": "stream",
          "name": "stdout",
          "text": [
            "[ 5 10 15 20 25]\n"
          ]
        }
      ]
    },
    {
      "cell_type": "markdown",
      "source": [
        "**Rounding Decimals**"
      ],
      "metadata": {
        "id": "BAZESmuqFIHf"
      }
    },
    {
      "cell_type": "markdown",
      "source": [
        "There are five rounding decimals in NumPy: truncation, fix, rounding, floor, ceil"
      ],
      "metadata": {
        "id": "r338nuJaFMAF"
      }
    },
    {
      "cell_type": "code",
      "source": [
        "# truncation\n",
        "import numpy as np\n",
        "\n",
        "arr = np.trunc([3.1416245, -7.456785, 0.456812])\n",
        "\n",
        "print(arr)"
      ],
      "metadata": {
        "colab": {
          "base_uri": "https://localhost:8080/"
        },
        "id": "14yOMguLFawb",
        "outputId": "b9cf7566-4b7c-4d23-9718-6d95f7eb3429"
      },
      "execution_count": 38,
      "outputs": [
        {
          "output_type": "stream",
          "name": "stdout",
          "text": [
            "[ 3. -7.  0.]\n"
          ]
        }
      ]
    },
    {
      "cell_type": "code",
      "source": [
        "# fix\n",
        "import numpy as np\n",
        "\n",
        "arr = np.fix([3.1416245, -7.456785, 0.456812])\n",
        "\n",
        "print(arr)"
      ],
      "metadata": {
        "colab": {
          "base_uri": "https://localhost:8080/"
        },
        "id": "lePBmd0qKLJ_",
        "outputId": "7fdae231-1ee3-49ef-a0b4-eb4ba30b6771"
      },
      "execution_count": 39,
      "outputs": [
        {
          "output_type": "stream",
          "name": "stdout",
          "text": [
            "[ 3. -7.  0.]\n"
          ]
        }
      ]
    },
    {
      "cell_type": "code",
      "source": [
        "# rounding\n",
        "import numpy as np\n",
        "\n",
        "arr = np.round([3.1416245, -7.456785, 0.456812], 3)\n",
        "\n",
        "print(arr)"
      ],
      "metadata": {
        "colab": {
          "base_uri": "https://localhost:8080/"
        },
        "id": "yusoOBs7KQxn",
        "outputId": "e6f0bbb8-c7fa-4ca0-df29-6de708b72c63"
      },
      "execution_count": 40,
      "outputs": [
        {
          "output_type": "stream",
          "name": "stdout",
          "text": [
            "[ 3.142 -7.457  0.457]\n"
          ]
        }
      ]
    },
    {
      "cell_type": "code",
      "source": [
        "# floor\n",
        "import numpy as np\n",
        "\n",
        "arr = np.floor([3.1416245, -7.456785, 0.456812])\n",
        "\n",
        "print(arr)"
      ],
      "metadata": {
        "colab": {
          "base_uri": "https://localhost:8080/"
        },
        "id": "JYfHJuoPKa4r",
        "outputId": "963f2dc3-9652-430e-e5ab-c11ec4f0a81a"
      },
      "execution_count": 44,
      "outputs": [
        {
          "output_type": "stream",
          "name": "stdout",
          "text": [
            "[ 3. -8.  0.]\n"
          ]
        }
      ]
    },
    {
      "cell_type": "code",
      "source": [
        "# ceil\n",
        "import numpy as np\n",
        "\n",
        "arr = np.ceil([3.1416245, -7.456785, 0.456812])\n",
        "\n",
        "print(arr)"
      ],
      "metadata": {
        "colab": {
          "base_uri": "https://localhost:8080/"
        },
        "id": "uWd_RCv_Koje",
        "outputId": "c6a3d14e-2a22-41ec-9384-09ce8e3b7fde"
      },
      "execution_count": 45,
      "outputs": [
        {
          "output_type": "stream",
          "name": "stdout",
          "text": [
            "[ 4. -7.  1.]\n"
          ]
        }
      ]
    },
    {
      "cell_type": "markdown",
      "source": [
        "**NumPy Logs**\n",
        "\n",
        "---\n",
        "\n"
      ],
      "metadata": {
        "id": "GcIOeqZMK1xF"
      }
    },
    {
      "cell_type": "markdown",
      "source": [
        "The base is 2, e and 10"
      ],
      "metadata": {
        "id": "gmOKn1D5K4xI"
      }
    },
    {
      "cell_type": "code",
      "source": [
        "# log at base 2\n",
        "import numpy as np\n",
        "\n",
        "number=2\n",
        "print(np.log2(number))"
      ],
      "metadata": {
        "colab": {
          "base_uri": "https://localhost:8080/"
        },
        "id": "xFU5m8VsLBVV",
        "outputId": "4b3fd1c7-db99-4669-b5e2-94c607488dbf"
      },
      "execution_count": 49,
      "outputs": [
        {
          "output_type": "stream",
          "name": "stdout",
          "text": [
            "1.0\n"
          ]
        }
      ]
    },
    {
      "cell_type": "code",
      "source": [
        "# log at base 2\n",
        "import numpy as np\n",
        "\n",
        "number=np.arange(1, 5)\n",
        "\n",
        "print(np.log2(number))"
      ],
      "metadata": {
        "colab": {
          "base_uri": "https://localhost:8080/"
        },
        "id": "dAldH-NNLYQW",
        "outputId": "3bbf18b0-24f5-4c11-919d-d5c038027459"
      },
      "execution_count": 50,
      "outputs": [
        {
          "output_type": "stream",
          "name": "stdout",
          "text": [
            "[0.        1.        1.5849625 2.       ]\n"
          ]
        }
      ]
    },
    {
      "cell_type": "code",
      "source": [
        "# log at base 10\n",
        "import numpy as np\n",
        "\n",
        "number=2\n",
        "print(np.log10(number))"
      ],
      "metadata": {
        "colab": {
          "base_uri": "https://localhost:8080/"
        },
        "id": "-V3wQSvvLpfC",
        "outputId": "346a8cf8-4fbb-44d7-ed32-b4f4e7902b2e"
      },
      "execution_count": 51,
      "outputs": [
        {
          "output_type": "stream",
          "name": "stdout",
          "text": [
            "0.3010299956639812\n"
          ]
        }
      ]
    },
    {
      "cell_type": "code",
      "source": [
        "# log at base 10\n",
        "import numpy as np\n",
        "\n",
        "number=np.arange(1, 5)\n",
        "\n",
        "print(np.log10(number))"
      ],
      "metadata": {
        "colab": {
          "base_uri": "https://localhost:8080/"
        },
        "id": "O0XxiOQSLvyY",
        "outputId": "312df997-5c30-4bbf-e70d-6516cbcb1e94"
      },
      "execution_count": 52,
      "outputs": [
        {
          "output_type": "stream",
          "name": "stdout",
          "text": [
            "[0.         0.30103    0.47712125 0.60205999]\n"
          ]
        }
      ]
    },
    {
      "cell_type": "code",
      "source": [
        "# natural log or log at base e\n",
        "import numpy as np\n",
        "\n",
        "number=2\n",
        "print(np.log(number))"
      ],
      "metadata": {
        "colab": {
          "base_uri": "https://localhost:8080/"
        },
        "id": "WeCJ8KdvL10S",
        "outputId": "4e11a154-cb44-430a-f8d9-731b7adbadcb"
      },
      "execution_count": 53,
      "outputs": [
        {
          "output_type": "stream",
          "name": "stdout",
          "text": [
            "0.6931471805599453\n"
          ]
        }
      ]
    },
    {
      "cell_type": "code",
      "source": [
        "# natural log or log at base e\n",
        "import numpy as np\n",
        "\n",
        "number=np.arange(1, 5)\n",
        "\n",
        "print(np.log(number))"
      ],
      "metadata": {
        "colab": {
          "base_uri": "https://localhost:8080/"
        },
        "id": "jEVJUgq9L_w9",
        "outputId": "dcc6195b-3ee2-42e9-ad8b-234a001ee968"
      },
      "execution_count": 54,
      "outputs": [
        {
          "output_type": "stream",
          "name": "stdout",
          "text": [
            "[0.         0.69314718 1.09861229 1.38629436]\n"
          ]
        }
      ]
    },
    {
      "cell_type": "code",
      "source": [
        "# log at any base\n",
        "from math import log\n",
        "import numpy as np\n",
        "\n",
        "nplog=np.frompyfunc(log, 2, 1)\n",
        "\n",
        "print(nplog(100, 15))"
      ],
      "metadata": {
        "colab": {
          "base_uri": "https://localhost:8080/"
        },
        "id": "MKUPtCLlM7Nl",
        "outputId": "51355bd7-db6d-4a69-9ecf-4bd5b9374efc"
      },
      "execution_count": 55,
      "outputs": [
        {
          "output_type": "stream",
          "name": "stdout",
          "text": [
            "1.7005483074552052\n"
          ]
        }
      ]
    },
    {
      "cell_type": "markdown",
      "source": [
        "**NumPy Summations**\n",
        "\n",
        "---\n",
        "\n"
      ],
      "metadata": {
        "id": "zxxUds4xPfPs"
      }
    },
    {
      "cell_type": "code",
      "source": [
        "# add two lists using add() method [with ufuncs]\n",
        "import numpy as np\n",
        "\n",
        "list_1=[1, 2, 3, 4, 5]\n",
        "list_2=[6, 7, 8, 9, 10]\n",
        "\n",
        "list=np.add(list_1, list_2)\n",
        "print(list)"
      ],
      "metadata": {
        "colab": {
          "base_uri": "https://localhost:8080/"
        },
        "id": "rvzak4dUPkJG",
        "outputId": "3be8f1df-7d7c-4081-a067-7c81b06d3abb"
      },
      "execution_count": 57,
      "outputs": [
        {
          "output_type": "stream",
          "name": "stdout",
          "text": [
            "[ 7  9 11 13 15]\n"
          ]
        }
      ]
    },
    {
      "cell_type": "code",
      "source": [
        "# sum the values in list_1 and list_2\n",
        "import numpy as np\n",
        "\n",
        "list_1=[1, 2, 3, 4, 5]\n",
        "list_2=[6, 7, 8, 9, 10]\n",
        "\n",
        "list=np.sum([list_1, list_2])\n",
        "print(list)"
      ],
      "metadata": {
        "colab": {
          "base_uri": "https://localhost:8080/"
        },
        "id": "GRow6VsDPtD9",
        "outputId": "cf011485-390c-4307-ee4d-45cf05c99461"
      },
      "execution_count": 60,
      "outputs": [
        {
          "output_type": "stream",
          "name": "stdout",
          "text": [
            "55\n"
          ]
        }
      ]
    },
    {
      "cell_type": "code",
      "source": [
        "# sum the values in list_1 and list_2 with axis=1\n",
        "import numpy as np\n",
        "\n",
        "list_1=[1, 2, 3, 4, 5]\n",
        "list_2=[6, 7, 8, 9, 10]\n",
        "\n",
        "list=np.sum([list_1, list_2], axis=1)\n",
        "print(list)"
      ],
      "metadata": {
        "colab": {
          "base_uri": "https://localhost:8080/"
        },
        "id": "YRcCtjwDQEbQ",
        "outputId": "2f05d906-fdcc-488a-c302-cf843f652fe5"
      },
      "execution_count": 61,
      "outputs": [
        {
          "output_type": "stream",
          "name": "stdout",
          "text": [
            "[15 40]\n"
          ]
        }
      ]
    },
    {
      "cell_type": "code",
      "source": [
        "# cummulative sum\n",
        "import numpy as np\n",
        "\n",
        "list_1=[1, 2, 3, 4, 5]\n",
        "\n",
        "list=np.cumsum(list_1)\n",
        "print(list)"
      ],
      "metadata": {
        "colab": {
          "base_uri": "https://localhost:8080/"
        },
        "id": "oNV6gP0oSQy-",
        "outputId": "bd9e6733-83b2-429a-9ba6-3d9d10954081"
      },
      "execution_count": 65,
      "outputs": [
        {
          "output_type": "stream",
          "name": "stdout",
          "text": [
            "[ 1  3  6 10 15]\n"
          ]
        }
      ]
    },
    {
      "cell_type": "code",
      "source": [
        "# cummulative sum\n",
        "import numpy as np\n",
        "\n",
        "list_1=[1, 2, 3, 4, 5]\n",
        "list_2=[6, 7, 8, 9, 10]\n",
        "\n",
        "list=np.cumsum([list_1, list_2], axis=1)\n",
        "print(list)"
      ],
      "metadata": {
        "colab": {
          "base_uri": "https://localhost:8080/"
        },
        "id": "Ur3mYz9KSFT6",
        "outputId": "d3ead2de-a9ed-4005-e887-5bf595273492"
      },
      "execution_count": 63,
      "outputs": [
        {
          "output_type": "stream",
          "name": "stdout",
          "text": [
            "[[ 1  3  6 10 15]\n",
            " [ 6 13 21 30 40]]\n"
          ]
        }
      ]
    },
    {
      "cell_type": "markdown",
      "source": [
        "**NumPy Products**\n",
        "\n",
        "---\n",
        "\n"
      ],
      "metadata": {
        "id": "TfYHd2dESbSj"
      }
    },
    {
      "cell_type": "code",
      "source": [
        "# find the product using prod() method\n",
        "import numpy as np\n",
        "\n",
        "list_1=[1, 2, 3, 4, 5]\n",
        "\n",
        "list=np.prod(list_1)\n",
        "print(list)"
      ],
      "metadata": {
        "colab": {
          "base_uri": "https://localhost:8080/"
        },
        "id": "D3KAtC-KS6fk",
        "outputId": "22b1b2dd-bee8-4fc7-b1f8-4b0b4d5af23c"
      },
      "execution_count": 69,
      "outputs": [
        {
          "output_type": "stream",
          "name": "stdout",
          "text": [
            "120\n"
          ]
        }
      ]
    },
    {
      "cell_type": "code",
      "source": [
        "# find the product of two lists using prod() method\n",
        "import numpy as np\n",
        "\n",
        "list_1=[1, 2, 3, 4, 5]\n",
        "list_2=[6, 7, 8, 9, 10]\n",
        "\n",
        "list=np.prod([list_1, list_2])\n",
        "print(list)"
      ],
      "metadata": {
        "colab": {
          "base_uri": "https://localhost:8080/"
        },
        "id": "6vN0IT9FSezB",
        "outputId": "6180983b-d629-4585-af2a-325e842d51de"
      },
      "execution_count": 70,
      "outputs": [
        {
          "output_type": "stream",
          "name": "stdout",
          "text": [
            "3628800\n"
          ]
        }
      ]
    },
    {
      "cell_type": "code",
      "source": [
        "# find the product of two lists using prod() method with axis=1\n",
        "import numpy as np\n",
        "\n",
        "list_1=[1, 2, 3, 4, 5]\n",
        "list_2=[6, 7, 8, 9, 10]\n",
        "\n",
        "list=np.prod([list_1, list_2], axis=1)\n",
        "print(list)"
      ],
      "metadata": {
        "colab": {
          "base_uri": "https://localhost:8080/"
        },
        "id": "3e_Uf2ZtTPel",
        "outputId": "89318be5-1498-4729-be22-de8748a9442f"
      },
      "execution_count": 71,
      "outputs": [
        {
          "output_type": "stream",
          "name": "stdout",
          "text": [
            "[  120 30240]\n"
          ]
        }
      ]
    },
    {
      "cell_type": "code",
      "source": [
        "# find the cummulative product using prod() method\n",
        "import numpy as np\n",
        "\n",
        "list_1=[1, 2, 3, 4, 5]\n",
        "\n",
        "list=np.cumprod(list_1)\n",
        "print(list)"
      ],
      "metadata": {
        "colab": {
          "base_uri": "https://localhost:8080/"
        },
        "id": "sXJH7p98TsMi",
        "outputId": "ee61d696-04bf-4f95-8a6d-68e753883183"
      },
      "execution_count": 74,
      "outputs": [
        {
          "output_type": "stream",
          "name": "stdout",
          "text": [
            "[  1   2   6  24 120]\n"
          ]
        }
      ]
    },
    {
      "cell_type": "code",
      "source": [
        "# find the cummulative product of two lists using prod() method\n",
        "import numpy as np\n",
        "\n",
        "list_1=[1, 2, 3, 4, 5]\n",
        "list_2=[6, 7, 8, 9, 10]\n",
        "\n",
        "list=np.cumprod([list_1, list_2])\n",
        "print(list)"
      ],
      "metadata": {
        "colab": {
          "base_uri": "https://localhost:8080/"
        },
        "id": "tJ6x3dEATiP6",
        "outputId": "4206dddc-9b2c-4b4e-d426-a6f6a0ecbf13"
      },
      "execution_count": 72,
      "outputs": [
        {
          "output_type": "stream",
          "name": "stdout",
          "text": [
            "[      1       2       6      24     120     720    5040   40320  362880\n",
            " 3628800]\n"
          ]
        }
      ]
    },
    {
      "cell_type": "markdown",
      "source": [
        "**NumPy Differences**\n",
        "\n",
        "---\n",
        "\n"
      ],
      "metadata": {
        "id": "8BrG6TaPUDGC"
      }
    },
    {
      "cell_type": "code",
      "source": [
        "# find the differences\n",
        "import numpy as np\n",
        "\n",
        "arr=np.array([5, 10, 5, 20, 35, 15])\n",
        "new_arr=np.diff(arr)\n",
        "print(new_arr)"
      ],
      "metadata": {
        "colab": {
          "base_uri": "https://localhost:8080/"
        },
        "id": "z50ZFaQmUG9y",
        "outputId": "2e4912ce-e43e-49d3-bf4e-64923b16e18c"
      },
      "execution_count": 75,
      "outputs": [
        {
          "output_type": "stream",
          "name": "stdout",
          "text": [
            "[  5  -5  15  15 -20]\n"
          ]
        }
      ]
    },
    {
      "cell_type": "code",
      "source": [
        "# find the differences\n",
        "import numpy as np\n",
        "\n",
        "arr=np.array([5, 10, 5, 20, 35, 15])\n",
        "new_arr=np.diff(arr, n=2)\n",
        "print(new_arr)"
      ],
      "metadata": {
        "colab": {
          "base_uri": "https://localhost:8080/"
        },
        "id": "2XMiPGySVvJs",
        "outputId": "a3d91837-fc43-4527-bed8-c454497588f2"
      },
      "execution_count": 87,
      "outputs": [
        {
          "output_type": "stream",
          "name": "stdout",
          "text": [
            "[-10  20   0 -35]\n"
          ]
        }
      ]
    },
    {
      "cell_type": "code",
      "source": [
        "# find the differences\n",
        "import numpy as np\n",
        "\n",
        "arr=np.array([5, 10, 5, 20, 35, 15])\n",
        "new_arr=np.diff(arr, n=3)\n",
        "print(new_arr)"
      ],
      "metadata": {
        "colab": {
          "base_uri": "https://localhost:8080/"
        },
        "id": "qwZ7NubOWwaV",
        "outputId": "684a059b-f6c7-494c-dac0-c9e36d0fe423"
      },
      "execution_count": 88,
      "outputs": [
        {
          "output_type": "stream",
          "name": "stdout",
          "text": [
            "[ 30 -20 -35]\n"
          ]
        }
      ]
    },
    {
      "cell_type": "code",
      "source": [
        "# find the differences\n",
        "import numpy as np\n",
        "\n",
        "arr=np.array([5, 10, 5, 20, 35, 15])\n",
        "new_arr=np.diff(arr, n=4)\n",
        "print(new_arr)"
      ],
      "metadata": {
        "colab": {
          "base_uri": "https://localhost:8080/"
        },
        "id": "6sESanF-WzQi",
        "outputId": "cb4eadfc-487a-46de-f6ed-61c5e4e9cea5"
      },
      "execution_count": 89,
      "outputs": [
        {
          "output_type": "stream",
          "name": "stdout",
          "text": [
            "[-50 -15]\n"
          ]
        }
      ]
    },
    {
      "cell_type": "code",
      "source": [
        "# find the differences\n",
        "import numpy as np\n",
        "\n",
        "arr=np.array([5, 10, 5, 20, 35, 15])\n",
        "new_arr=np.diff(arr, n=5)\n",
        "print(new_arr)"
      ],
      "metadata": {
        "colab": {
          "base_uri": "https://localhost:8080/"
        },
        "id": "Iy6f0o86W1SU",
        "outputId": "7b560141-ead7-4b69-e0df-ce9b712aebb7"
      },
      "execution_count": 92,
      "outputs": [
        {
          "output_type": "stream",
          "name": "stdout",
          "text": [
            "[35]\n"
          ]
        }
      ]
    },
    {
      "cell_type": "markdown",
      "source": [
        "**NumPy LCM (Lowest Common Multiple) or LCF (Lowest Common Factor)**\n",
        "\n",
        "---\n",
        "\n"
      ],
      "metadata": {
        "id": "d9FhoEdAXB_r"
      }
    },
    {
      "cell_type": "markdown",
      "source": [
        "The **reduce()** method will use the ufunc, in this case the **lcm()** function, on each element, and reduce the array by one dimension."
      ],
      "metadata": {
        "id": "pCnD-4qaZ14B"
      }
    },
    {
      "cell_type": "code",
      "source": [
        "# find the LCM\n",
        "import numpy as np\n",
        "\n",
        "number_1=30\n",
        "number_2=5\n",
        "\n",
        "result=np.lcm(number_1, number_2)\n",
        "\n",
        "print(result)"
      ],
      "metadata": {
        "colab": {
          "base_uri": "https://localhost:8080/"
        },
        "id": "gc7PkdeLYjCt",
        "outputId": "1394bd70-6420-4ffc-9b8f-cc2e1ed716f7"
      },
      "execution_count": 93,
      "outputs": [
        {
          "output_type": "stream",
          "name": "stdout",
          "text": [
            "30\n"
          ]
        }
      ]
    },
    {
      "cell_type": "code",
      "source": [
        "# find the LCM of an array\n",
        "import numpy as np\n",
        "\n",
        "arr=np.array([6, 12, 18])\n",
        "result=np.lcm.reduce(arr)\n",
        "print(result)"
      ],
      "metadata": {
        "colab": {
          "base_uri": "https://localhost:8080/"
        },
        "id": "YgobaEntY5dE",
        "outputId": "0e12d0d9-54a7-46c7-b5b9-0234bfcbe927"
      },
      "execution_count": 99,
      "outputs": [
        {
          "output_type": "stream",
          "name": "stdout",
          "text": [
            "36\n"
          ]
        }
      ]
    },
    {
      "cell_type": "code",
      "source": [
        "# find the LCM of a range\n",
        "import numpy as np\n",
        "\n",
        "arr=np.arange(1, 10)\n",
        "result=np.lcm.reduce(arr)\n",
        "print(result)"
      ],
      "metadata": {
        "colab": {
          "base_uri": "https://localhost:8080/"
        },
        "id": "3pHZDsw3ZOqs",
        "outputId": "c2d9bf0c-ddd8-45b7-d4a1-60655a90d4c0"
      },
      "execution_count": 101,
      "outputs": [
        {
          "output_type": "stream",
          "name": "stdout",
          "text": [
            "2520\n"
          ]
        }
      ]
    },
    {
      "cell_type": "markdown",
      "source": [
        "**NumPy GCD (Greatest Common Devisor) or HCF (Highest Common Factor)**\n",
        "\n",
        "---\n",
        "\n"
      ],
      "metadata": {
        "id": "oxZ8sKaVZ8TF"
      }
    },
    {
      "cell_type": "markdown",
      "source": [
        "The **reduce()** method will use the ufunc, in this case the **gcd()** function, on each element, and reduce the array by one dimension."
      ],
      "metadata": {
        "id": "Y582L8SwavLp"
      }
    },
    {
      "cell_type": "code",
      "source": [
        "# find the GCD\n",
        "import numpy as np\n",
        "\n",
        "number_1=30\n",
        "number_2=5\n",
        "\n",
        "result=np.gcd(number_1, number_2)\n",
        "\n",
        "print(result)"
      ],
      "metadata": {
        "colab": {
          "base_uri": "https://localhost:8080/"
        },
        "id": "ejzy9RhlaKFR",
        "outputId": "d8f8381e-55f7-4e8a-8673-9d5e8fc32671"
      },
      "execution_count": 98,
      "outputs": [
        {
          "output_type": "stream",
          "name": "stdout",
          "text": [
            "5\n"
          ]
        }
      ]
    },
    {
      "cell_type": "code",
      "source": [
        "# find the GCD of an array\n",
        "import numpy as np\n",
        "\n",
        "arr=np.array([6, 12, 18])\n",
        "result=np.gcd.reduce(arr)\n",
        "print(result)"
      ],
      "metadata": {
        "colab": {
          "base_uri": "https://localhost:8080/"
        },
        "id": "-sD9VVguagTK",
        "outputId": "4c7cf1d4-be73-4ca1-c42d-5f989fb6c99c"
      },
      "execution_count": 100,
      "outputs": [
        {
          "output_type": "stream",
          "name": "stdout",
          "text": [
            "6\n"
          ]
        }
      ]
    },
    {
      "cell_type": "code",
      "source": [
        "# find the GCD of a range\n",
        "import numpy as np\n",
        "\n",
        "arr=np.arange(1, 10)\n",
        "result=np.gcd.reduce(arr)\n",
        "print(result)"
      ],
      "metadata": {
        "colab": {
          "base_uri": "https://localhost:8080/"
        },
        "id": "OgHgwSkBamJW",
        "outputId": "c75a7e59-b6ad-4d2e-ba44-5dd641394408"
      },
      "execution_count": 102,
      "outputs": [
        {
          "output_type": "stream",
          "name": "stdout",
          "text": [
            "1\n"
          ]
        }
      ]
    },
    {
      "cell_type": "markdown",
      "source": [
        "**NumPy Trigonometric Functions**\n",
        "\n",
        "---\n",
        "\n"
      ],
      "metadata": {
        "id": "PPPeK7tGa38y"
      }
    },
    {
      "cell_type": "markdown",
      "source": [
        "NumPy provides the ufuncs **sin(), cos() and tan()** that take values in radians and produce the corresponding sin, cos and tan values."
      ],
      "metadata": {
        "id": "7MLmj1fwa8g-"
      }
    },
    {
      "cell_type": "code",
      "source": [
        "# find sin value of pi/2\n",
        "import numpy as np\n",
        "\n",
        "number=np.sin(np.pi/2)\n",
        "print(number)"
      ],
      "metadata": {
        "colab": {
          "base_uri": "https://localhost:8080/"
        },
        "id": "FeRcel6hbnf5",
        "outputId": "14f8fe2e-e94c-4611-8f29-8c647d17d9a8"
      },
      "execution_count": 111,
      "outputs": [
        {
          "output_type": "stream",
          "name": "stdout",
          "text": [
            "1.0\n"
          ]
        }
      ]
    },
    {
      "cell_type": "code",
      "source": [
        "# find cos value of pi/2\n",
        "import numpy as np\n",
        "\n",
        "number=np.cos(np.pi/2)\n",
        "print(number)"
      ],
      "metadata": {
        "colab": {
          "base_uri": "https://localhost:8080/"
        },
        "id": "heSB6D4Ydsrd",
        "outputId": "5a40aa3f-129f-471c-c371-5f44a8fd34a1"
      },
      "execution_count": 112,
      "outputs": [
        {
          "output_type": "stream",
          "name": "stdout",
          "text": [
            "6.123233995736766e-17\n"
          ]
        }
      ]
    },
    {
      "cell_type": "code",
      "source": [
        "# find tan value of pi/2\n",
        "import numpy as np\n",
        "\n",
        "number=np.tan(np.pi/2)\n",
        "print(number)"
      ],
      "metadata": {
        "colab": {
          "base_uri": "https://localhost:8080/"
        },
        "id": "0ISSmAstdybj",
        "outputId": "cccc1b42-b674-4766-ac94-45ba5c11a08c"
      },
      "execution_count": 113,
      "outputs": [
        {
          "output_type": "stream",
          "name": "stdout",
          "text": [
            "1.633123935319537e+16\n"
          ]
        }
      ]
    },
    {
      "cell_type": "code",
      "source": [
        "# find sin values of an array\n",
        "import numpy as np\n",
        "\n",
        "arr = np.array([np.pi/2, np.pi/3, np.pi/4, np.pi/5])\n",
        "x = np.sin(arr)\n",
        "print(x)"
      ],
      "metadata": {
        "colab": {
          "base_uri": "https://localhost:8080/"
        },
        "id": "i4G0TRwUcAKf",
        "outputId": "a13ae8a1-2534-4d1a-c69e-a0a2fb6cbb32"
      },
      "execution_count": 104,
      "outputs": [
        {
          "output_type": "stream",
          "name": "stdout",
          "text": [
            "[1.         0.8660254  0.70710678 0.58778525]\n"
          ]
        }
      ]
    },
    {
      "cell_type": "code",
      "source": [
        "# find cos values of an array\n",
        "import numpy as np\n",
        "\n",
        "arr = np.array([np.pi/2, np.pi/3, np.pi/4, np.pi/5])\n",
        "x = np.cos(arr)\n",
        "print(x)"
      ],
      "metadata": {
        "colab": {
          "base_uri": "https://localhost:8080/"
        },
        "id": "bRfIy723d6SJ",
        "outputId": "f3dd27b8-8e3f-40cc-caaf-a2805b696794"
      },
      "execution_count": 114,
      "outputs": [
        {
          "output_type": "stream",
          "name": "stdout",
          "text": [
            "[6.12323400e-17 5.00000000e-01 7.07106781e-01 8.09016994e-01]\n"
          ]
        }
      ]
    },
    {
      "cell_type": "code",
      "source": [
        "# find tan values of an array\n",
        "import numpy as np\n",
        "\n",
        "arr = np.array([np.pi/2, np.pi/3, np.pi/4, np.pi/5])\n",
        "x = np.tan(arr)\n",
        "print(x)"
      ],
      "metadata": {
        "colab": {
          "base_uri": "https://localhost:8080/"
        },
        "id": "VSlYEfDFd-rg",
        "outputId": "2b90856d-bdb8-47da-e2b8-76ef8a89eeb2"
      },
      "execution_count": 115,
      "outputs": [
        {
          "output_type": "stream",
          "name": "stdout",
          "text": [
            "[1.63312394e+16 1.73205081e+00 1.00000000e+00 7.26542528e-01]\n"
          ]
        }
      ]
    },
    {
      "cell_type": "markdown",
      "source": [
        "**Convert degrees into radians**"
      ],
      "metadata": {
        "id": "6jqwfvC9cG4p"
      }
    },
    {
      "cell_type": "markdown",
      "source": [
        "Radians values are pi/180 * degree_values."
      ],
      "metadata": {
        "id": "PhObexECcOsH"
      }
    },
    {
      "cell_type": "code",
      "source": [
        "# find the radians\n",
        "import numpy as np\n",
        "\n",
        "arr = np.array(90)\n",
        "result = np.deg2rad(arr)\n",
        "print(result)"
      ],
      "metadata": {
        "colab": {
          "base_uri": "https://localhost:8080/"
        },
        "id": "Q1EJeS8jeF6i",
        "outputId": "8801348c-6bd1-4566-d840-56147b92546d"
      },
      "execution_count": 118,
      "outputs": [
        {
          "output_type": "stream",
          "name": "stdout",
          "text": [
            "1.5707963267948966\n"
          ]
        }
      ]
    },
    {
      "cell_type": "code",
      "source": [
        "# find the radians of an array\n",
        "import numpy as np\n",
        "\n",
        "arr = np.array([90, 180, 270, 360])\n",
        "result = np.deg2rad(arr)\n",
        "print(result)"
      ],
      "metadata": {
        "colab": {
          "base_uri": "https://localhost:8080/"
        },
        "id": "UopRP83rcQ6c",
        "outputId": "dbdfa47d-8bab-4e80-f1a5-ffa59b8af24f"
      },
      "execution_count": 117,
      "outputs": [
        {
          "output_type": "stream",
          "name": "stdout",
          "text": [
            "[1.57079633 3.14159265 4.71238898 6.28318531]\n"
          ]
        }
      ]
    },
    {
      "cell_type": "markdown",
      "source": [
        "**Convert radians into degrees**"
      ],
      "metadata": {
        "id": "_3u7g90_cYRh"
      }
    },
    {
      "cell_type": "code",
      "source": [
        "# find the degree\n",
        "import numpy as np\n",
        "\n",
        "arr = np.array(np.pi/2)\n",
        "result = np.rad2deg(arr)\n",
        "print(result)"
      ],
      "metadata": {
        "colab": {
          "base_uri": "https://localhost:8080/"
        },
        "id": "H_CBMQWweaIl",
        "outputId": "0c810851-ba60-49a8-8307-1554ab3e81e4"
      },
      "execution_count": 119,
      "outputs": [
        {
          "output_type": "stream",
          "name": "stdout",
          "text": [
            "90.0\n"
          ]
        }
      ]
    },
    {
      "cell_type": "code",
      "source": [
        "# find the degrees of an array\n",
        "import numpy as np\n",
        "\n",
        "arr = np.array([np.pi/2, np.pi, 1.5*np.pi, 2*np.pi])\n",
        "result = np.rad2deg(arr)\n",
        "print(result)"
      ],
      "metadata": {
        "colab": {
          "base_uri": "https://localhost:8080/"
        },
        "id": "sBM1Cr4HceJc",
        "outputId": "f185a2dd-9306-410d-ceda-2fc375c225ed"
      },
      "execution_count": 120,
      "outputs": [
        {
          "output_type": "stream",
          "name": "stdout",
          "text": [
            "[ 90. 180. 270. 360.]\n"
          ]
        }
      ]
    },
    {
      "cell_type": "markdown",
      "source": [
        "**Finding angles**"
      ],
      "metadata": {
        "id": "JP7pu4HRclx0"
      }
    },
    {
      "cell_type": "markdown",
      "source": [
        "NumPy provides ufuncs **arcsin(), arccos() and arctan()** that produce radian values for corresponding sin, cos and tan values given."
      ],
      "metadata": {
        "id": "g6iYPdxcct4t"
      }
    },
    {
      "cell_type": "code",
      "source": [
        "# find the angle of 1\n",
        "import numpy as np\n",
        "\n",
        "value = np.arcsin(1)\n",
        "print(value)"
      ],
      "metadata": {
        "colab": {
          "base_uri": "https://localhost:8080/"
        },
        "id": "XW4shAG_cwAj",
        "outputId": "8e90e2fd-f28f-45e5-b70b-05118cf959ba"
      },
      "execution_count": 108,
      "outputs": [
        {
          "output_type": "stream",
          "name": "stdout",
          "text": [
            "1.5707963267948966\n"
          ]
        }
      ]
    },
    {
      "cell_type": "code",
      "source": [
        "# find the angle of 1\n",
        "import numpy as np\n",
        "\n",
        "value = np.arccos(1)\n",
        "print(value)"
      ],
      "metadata": {
        "colab": {
          "base_uri": "https://localhost:8080/"
        },
        "id": "IFc-Hlb8eqQz",
        "outputId": "22575ee4-46fa-4f9b-bdeb-0ea9e3b13e20"
      },
      "execution_count": 124,
      "outputs": [
        {
          "output_type": "stream",
          "name": "stdout",
          "text": [
            "0.0\n"
          ]
        }
      ]
    },
    {
      "cell_type": "code",
      "source": [
        "# find the angle of 1\n",
        "import numpy as np\n",
        "\n",
        "value = np.arctan(1)\n",
        "print(value)"
      ],
      "metadata": {
        "colab": {
          "base_uri": "https://localhost:8080/"
        },
        "id": "18UYVYruerIg",
        "outputId": "2bc301ec-6545-4db5-f721-16ed6e9d1cf8"
      },
      "execution_count": 125,
      "outputs": [
        {
          "output_type": "stream",
          "name": "stdout",
          "text": [
            "0.7853981633974483\n"
          ]
        }
      ]
    },
    {
      "cell_type": "markdown",
      "source": [
        "**Angles of each value in arrays**"
      ],
      "metadata": {
        "id": "ED-ce1O9c8R7"
      }
    },
    {
      "cell_type": "code",
      "source": [
        "# find the angle of an array\n",
        "import numpy as np\n",
        "\n",
        "arr = np.array([1, -1, 0.1])\n",
        "result = np.arcsin(arr)\n",
        "print(result)"
      ],
      "metadata": {
        "colab": {
          "base_uri": "https://localhost:8080/"
        },
        "id": "LJV1dCcpdCKd",
        "outputId": "2e87a0aa-fc75-4e95-e39e-ef5b8ddad741"
      },
      "execution_count": 126,
      "outputs": [
        {
          "output_type": "stream",
          "name": "stdout",
          "text": [
            "[ 1.57079633 -1.57079633  0.10016742]\n"
          ]
        }
      ]
    },
    {
      "cell_type": "code",
      "source": [
        "# find the angle of an array\n",
        "import numpy as np\n",
        "\n",
        "arr = np.array([1, -1, 0.1])\n",
        "result = np.arccos(arr)\n",
        "print(result)"
      ],
      "metadata": {
        "colab": {
          "base_uri": "https://localhost:8080/"
        },
        "id": "YOvEUxIGe-fl",
        "outputId": "72129401-6bf9-4ef0-8373-c306348d7d60"
      },
      "execution_count": 127,
      "outputs": [
        {
          "output_type": "stream",
          "name": "stdout",
          "text": [
            "[0.         3.14159265 1.47062891]\n"
          ]
        }
      ]
    },
    {
      "cell_type": "code",
      "source": [
        "# find the angle of an array\n",
        "import numpy as np\n",
        "\n",
        "arr = np.array([1, -1, 0.1])\n",
        "result = np.arctan(arr)\n",
        "print(result)"
      ],
      "metadata": {
        "colab": {
          "base_uri": "https://localhost:8080/"
        },
        "id": "3-lvUe-He98f",
        "outputId": "61efc7d0-886d-46d6-9018-6624e5f74cdb"
      },
      "execution_count": 128,
      "outputs": [
        {
          "output_type": "stream",
          "name": "stdout",
          "text": [
            "[ 0.78539816 -0.78539816  0.09966865]\n"
          ]
        }
      ]
    },
    {
      "cell_type": "markdown",
      "source": [
        "**Hypotenues**"
      ],
      "metadata": {
        "id": "GRfmRXM0dLgO"
      }
    },
    {
      "cell_type": "markdown",
      "source": [
        "NumPy provides the **hypot()** function that takes the base and perpendicular values and produces hypotenues based on pythagoras theorem."
      ],
      "metadata": {
        "id": "dfkEVpI3dRzJ"
      }
    },
    {
      "cell_type": "code",
      "source": [
        "# Find the hypotenues for 4 base and 3 perpendicular\n",
        "import numpy as np\n",
        "\n",
        "base = 4\n",
        "perp = 3\n",
        "\n",
        "result = np.hypot(base, perp)\n",
        "print(result)"
      ],
      "metadata": {
        "colab": {
          "base_uri": "https://localhost:8080/"
        },
        "id": "0Jw1PftadTt8",
        "outputId": "164ef0ba-e291-4c55-914b-b0def3c7a99d"
      },
      "execution_count": 129,
      "outputs": [
        {
          "output_type": "stream",
          "name": "stdout",
          "text": [
            "5.0\n"
          ]
        }
      ]
    },
    {
      "cell_type": "code",
      "source": [
        "# Find the hypotenues for 3 base and 4 perpendicular\n",
        "import numpy as np\n",
        "\n",
        "base = 3\n",
        "perp = 4\n",
        "\n",
        "result = np.hypot(base, perp)\n",
        "print(result)"
      ],
      "metadata": {
        "colab": {
          "base_uri": "https://localhost:8080/"
        },
        "id": "WxKpe9uPfFyu",
        "outputId": "d4237e10-a01f-4402-f8cf-7f281f14b362"
      },
      "execution_count": 130,
      "outputs": [
        {
          "output_type": "stream",
          "name": "stdout",
          "text": [
            "5.0\n"
          ]
        }
      ]
    },
    {
      "cell_type": "markdown",
      "source": [
        "**NumPy Hyperbolic Functions**\n",
        "\n",
        "---\n",
        "\n"
      ],
      "metadata": {
        "id": "lK3T5pQnfWzk"
      }
    },
    {
      "cell_type": "markdown",
      "source": [
        "NumPy provides the ufuncs **sinh(), cosh() and tanh()** that take values in radians and produce the corresponding sinh, cosh and tanh values."
      ],
      "metadata": {
        "id": "2c_zZSGgfegO"
      }
    },
    {
      "cell_type": "code",
      "source": [
        "# find sinh value of pi/2\n",
        "import numpy as np\n",
        "\n",
        "result = np.sinh(np.pi/2)\n",
        "print(result)"
      ],
      "metadata": {
        "colab": {
          "base_uri": "https://localhost:8080/"
        },
        "id": "l_lYP3gCfhQf",
        "outputId": "9bf5f219-f7fb-4bef-cb82-4543b5c6990d"
      },
      "execution_count": 132,
      "outputs": [
        {
          "output_type": "stream",
          "name": "stdout",
          "text": [
            "2.3012989023072947\n"
          ]
        }
      ]
    },
    {
      "cell_type": "code",
      "source": [
        "# find cosh value of pi/2\n",
        "import numpy as np\n",
        "\n",
        "result = np.cosh(np.pi/2)\n",
        "print(result)"
      ],
      "metadata": {
        "colab": {
          "base_uri": "https://localhost:8080/"
        },
        "id": "bNkcNBtpf9YS",
        "outputId": "7216f42b-b8d8-4e0a-d170-6748d7949086"
      },
      "execution_count": 133,
      "outputs": [
        {
          "output_type": "stream",
          "name": "stdout",
          "text": [
            "2.5091784786580567\n"
          ]
        }
      ]
    },
    {
      "cell_type": "code",
      "source": [
        "# find tanh value of pi/2\n",
        "import numpy as np\n",
        "\n",
        "result = np.tanh(np.pi/2)\n",
        "print(result)"
      ],
      "metadata": {
        "colab": {
          "base_uri": "https://localhost:8080/"
        },
        "id": "ewYFM9Npf8zm",
        "outputId": "0fde532e-731f-4272-91e0-5da4e494e261"
      },
      "execution_count": 134,
      "outputs": [
        {
          "output_type": "stream",
          "name": "stdout",
          "text": [
            "0.9171523356672744\n"
          ]
        }
      ]
    },
    {
      "cell_type": "code",
      "source": [
        "# find sinh values of an array\n",
        "import numpy as np\n",
        "\n",
        "arr = np.array([np.pi/2, np.pi/3, np.pi/4, np.pi/5])\n",
        "result = np.sinh(arr)\n",
        "print(result)"
      ],
      "metadata": {
        "colab": {
          "base_uri": "https://localhost:8080/"
        },
        "id": "Zm5Z9DFNfwv5",
        "outputId": "71424c59-6158-4014-ce00-9094f3835f23"
      },
      "execution_count": 135,
      "outputs": [
        {
          "output_type": "stream",
          "name": "stdout",
          "text": [
            "[2.3012989  1.24936705 0.86867096 0.670484  ]\n"
          ]
        }
      ]
    },
    {
      "cell_type": "code",
      "source": [
        "# find cosh values of an array\n",
        "import numpy as np\n",
        "\n",
        "arr = np.array([np.pi/2, np.pi/3, np.pi/4, np.pi/5])\n",
        "result = np.cosh(arr)\n",
        "print(result)"
      ],
      "metadata": {
        "colab": {
          "base_uri": "https://localhost:8080/"
        },
        "id": "gXxusu12gFmF",
        "outputId": "5d714137-0b91-4c3a-b08c-09b93d51c1b4"
      },
      "execution_count": 136,
      "outputs": [
        {
          "output_type": "stream",
          "name": "stdout",
          "text": [
            "[2.50917848 1.60028686 1.32460909 1.20397209]\n"
          ]
        }
      ]
    },
    {
      "cell_type": "code",
      "source": [
        "# find tanh values of an array\n",
        "import numpy as np\n",
        "\n",
        "arr = np.array([np.pi/2, np.pi/3, np.pi/4, np.pi/5])\n",
        "result = np.tanh(arr)\n",
        "print(result)"
      ],
      "metadata": {
        "colab": {
          "base_uri": "https://localhost:8080/"
        },
        "id": "jWMrPp5_gFBF",
        "outputId": "af8ca3d6-c86e-419e-9167-35f6fd2c2e40"
      },
      "execution_count": 137,
      "outputs": [
        {
          "output_type": "stream",
          "name": "stdout",
          "text": [
            "[0.91715234 0.78071444 0.6557942  0.55689331]\n"
          ]
        }
      ]
    },
    {
      "cell_type": "markdown",
      "source": [
        "**Finding angles**"
      ],
      "metadata": {
        "id": "vAIEtREhgliH"
      }
    },
    {
      "cell_type": "markdown",
      "source": [
        "Numpy provides ufuncs **arcsinh(), arccosh() and arctanh()** that produce radian values for corresponding sinh, cosh and tanh values given."
      ],
      "metadata": {
        "id": "qstbDCz1goqd"
      }
    },
    {
      "cell_type": "code",
      "source": [
        "# find the angle of 1\n",
        "import numpy as np\n",
        "\n",
        "value = np.arcsinh(1)\n",
        "print(value)"
      ],
      "metadata": {
        "colab": {
          "base_uri": "https://localhost:8080/"
        },
        "id": "4lnf4GFkgrHp",
        "outputId": "d1abc505-7860-4528-f01c-7a17e9a8b595"
      },
      "execution_count": 138,
      "outputs": [
        {
          "output_type": "stream",
          "name": "stdout",
          "text": [
            "0.881373587019543\n"
          ]
        }
      ]
    },
    {
      "cell_type": "code",
      "source": [
        "# find the angle of 1\n",
        "import numpy as np\n",
        "\n",
        "value = np.arccosh(1)\n",
        "print(value)"
      ],
      "metadata": {
        "colab": {
          "base_uri": "https://localhost:8080/"
        },
        "id": "rtXX9ygfgyhs",
        "outputId": "e27c91cc-3c34-40e4-92ab-a256a2e27b09"
      },
      "execution_count": 141,
      "outputs": [
        {
          "output_type": "stream",
          "name": "stdout",
          "text": [
            "0.0\n"
          ]
        }
      ]
    },
    {
      "cell_type": "code",
      "source": [
        "# find the angle of 1\n",
        "import numpy as np\n",
        "\n",
        "value = np.arctanh(1)\n",
        "print(value)"
      ],
      "metadata": {
        "colab": {
          "base_uri": "https://localhost:8080/"
        },
        "id": "Izwm-s7QgyB8",
        "outputId": "ccaaedc6-e154-463f-c615-a5882cca1e8e"
      },
      "execution_count": 144,
      "outputs": [
        {
          "output_type": "stream",
          "name": "stdout",
          "text": [
            "inf\n"
          ]
        },
        {
          "output_type": "stream",
          "name": "stderr",
          "text": [
            "<ipython-input-144-27019c9f26d0>:4: RuntimeWarning: divide by zero encountered in arctanh\n",
            "  value = np.arctanh(1)\n"
          ]
        }
      ]
    },
    {
      "cell_type": "markdown",
      "source": [
        "**Angles of each value in arrays**"
      ],
      "metadata": {
        "id": "YlzQVW-shG4k"
      }
    },
    {
      "cell_type": "code",
      "source": [
        "# find the angle of an array\n",
        "import numpy as np\n",
        "\n",
        "arr = np.array([0.1, 0.2, 0.5])\n",
        "result = np.arcsinh(arr)\n",
        "print(result)"
      ],
      "metadata": {
        "colab": {
          "base_uri": "https://localhost:8080/"
        },
        "id": "UWgw4_MNhNpq",
        "outputId": "66cfc203-15ee-436b-9eec-d1f251f3f875"
      },
      "execution_count": 145,
      "outputs": [
        {
          "output_type": "stream",
          "name": "stdout",
          "text": [
            "[0.09983408 0.19869011 0.48121183]\n"
          ]
        }
      ]
    },
    {
      "cell_type": "code",
      "source": [
        "# find the angle of an array\n",
        "import numpy as np\n",
        "\n",
        "arr = np.array([0.1, 0.2, 0.5])\n",
        "result = np.arccosh(arr)\n",
        "print(result)"
      ],
      "metadata": {
        "colab": {
          "base_uri": "https://localhost:8080/"
        },
        "id": "P9yU6Rr4hNUI",
        "outputId": "e08a08de-e469-406e-f74c-bd336229e630"
      },
      "execution_count": 146,
      "outputs": [
        {
          "output_type": "stream",
          "name": "stdout",
          "text": [
            "[nan nan nan]\n"
          ]
        },
        {
          "output_type": "stream",
          "name": "stderr",
          "text": [
            "<ipython-input-146-2bcf93b99ca0>:5: RuntimeWarning: invalid value encountered in arccosh\n",
            "  result = np.arccosh(arr)\n"
          ]
        }
      ]
    },
    {
      "cell_type": "code",
      "source": [
        "# find the angle of an array\n",
        "import numpy as np\n",
        "\n",
        "arr = np.array([0.1, 0.2, 0.5])\n",
        "result = np.arctanh(arr)\n",
        "print(result)"
      ],
      "metadata": {
        "colab": {
          "base_uri": "https://localhost:8080/"
        },
        "id": "7zDN1SLnhM1r",
        "outputId": "aec4721f-0f98-497d-d1a8-9b6f779fd12d"
      },
      "execution_count": 147,
      "outputs": [
        {
          "output_type": "stream",
          "name": "stdout",
          "text": [
            "[0.10033535 0.20273255 0.54930614]\n"
          ]
        }
      ]
    },
    {
      "cell_type": "markdown",
      "source": [
        "**NumPy Set Operations**\n",
        "\n",
        "---\n",
        "\n"
      ],
      "metadata": {
        "id": "G-iVJQtBhbQ-"
      }
    },
    {
      "cell_type": "markdown",
      "source": [
        "A set in mathematics is a collection of unique elements.\n",
        "\n",
        "Sets are used for operations involving frequent intersection, union and difference operations."
      ],
      "metadata": {
        "id": "7xcXe9E5hfi1"
      }
    },
    {
      "cell_type": "code",
      "source": [
        "# create sets in numpy\n",
        "# We can use NumPy's unique() method to find unique elements from any array.\n",
        "import numpy as np\n",
        "\n",
        "arr = np.array([1, 1, 1, 2, 3, 4, 5, 5, 6, 7])\n",
        "result = np.unique(arr)\n",
        "print(result)"
      ],
      "metadata": {
        "colab": {
          "base_uri": "https://localhost:8080/"
        },
        "id": "2JB3f8-ahg5F",
        "outputId": "659d8094-021e-4e62-c578-102f21c5737e"
      },
      "execution_count": 158,
      "outputs": [
        {
          "output_type": "stream",
          "name": "stdout",
          "text": [
            "[1 2 3 4 5 6 7]\n"
          ]
        }
      ]
    },
    {
      "cell_type": "code",
      "source": [
        "# find the union\n",
        "# To find the unique values of two arrays, use the union1d() method.\n",
        "import numpy as np\n",
        "\n",
        "arr1 = np.array([1, 2, 3, 4])\n",
        "arr2 = np.array([3, 4, 5, 6])\n",
        "\n",
        "newarr = np.union1d(arr1, arr2)\n",
        "\n",
        "print(newarr)"
      ],
      "metadata": {
        "colab": {
          "base_uri": "https://localhost:8080/"
        },
        "id": "0XlVcG0AkfFI",
        "outputId": "e79bf677-8555-4082-b915-37adb558c4af"
      },
      "execution_count": 157,
      "outputs": [
        {
          "output_type": "stream",
          "name": "stdout",
          "text": [
            "[1 2 3 4 5 6]\n"
          ]
        }
      ]
    },
    {
      "cell_type": "code",
      "source": [
        "# find the intersection\n",
        "# To find only the values that are present in both arrays, use the intersect1d() method.\n",
        "import numpy as np\n",
        "\n",
        "arr1 = np.array([1, 2, 3, 4])\n",
        "arr2 = np.array([3, 4, 5, 6])\n",
        "\n",
        "newarr = np.intersect1d(arr1, arr2, assume_unique=True)\n",
        "\n",
        "print(newarr)"
      ],
      "metadata": {
        "colab": {
          "base_uri": "https://localhost:8080/"
        },
        "id": "7zOrsqUxklAU",
        "outputId": "fc8d46f3-0272-4c06-9da5-a964cfe64521"
      },
      "execution_count": 156,
      "outputs": [
        {
          "output_type": "stream",
          "name": "stdout",
          "text": [
            "[3 4]\n"
          ]
        }
      ]
    },
    {
      "cell_type": "code",
      "source": [
        "# find the difference\n",
        "# To find only the values in the first set that is NOT present in the seconds set, use the setdiff1d() method.\n",
        "import numpy as np\n",
        "\n",
        "set1 = np.array([1, 2, 3, 4])\n",
        "set2 = np.array([3, 4, 5, 6])\n",
        "\n",
        "newarr = np.setdiff1d(set1, set2, assume_unique=True)\n",
        "\n",
        "print(newarr)"
      ],
      "metadata": {
        "colab": {
          "base_uri": "https://localhost:8080/"
        },
        "id": "fsdsZ73Mkqrx",
        "outputId": "13ade985-d403-4664-d1a1-287c392bdff4"
      },
      "execution_count": 155,
      "outputs": [
        {
          "output_type": "stream",
          "name": "stdout",
          "text": [
            "[1 2]\n"
          ]
        }
      ]
    },
    {
      "cell_type": "code",
      "source": [
        "# find the symmetric difference\n",
        "# To find only the values that are NOT present in BOTH sets, use the setxor1d() method.\n",
        "import numpy as np\n",
        "\n",
        "set1 = np.array([1, 2, 3, 4])\n",
        "set2 = np.array([3, 4, 5, 6])\n",
        "\n",
        "newarr = np.setxor1d(set1, set2, assume_unique=True)\n",
        "\n",
        "print(newarr)"
      ],
      "metadata": {
        "colab": {
          "base_uri": "https://localhost:8080/"
        },
        "id": "OAEDtApukvy7",
        "outputId": "ad201274-331e-4eb6-ade7-67d21481a058"
      },
      "execution_count": 154,
      "outputs": [
        {
          "output_type": "stream",
          "name": "stdout",
          "text": [
            "[1 2 5 6]\n"
          ]
        }
      ]
    }
  ]
}