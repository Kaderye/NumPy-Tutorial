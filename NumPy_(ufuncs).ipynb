{
  "nbformat": 4,
  "nbformat_minor": 0,
  "metadata": {
    "colab": {
      "provenance": [],
      "authorship_tag": "ABX9TyPnZ/mCURz5SkmhPanFNSST",
      "include_colab_link": true
    },
    "kernelspec": {
      "name": "python3",
      "display_name": "Python 3"
    },
    "language_info": {
      "name": "python"
    }
  },
  "cells": [
    {
      "cell_type": "markdown",
      "metadata": {
        "id": "view-in-github",
        "colab_type": "text"
      },
      "source": [
        "<a href=\"https://colab.research.google.com/github/Kaderye/NumPy-Tutorial/blob/main/NumPy_(ufuncs).ipynb\" target=\"_parent\"><img src=\"https://colab.research.google.com/assets/colab-badge.svg\" alt=\"Open In Colab\"/></a>"
      ]
    },
    {
      "cell_type": "markdown",
      "source": [
        "# **NumPy (ufuncs)**"
      ],
      "metadata": {
        "id": "40D6v7VzePQg"
      }
    },
    {
      "cell_type": "markdown",
      "source": [
        "**ufuncs** stands for Universal Functions.\n",
        "\n",
        "It is operate on the **ndarray** object.\n",
        "\n",
        "ufuncs are used to implement **vectorization** (converting iterative statements into a vector based operation is called vectorization) in NumPy.\n",
        "\n",
        "\n",
        "\n",
        "Three arguments are:\n",
        "\n",
        "**where** : boolean array where the operations should take place.\n",
        "\n",
        "**dtype** : difining the return type of items.\n",
        "\n",
        "**out** : output array where the return value should be copied."
      ],
      "metadata": {
        "id": "5d38XYLTatD5"
      }
    },
    {
      "cell_type": "code",
      "execution_count": 2,
      "metadata": {
        "id": "aZl_v9tAQww7",
        "colab": {
          "base_uri": "https://localhost:8080/"
        },
        "outputId": "8be372ba-a85c-47f9-86a9-9486b1d0ac09"
      },
      "outputs": [
        {
          "output_type": "stream",
          "name": "stdout",
          "text": [
            "[7, 9, 11, 13, 15]\n"
          ]
        }
      ],
      "source": [
        "# add two lists using zip() method [without ufuncs]\n",
        "list_1=[1, 2, 3, 4, 5]\n",
        "list_2=[6, 7, 8, 9, 10]\n",
        "\n",
        "list=[]\n",
        "for i, j in zip(list_1, list_2):\n",
        "  list.append(i+j)\n",
        "print(list)"
      ]
    },
    {
      "cell_type": "code",
      "source": [
        "# add two lists using add() method [with ufuncs]\n",
        "import numpy as np\n",
        "\n",
        "list_1=[1, 2, 3, 4, 5]\n",
        "list_2=[6, 7, 8, 9, 10]\n",
        "\n",
        "list=np.add(list_1, list_2)\n",
        "print(list)"
      ],
      "metadata": {
        "colab": {
          "base_uri": "https://localhost:8080/"
        },
        "id": "2MPBFWCTcoau",
        "outputId": "5e1a5a06-a0f6-4507-f6b2-f4b456b9090a"
      },
      "execution_count": 4,
      "outputs": [
        {
          "output_type": "stream",
          "name": "stdout",
          "text": [
            "[ 7  9 11 13 15]\n"
          ]
        }
      ]
    },
    {
      "cell_type": "code",
      "source": [
        "# subtract two list usign subtract() method [with ufuncs]\n",
        "import numpy as np\n",
        "\n",
        "list_1=[1, 2, 3, 4, 5]\n",
        "list_2=[6, 7, 8, 9, 10]\n",
        "\n",
        "list=np.subtract(list_1, list_2)\n",
        "print(list)"
      ],
      "metadata": {
        "colab": {
          "base_uri": "https://localhost:8080/"
        },
        "id": "ZOLmLxhPdSon",
        "outputId": "c69c37fe-f19d-4bee-be5a-8184b5b49a6b"
      },
      "execution_count": 6,
      "outputs": [
        {
          "output_type": "stream",
          "name": "stdout",
          "text": [
            "[-5 -5 -5 -5 -5]\n"
          ]
        }
      ]
    },
    {
      "cell_type": "code",
      "source": [
        "# multiply two list usign multiply() method [with ufuncs]\n",
        "import numpy as np\n",
        "\n",
        "list_1=[1, 2, 3, 4, 5]\n",
        "list_2=[6, 7, 8, 9, 10]\n",
        "\n",
        "list=np.multiply(list_1, list_2)\n",
        "print(list)"
      ],
      "metadata": {
        "colab": {
          "base_uri": "https://localhost:8080/"
        },
        "id": "f6LT2u5Jd3Cp",
        "outputId": "d34659be-1628-416c-99c1-201fe9f055be"
      },
      "execution_count": 8,
      "outputs": [
        {
          "output_type": "stream",
          "name": "stdout",
          "text": [
            "[ 6 14 24 36 50]\n"
          ]
        }
      ]
    },
    {
      "cell_type": "markdown",
      "source": [
        "**Create your own ufunc**"
      ],
      "metadata": {
        "id": "y2gmr0CkeejY"
      }
    },
    {
      "cell_type": "markdown",
      "source": [
        "To create a function we used **frompyfunc()** method.\n",
        "\n",
        "The arguments of frompyfunc():\n",
        "\n",
        "**function** : the name of the function\n",
        "\n",
        "**inputs** : the number of input arrays\n",
        "\n",
        "**outputs**: the number of output arrays"
      ],
      "metadata": {
        "id": "dHcsFEHteifm"
      }
    },
    {
      "cell_type": "code",
      "source": [],
      "metadata": {
        "id": "RVYK1tWUfYkH"
      },
      "execution_count": null,
      "outputs": []
    }
  ]
}